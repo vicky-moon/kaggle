{
 "cells": [
  {
   "cell_type": "markdown",
   "id": "30d837b0",
   "metadata": {
    "papermill": {
     "duration": 0.039387,
     "end_time": "2022-03-18T16:15:11.733895",
     "exception": false,
     "start_time": "2022-03-18T16:15:11.694508",
     "status": "completed"
    },
    "tags": []
   },
   "source": [
    "# Load libraries"
   ]
  },
  {
   "cell_type": "code",
   "execution_count": 1,
   "id": "f7001d84",
   "metadata": {
    "execution": {
     "iopub.execute_input": "2022-03-18T16:15:11.825438Z",
     "iopub.status.busy": "2022-03-18T16:15:11.821625Z",
     "iopub.status.idle": "2022-03-18T16:15:13.792010Z",
     "shell.execute_reply": "2022-03-18T16:15:13.791525Z",
     "shell.execute_reply.started": "2022-03-18T16:12:43.342217Z"
    },
    "papermill": {
     "duration": 2.018743,
     "end_time": "2022-03-18T16:15:13.792165",
     "exception": false,
     "start_time": "2022-03-18T16:15:11.773422",
     "status": "completed"
    },
    "tags": []
   },
   "outputs": [
    {
     "data": {
      "text/html": [
       "<style type='text/css'>\n",
       ".datatable table.frame { margin-bottom: 0; }\n",
       ".datatable table.frame thead { border-bottom: none; }\n",
       ".datatable table.frame tr.coltypes td {  color: #FFFFFF;  line-height: 6px;  padding: 0 0.5em;}\n",
       ".datatable .bool    { background: #DDDD99; }\n",
       ".datatable .object  { background: #565656; }\n",
       ".datatable .int     { background: #5D9E5D; }\n",
       ".datatable .float   { background: #4040CC; }\n",
       ".datatable .str     { background: #CC4040; }\n",
       ".datatable .time    { background: #40CC40; }\n",
       ".datatable .row_index {  background: var(--jp-border-color3);  border-right: 1px solid var(--jp-border-color0);  color: var(--jp-ui-font-color3);  font-size: 9px;}\n",
       ".datatable .frame tbody td { text-align: left; }\n",
       ".datatable .frame tr.coltypes .row_index {  background: var(--jp-border-color0);}\n",
       ".datatable th:nth-child(2) { padding-left: 12px; }\n",
       ".datatable .hellipsis {  color: var(--jp-cell-editor-border-color);}\n",
       ".datatable .vellipsis {  background: var(--jp-layout-color0);  color: var(--jp-cell-editor-border-color);}\n",
       ".datatable .na {  color: var(--jp-cell-editor-border-color);  font-size: 80%;}\n",
       ".datatable .sp {  opacity: 0.25;}\n",
       ".datatable .footer { font-size: 9px; }\n",
       ".datatable .frame_dimensions {  background: var(--jp-border-color3);  border-top: 1px solid var(--jp-border-color0);  color: var(--jp-ui-font-color3);  display: inline-block;  opacity: 0.6;  padding: 1px 10px 1px 5px;}\n",
       "</style>\n"
      ],
      "text/plain": [
       "<IPython.core.display.HTML object>"
      ]
     },
     "metadata": {},
     "output_type": "display_data"
    }
   ],
   "source": [
    "import gc\n",
    "\n",
    "import numpy as np\n",
    "import pandas as pd\n",
    "\n",
    "from sklearn.model_selection import TimeSeriesSplit\n",
    "from sklearn.metrics import mean_squared_error\n",
    "\n",
    "from lightgbm import LGBMRegressor\n",
    "\n",
    "import seaborn as sns\n",
    "\n",
    "%matplotlib inline\n",
    "import matplotlib.pyplot as plt\n",
    "import matplotlib.image as mpimg\n",
    "\n",
    "import warnings\n",
    "warnings.filterwarnings('ignore')"
   ]
  },
  {
   "cell_type": "markdown",
   "id": "eb636961",
   "metadata": {
    "papermill": {
     "duration": 0.037616,
     "end_time": "2022-03-18T16:15:13.867811",
     "exception": false,
     "start_time": "2022-03-18T16:15:13.830195",
     "status": "completed"
    },
    "tags": []
   },
   "source": [
    "# Read data"
   ]
  },
  {
   "cell_type": "code",
   "execution_count": 2,
   "id": "9ef96b13",
   "metadata": {
    "execution": {
     "iopub.execute_input": "2022-03-18T16:15:13.947289Z",
     "iopub.status.busy": "2022-03-18T16:15:13.946794Z",
     "iopub.status.idle": "2022-03-18T16:15:14.817194Z",
     "shell.execute_reply": "2022-03-18T16:15:14.816554Z",
     "shell.execute_reply.started": "2022-03-18T16:12:43.353774Z"
    },
    "papermill": {
     "duration": 0.913131,
     "end_time": "2022-03-18T16:15:14.817318",
     "exception": false,
     "start_time": "2022-03-18T16:15:13.904187",
     "status": "completed"
    },
    "tags": []
   },
   "outputs": [
    {
     "name": "stdout",
     "output_type": "stream",
     "text": [
      "Train shape: (848835, 5)\n",
      "Test  shape: (2340, 4)\n"
     ]
    },
    {
     "data": {
      "text/html": [
       "<div>\n",
       "<style scoped>\n",
       "    .dataframe tbody tr th:only-of-type {\n",
       "        vertical-align: middle;\n",
       "    }\n",
       "\n",
       "    .dataframe tbody tr th {\n",
       "        vertical-align: top;\n",
       "    }\n",
       "\n",
       "    .dataframe thead th {\n",
       "        text-align: right;\n",
       "    }\n",
       "</style>\n",
       "<table border=\"1\" class=\"dataframe\">\n",
       "  <thead>\n",
       "    <tr style=\"text-align: right;\">\n",
       "      <th></th>\n",
       "      <th>time</th>\n",
       "      <th>x</th>\n",
       "      <th>y</th>\n",
       "      <th>direction</th>\n",
       "      <th>congestion</th>\n",
       "    </tr>\n",
       "  </thead>\n",
       "  <tbody>\n",
       "    <tr>\n",
       "      <th>0</th>\n",
       "      <td>1991-04-01 00:00:00</td>\n",
       "      <td>0</td>\n",
       "      <td>0</td>\n",
       "      <td>EB</td>\n",
       "      <td>70</td>\n",
       "    </tr>\n",
       "    <tr>\n",
       "      <th>1</th>\n",
       "      <td>1991-04-01 00:00:00</td>\n",
       "      <td>0</td>\n",
       "      <td>0</td>\n",
       "      <td>NB</td>\n",
       "      <td>49</td>\n",
       "    </tr>\n",
       "    <tr>\n",
       "      <th>2</th>\n",
       "      <td>1991-04-01 00:00:00</td>\n",
       "      <td>0</td>\n",
       "      <td>0</td>\n",
       "      <td>SB</td>\n",
       "      <td>24</td>\n",
       "    </tr>\n",
       "    <tr>\n",
       "      <th>3</th>\n",
       "      <td>1991-04-01 00:00:00</td>\n",
       "      <td>0</td>\n",
       "      <td>1</td>\n",
       "      <td>EB</td>\n",
       "      <td>18</td>\n",
       "    </tr>\n",
       "    <tr>\n",
       "      <th>4</th>\n",
       "      <td>1991-04-01 00:00:00</td>\n",
       "      <td>0</td>\n",
       "      <td>1</td>\n",
       "      <td>NB</td>\n",
       "      <td>60</td>\n",
       "    </tr>\n",
       "  </tbody>\n",
       "</table>\n",
       "</div>"
      ],
      "text/plain": [
       "                  time  x  y direction  congestion\n",
       "0  1991-04-01 00:00:00  0  0        EB          70\n",
       "1  1991-04-01 00:00:00  0  0        NB          49\n",
       "2  1991-04-01 00:00:00  0  0        SB          24\n",
       "3  1991-04-01 00:00:00  0  1        EB          18\n",
       "4  1991-04-01 00:00:00  0  1        NB          60"
      ]
     },
     "execution_count": 2,
     "metadata": {},
     "output_type": "execute_result"
    }
   ],
   "source": [
    "train = pd.read_csv(\"../input/tabular-playground-series-mar-2022/train.csv\")\n",
    "test = pd.read_csv(\"../input/tabular-playground-series-mar-2022/test.csv\")\n",
    "\n",
    "train.drop('row_id', axis=1, inplace=True)\n",
    "test.drop('row_id', axis=1, inplace=True)\n",
    "\n",
    "print('Train shape:', train.shape)\n",
    "print('Test  shape:', test.shape)\n",
    "\n",
    "train.head()"
   ]
  },
  {
   "cell_type": "markdown",
   "id": "7276f2cd",
   "metadata": {
    "papermill": {
     "duration": 0.058533,
     "end_time": "2022-03-18T16:15:14.934735",
     "exception": false,
     "start_time": "2022-03-18T16:15:14.876202",
     "status": "completed"
    },
    "tags": []
   },
   "source": [
    "# Data processing"
   ]
  },
  {
   "cell_type": "code",
   "execution_count": 3,
   "id": "f6db3373",
   "metadata": {
    "execution": {
     "iopub.execute_input": "2022-03-18T16:15:15.054879Z",
     "iopub.status.busy": "2022-03-18T16:15:15.054056Z",
     "iopub.status.idle": "2022-03-18T16:15:15.140240Z",
     "shell.execute_reply": "2022-03-18T16:15:15.140632Z",
     "shell.execute_reply.started": "2022-03-18T16:12:43.718714Z"
    },
    "papermill": {
     "duration": 0.147368,
     "end_time": "2022-03-18T16:15:15.140759",
     "exception": false,
     "start_time": "2022-03-18T16:15:14.993391",
     "status": "completed"
    },
    "tags": []
   },
   "outputs": [
    {
     "name": "stdout",
     "output_type": "stream",
     "text": [
      "## TRAIN set ##\n",
      "<class 'pandas.core.frame.DataFrame'>\n",
      "RangeIndex: 848835 entries, 0 to 848834\n",
      "Data columns (total 5 columns):\n",
      " #   Column      Non-Null Count   Dtype \n",
      "---  ------      --------------   ----- \n",
      " 0   time        848835 non-null  object\n",
      " 1   x           848835 non-null  int64 \n",
      " 2   y           848835 non-null  int64 \n",
      " 3   direction   848835 non-null  object\n",
      " 4   congestion  848835 non-null  int64 \n",
      "dtypes: int64(3), object(2)\n",
      "memory usage: 32.4+ MB\n",
      "None\n",
      "\n",
      "## TEST set ##\n",
      "<class 'pandas.core.frame.DataFrame'>\n",
      "RangeIndex: 2340 entries, 0 to 2339\n",
      "Data columns (total 4 columns):\n",
      " #   Column     Non-Null Count  Dtype \n",
      "---  ------     --------------  ----- \n",
      " 0   time       2340 non-null   object\n",
      " 1   x          2340 non-null   int64 \n",
      " 2   y          2340 non-null   int64 \n",
      " 3   direction  2340 non-null   object\n",
      "dtypes: int64(2), object(2)\n",
      "memory usage: 73.2+ KB\n",
      "None\n"
     ]
    }
   ],
   "source": [
    "print('## TRAIN set ##')\n",
    "print(train.info())\n",
    "print('\\n## TEST set ##')\n",
    "print(test.info())"
   ]
  },
  {
   "cell_type": "markdown",
   "id": "fcc54107",
   "metadata": {
    "papermill": {
     "duration": 0.038251,
     "end_time": "2022-03-18T16:15:15.217405",
     "exception": false,
     "start_time": "2022-03-18T16:15:15.179154",
     "status": "completed"
    },
    "tags": []
   },
   "source": [
    "There are **no null values** in both train and test set"
   ]
  },
  {
   "cell_type": "code",
   "execution_count": 4,
   "id": "4b68dac6",
   "metadata": {
    "execution": {
     "iopub.execute_input": "2022-03-18T16:15:15.296399Z",
     "iopub.status.busy": "2022-03-18T16:15:15.295928Z",
     "iopub.status.idle": "2022-03-18T16:15:15.364693Z",
     "shell.execute_reply": "2022-03-18T16:15:15.365142Z",
     "shell.execute_reply.started": "2022-03-18T16:12:43.796471Z"
    },
    "papermill": {
     "duration": 0.109417,
     "end_time": "2022-03-18T16:15:15.365262",
     "exception": false,
     "start_time": "2022-03-18T16:15:15.255845",
     "status": "completed"
    },
    "tags": []
   },
   "outputs": [
    {
     "data": {
      "text/html": [
       "<div>\n",
       "<style scoped>\n",
       "    .dataframe tbody tr th:only-of-type {\n",
       "        vertical-align: middle;\n",
       "    }\n",
       "\n",
       "    .dataframe tbody tr th {\n",
       "        vertical-align: top;\n",
       "    }\n",
       "\n",
       "    .dataframe thead th {\n",
       "        text-align: right;\n",
       "    }\n",
       "</style>\n",
       "<table border=\"1\" class=\"dataframe\">\n",
       "  <thead>\n",
       "    <tr style=\"text-align: right;\">\n",
       "      <th></th>\n",
       "      <th>x</th>\n",
       "      <th>y</th>\n",
       "      <th>congestion</th>\n",
       "    </tr>\n",
       "  </thead>\n",
       "  <tbody>\n",
       "    <tr>\n",
       "      <th>count</th>\n",
       "      <td>848835.000000</td>\n",
       "      <td>848835.000000</td>\n",
       "      <td>848835.000000</td>\n",
       "    </tr>\n",
       "    <tr>\n",
       "      <th>mean</th>\n",
       "      <td>1.138462</td>\n",
       "      <td>1.630769</td>\n",
       "      <td>47.815305</td>\n",
       "    </tr>\n",
       "    <tr>\n",
       "      <th>std</th>\n",
       "      <td>0.801478</td>\n",
       "      <td>1.089379</td>\n",
       "      <td>16.799392</td>\n",
       "    </tr>\n",
       "    <tr>\n",
       "      <th>min</th>\n",
       "      <td>0.000000</td>\n",
       "      <td>0.000000</td>\n",
       "      <td>0.000000</td>\n",
       "    </tr>\n",
       "    <tr>\n",
       "      <th>25%</th>\n",
       "      <td>0.000000</td>\n",
       "      <td>1.000000</td>\n",
       "      <td>35.000000</td>\n",
       "    </tr>\n",
       "    <tr>\n",
       "      <th>50%</th>\n",
       "      <td>1.000000</td>\n",
       "      <td>2.000000</td>\n",
       "      <td>47.000000</td>\n",
       "    </tr>\n",
       "    <tr>\n",
       "      <th>75%</th>\n",
       "      <td>2.000000</td>\n",
       "      <td>3.000000</td>\n",
       "      <td>60.000000</td>\n",
       "    </tr>\n",
       "    <tr>\n",
       "      <th>max</th>\n",
       "      <td>2.000000</td>\n",
       "      <td>3.000000</td>\n",
       "      <td>100.000000</td>\n",
       "    </tr>\n",
       "  </tbody>\n",
       "</table>\n",
       "</div>"
      ],
      "text/plain": [
       "                   x              y     congestion\n",
       "count  848835.000000  848835.000000  848835.000000\n",
       "mean        1.138462       1.630769      47.815305\n",
       "std         0.801478       1.089379      16.799392\n",
       "min         0.000000       0.000000       0.000000\n",
       "25%         0.000000       1.000000      35.000000\n",
       "50%         1.000000       2.000000      47.000000\n",
       "75%         2.000000       3.000000      60.000000\n",
       "max         2.000000       3.000000     100.000000"
      ]
     },
     "execution_count": 4,
     "metadata": {},
     "output_type": "execute_result"
    }
   ],
   "source": [
    "train.describe()"
   ]
  },
  {
   "cell_type": "code",
   "execution_count": 5,
   "id": "8e92790a",
   "metadata": {
    "execution": {
     "iopub.execute_input": "2022-03-18T16:15:15.445677Z",
     "iopub.status.busy": "2022-03-18T16:15:15.445231Z",
     "iopub.status.idle": "2022-03-18T16:15:15.454324Z",
     "shell.execute_reply": "2022-03-18T16:15:15.454742Z",
     "shell.execute_reply.started": "2022-03-18T16:12:43.867101Z"
    },
    "papermill": {
     "duration": 0.050468,
     "end_time": "2022-03-18T16:15:15.454842",
     "exception": false,
     "start_time": "2022-03-18T16:15:15.404374",
     "status": "completed"
    },
    "tags": []
   },
   "outputs": [
    {
     "data": {
      "text/plain": [
       "array([  0,   1,   2,   3,   4,   5,   6,   7,   8,   9,  10,  11,  12,\n",
       "        13,  14,  15,  16,  17,  18,  19,  20,  21,  22,  23,  24,  25,\n",
       "        26,  27,  28,  29,  30,  31,  32,  33,  34,  35,  36,  37,  38,\n",
       "        39,  40,  41,  42,  43,  44,  45,  46,  47,  48,  49,  50,  51,\n",
       "        52,  53,  54,  55,  56,  57,  58,  59,  60,  61,  62,  63,  64,\n",
       "        65,  66,  67,  68,  69,  70,  71,  72,  73,  74,  75,  76,  77,\n",
       "        78,  79,  80,  81,  82,  83,  84,  85,  86,  87,  88,  89,  90,\n",
       "        91,  92,  93,  94,  95,  96,  97,  98,  99, 100])"
      ]
     },
     "execution_count": 5,
     "metadata": {},
     "output_type": "execute_result"
    }
   ],
   "source": [
    "#target values from 0 to 100\n",
    "np.sort(train.congestion.unique())"
   ]
  },
  {
   "cell_type": "code",
   "execution_count": 6,
   "id": "fc642ed8",
   "metadata": {
    "execution": {
     "iopub.execute_input": "2022-03-18T16:15:15.540803Z",
     "iopub.status.busy": "2022-03-18T16:15:15.537441Z",
     "iopub.status.idle": "2022-03-18T16:15:15.550659Z",
     "shell.execute_reply": "2022-03-18T16:15:15.550288Z",
     "shell.execute_reply.started": "2022-03-18T16:12:43.877851Z"
    },
    "papermill": {
     "duration": 0.057027,
     "end_time": "2022-03-18T16:15:15.550760",
     "exception": false,
     "start_time": "2022-03-18T16:15:15.493733",
     "status": "completed"
    },
    "tags": []
   },
   "outputs": [
    {
     "data": {
      "text/html": [
       "<div>\n",
       "<style scoped>\n",
       "    .dataframe tbody tr th:only-of-type {\n",
       "        vertical-align: middle;\n",
       "    }\n",
       "\n",
       "    .dataframe tbody tr th {\n",
       "        vertical-align: top;\n",
       "    }\n",
       "\n",
       "    .dataframe thead th {\n",
       "        text-align: right;\n",
       "    }\n",
       "</style>\n",
       "<table border=\"1\" class=\"dataframe\">\n",
       "  <thead>\n",
       "    <tr style=\"text-align: right;\">\n",
       "      <th></th>\n",
       "      <th>x</th>\n",
       "      <th>y</th>\n",
       "    </tr>\n",
       "  </thead>\n",
       "  <tbody>\n",
       "    <tr>\n",
       "      <th>count</th>\n",
       "      <td>2340.000000</td>\n",
       "      <td>2340.000000</td>\n",
       "    </tr>\n",
       "    <tr>\n",
       "      <th>mean</th>\n",
       "      <td>1.138462</td>\n",
       "      <td>1.630769</td>\n",
       "    </tr>\n",
       "    <tr>\n",
       "      <th>std</th>\n",
       "      <td>0.801649</td>\n",
       "      <td>1.089611</td>\n",
       "    </tr>\n",
       "    <tr>\n",
       "      <th>min</th>\n",
       "      <td>0.000000</td>\n",
       "      <td>0.000000</td>\n",
       "    </tr>\n",
       "    <tr>\n",
       "      <th>25%</th>\n",
       "      <td>0.000000</td>\n",
       "      <td>1.000000</td>\n",
       "    </tr>\n",
       "    <tr>\n",
       "      <th>50%</th>\n",
       "      <td>1.000000</td>\n",
       "      <td>2.000000</td>\n",
       "    </tr>\n",
       "    <tr>\n",
       "      <th>75%</th>\n",
       "      <td>2.000000</td>\n",
       "      <td>3.000000</td>\n",
       "    </tr>\n",
       "    <tr>\n",
       "      <th>max</th>\n",
       "      <td>2.000000</td>\n",
       "      <td>3.000000</td>\n",
       "    </tr>\n",
       "  </tbody>\n",
       "</table>\n",
       "</div>"
      ],
      "text/plain": [
       "                 x            y\n",
       "count  2340.000000  2340.000000\n",
       "mean      1.138462     1.630769\n",
       "std       0.801649     1.089611\n",
       "min       0.000000     0.000000\n",
       "25%       0.000000     1.000000\n",
       "50%       1.000000     2.000000\n",
       "75%       2.000000     3.000000\n",
       "max       2.000000     3.000000"
      ]
     },
     "execution_count": 6,
     "metadata": {},
     "output_type": "execute_result"
    }
   ],
   "source": [
    "test.describe()"
   ]
  },
  {
   "cell_type": "code",
   "execution_count": 7,
   "id": "637f5933",
   "metadata": {
    "execution": {
     "iopub.execute_input": "2022-03-18T16:15:15.635258Z",
     "iopub.status.busy": "2022-03-18T16:15:15.634683Z",
     "iopub.status.idle": "2022-03-18T16:15:15.647865Z",
     "shell.execute_reply": "2022-03-18T16:15:15.648393Z",
     "shell.execute_reply.started": "2022-03-18T16:12:43.899200Z"
    },
    "papermill": {
     "duration": 0.05815,
     "end_time": "2022-03-18T16:15:15.648563",
     "exception": false,
     "start_time": "2022-03-18T16:15:15.590413",
     "status": "completed"
    },
    "tags": []
   },
   "outputs": [
    {
     "name": "stdout",
     "output_type": "stream",
     "text": [
      "## x train/test##\n",
      "[0 1 2] / [0 1 2]\n",
      "\n",
      "## y train/test##\n",
      "[0 1 2 3] / [0 1 2 3]\n"
     ]
    }
   ],
   "source": [
    "print('## x train/test##')\n",
    "print(train.x.unique(), '/', test.x.unique())\n",
    "\n",
    "print('\\n## y train/test##')\n",
    "print(train.y.unique(), '/', test.y.unique())"
   ]
  },
  {
   "cell_type": "markdown",
   "id": "91465d9f",
   "metadata": {
    "papermill": {
     "duration": 0.062159,
     "end_time": "2022-03-18T16:15:15.772615",
     "exception": false,
     "start_time": "2022-03-18T16:15:15.710456",
     "status": "completed"
    },
    "tags": []
   },
   "source": [
    "## Extract date-time features"
   ]
  },
  {
   "cell_type": "code",
   "execution_count": 8,
   "id": "6c02e06e",
   "metadata": {
    "execution": {
     "iopub.execute_input": "2022-03-18T16:15:15.906836Z",
     "iopub.status.busy": "2022-03-18T16:15:15.900777Z",
     "iopub.status.idle": "2022-03-18T16:15:16.696875Z",
     "shell.execute_reply": "2022-03-18T16:15:16.696459Z",
     "shell.execute_reply.started": "2022-03-18T16:12:43.918440Z"
    },
    "papermill": {
     "duration": 0.861406,
     "end_time": "2022-03-18T16:15:16.696985",
     "exception": false,
     "start_time": "2022-03-18T16:15:15.835579",
     "status": "completed"
    },
    "tags": []
   },
   "outputs": [
    {
     "data": {
      "text/html": [
       "<div>\n",
       "<style scoped>\n",
       "    .dataframe tbody tr th:only-of-type {\n",
       "        vertical-align: middle;\n",
       "    }\n",
       "\n",
       "    .dataframe tbody tr th {\n",
       "        vertical-align: top;\n",
       "    }\n",
       "\n",
       "    .dataframe thead th {\n",
       "        text-align: right;\n",
       "    }\n",
       "</style>\n",
       "<table border=\"1\" class=\"dataframe\">\n",
       "  <thead>\n",
       "    <tr style=\"text-align: right;\">\n",
       "      <th></th>\n",
       "      <th>x</th>\n",
       "      <th>y</th>\n",
       "      <th>direction</th>\n",
       "      <th>congestion</th>\n",
       "      <th>date</th>\n",
       "      <th>day</th>\n",
       "      <th>year</th>\n",
       "      <th>month</th>\n",
       "      <th>dayofweek</th>\n",
       "      <th>hour</th>\n",
       "      <th>minute</th>\n",
       "    </tr>\n",
       "  </thead>\n",
       "  <tbody>\n",
       "    <tr>\n",
       "      <th>848830</th>\n",
       "      <td>2</td>\n",
       "      <td>3</td>\n",
       "      <td>NB</td>\n",
       "      <td>54</td>\n",
       "      <td>1991-09-30 11:40:00</td>\n",
       "      <td>30</td>\n",
       "      <td>1991</td>\n",
       "      <td>9</td>\n",
       "      <td>0</td>\n",
       "      <td>11</td>\n",
       "      <td>40</td>\n",
       "    </tr>\n",
       "    <tr>\n",
       "      <th>848831</th>\n",
       "      <td>2</td>\n",
       "      <td>3</td>\n",
       "      <td>NE</td>\n",
       "      <td>28</td>\n",
       "      <td>1991-09-30 11:40:00</td>\n",
       "      <td>30</td>\n",
       "      <td>1991</td>\n",
       "      <td>9</td>\n",
       "      <td>0</td>\n",
       "      <td>11</td>\n",
       "      <td>40</td>\n",
       "    </tr>\n",
       "    <tr>\n",
       "      <th>848832</th>\n",
       "      <td>2</td>\n",
       "      <td>3</td>\n",
       "      <td>SB</td>\n",
       "      <td>68</td>\n",
       "      <td>1991-09-30 11:40:00</td>\n",
       "      <td>30</td>\n",
       "      <td>1991</td>\n",
       "      <td>9</td>\n",
       "      <td>0</td>\n",
       "      <td>11</td>\n",
       "      <td>40</td>\n",
       "    </tr>\n",
       "    <tr>\n",
       "      <th>848833</th>\n",
       "      <td>2</td>\n",
       "      <td>3</td>\n",
       "      <td>SW</td>\n",
       "      <td>17</td>\n",
       "      <td>1991-09-30 11:40:00</td>\n",
       "      <td>30</td>\n",
       "      <td>1991</td>\n",
       "      <td>9</td>\n",
       "      <td>0</td>\n",
       "      <td>11</td>\n",
       "      <td>40</td>\n",
       "    </tr>\n",
       "    <tr>\n",
       "      <th>848834</th>\n",
       "      <td>2</td>\n",
       "      <td>3</td>\n",
       "      <td>WB</td>\n",
       "      <td>24</td>\n",
       "      <td>1991-09-30 11:40:00</td>\n",
       "      <td>30</td>\n",
       "      <td>1991</td>\n",
       "      <td>9</td>\n",
       "      <td>0</td>\n",
       "      <td>11</td>\n",
       "      <td>40</td>\n",
       "    </tr>\n",
       "  </tbody>\n",
       "</table>\n",
       "</div>"
      ],
      "text/plain": [
       "        x  y direction  congestion                date  day  year  month  \\\n",
       "848830  2  3        NB          54 1991-09-30 11:40:00   30  1991      9   \n",
       "848831  2  3        NE          28 1991-09-30 11:40:00   30  1991      9   \n",
       "848832  2  3        SB          68 1991-09-30 11:40:00   30  1991      9   \n",
       "848833  2  3        SW          17 1991-09-30 11:40:00   30  1991      9   \n",
       "848834  2  3        WB          24 1991-09-30 11:40:00   30  1991      9   \n",
       "\n",
       "        dayofweek  hour  minute  \n",
       "848830          0    11      40  \n",
       "848831          0    11      40  \n",
       "848832          0    11      40  \n",
       "848833          0    11      40  \n",
       "848834          0    11      40  "
      ]
     },
     "execution_count": 8,
     "metadata": {},
     "output_type": "execute_result"
    }
   ],
   "source": [
    "train['date'] = pd.to_datetime(train['time'])\n",
    "test['date'] = pd.to_datetime(test['time'])\n",
    "\n",
    "train['day'] = train['date'].dt.day\n",
    "test['day'] = test['date'].dt.day\n",
    "\n",
    "train['year'] = train['date'].dt.year\n",
    "test['year'] = test['date'].dt.year\n",
    "\n",
    "train['month'] = train['date'].dt.month\n",
    "test['month'] = test['date'].dt.month\n",
    "\n",
    "train['dayofweek'] = train['date'].dt.dayofweek\n",
    "test['dayofweek'] = test['date'].dt.dayofweek\n",
    "\n",
    "train['hour'] = train['date'].dt.hour\n",
    "test['hour'] = test['date'].dt.hour\n",
    "\n",
    "train['minute'] = train['date'].dt.minute\n",
    "test['minute'] = test['date'].dt.minute\n",
    "\n",
    "train.drop('time', inplace=True, axis=1)\n",
    "test.drop('time', inplace=True, axis=1)\n",
    "\n",
    "train.tail()"
   ]
  },
  {
   "cell_type": "code",
   "execution_count": 9,
   "id": "9928ed84",
   "metadata": {
    "execution": {
     "iopub.execute_input": "2022-03-18T16:15:16.780931Z",
     "iopub.status.busy": "2022-03-18T16:15:16.780438Z",
     "iopub.status.idle": "2022-03-18T16:15:16.831184Z",
     "shell.execute_reply": "2022-03-18T16:15:16.830678Z",
     "shell.execute_reply.started": "2022-03-18T16:12:44.745470Z"
    },
    "papermill": {
     "duration": 0.093563,
     "end_time": "2022-03-18T16:15:16.831292",
     "exception": false,
     "start_time": "2022-03-18T16:15:16.737729",
     "status": "completed"
    },
    "tags": []
   },
   "outputs": [
    {
     "name": "stdout",
     "output_type": "stream",
     "text": [
      "## year ## train/test\n",
      "[1991] / [1991]\n",
      "\n",
      "## month ## train/test\n",
      "[4 5 6 7 8 9] / [9]\n",
      "\n",
      "## day ## train/test\n",
      "[ 1  2  3  4  5  6  7  8  9 10 11 12 13 14 15 16 17 18 19 20 21 22 23 24\n",
      " 25 26 27 28 29 30 31] / [30]\n",
      "\n",
      "## day in month=9 ## train/test\n",
      "[ 1  2  3  4  5  6  7  8  9 10 11 12 13 14 15 16 17 18 19 20 21 22 23 24\n",
      " 25 26 27 28 29 30] / [30]\n",
      "\n",
      "## hour in month=9 & day=30 ## train/test\n",
      "[ 0  1  2  3  4  5  6  7  8  9 10 11] / [12 13 14 15 16 17 18 19 20 21 22 23]\n",
      "\n",
      "## day of week\n",
      "[0 1 2 3 4 5 6] / [0]\n",
      "\n",
      "## 30.09.1991 day of week\n"
     ]
    },
    {
     "data": {
      "text/plain": [
       "array([0])"
      ]
     },
     "execution_count": 9,
     "metadata": {},
     "output_type": "execute_result"
    }
   ],
   "source": [
    "print('## year ## train/test')\n",
    "print(train.year.unique(), '/', test.year.unique())\n",
    "\n",
    "print('\\n## month ## train/test')\n",
    "print(train.month.unique(), '/', test.month.unique())\n",
    "\n",
    "print('\\n## day ## train/test')\n",
    "print(train.day.unique(), '/', test.day.unique())\n",
    "\n",
    "print('\\n## day in month=9 ## train/test')\n",
    "print(train[train.month == 9]['day'].unique(), '/', test[test.month == 9]['day'].unique())\n",
    "\n",
    "print('\\n## hour in month=9 & day=30 ## train/test')\n",
    "print(train[(train.month == 9) & (train.day == 30)]['hour'].unique(), '/', test[(test.month == 9) & (test.day == 30)]['hour'].unique())\n",
    "\n",
    "print('\\n## day of week')\n",
    "print(train.dayofweek.unique(), '/', test.dayofweek.unique())\n",
    "\n",
    "print('\\n## 30.09.1991 day of week')\n",
    "train[(train.month == 9) & (train.day == 30)]['dayofweek'].unique()"
   ]
  },
  {
   "cell_type": "markdown",
   "id": "3311e2ee",
   "metadata": {
    "papermill": {
     "duration": 0.040554,
     "end_time": "2022-03-18T16:15:16.915588",
     "exception": false,
     "start_time": "2022-03-18T16:15:16.875034",
     "status": "completed"
    },
    "tags": []
   },
   "source": [
    "**We have to predict traffic at 30.09.1991 from 12 till 23 hours**\n",
    "\n",
    "And we have all previous data in our train set\n",
    "\n",
    "**30.09.1991 was a Monday**"
   ]
  },
  {
   "cell_type": "markdown",
   "id": "23b8a069",
   "metadata": {
    "papermill": {
     "duration": 0.040315,
     "end_time": "2022-03-18T16:15:16.996565",
     "exception": false,
     "start_time": "2022-03-18T16:15:16.956250",
     "status": "completed"
    },
    "tags": []
   },
   "source": [
    "## Direction feature"
   ]
  },
  {
   "cell_type": "code",
   "execution_count": 10,
   "id": "8478dd00",
   "metadata": {
    "execution": {
     "iopub.execute_input": "2022-03-18T16:15:17.141880Z",
     "iopub.status.busy": "2022-03-18T16:15:17.117809Z",
     "iopub.status.idle": "2022-03-18T16:15:17.154658Z",
     "shell.execute_reply": "2022-03-18T16:15:17.154183Z",
     "shell.execute_reply.started": "2022-03-18T16:12:44.800735Z"
    },
    "papermill": {
     "duration": 0.118136,
     "end_time": "2022-03-18T16:15:17.154789",
     "exception": false,
     "start_time": "2022-03-18T16:15:17.036653",
     "status": "completed"
    },
    "tags": []
   },
   "outputs": [
    {
     "name": "stdout",
     "output_type": "stream",
     "text": [
      "train/test\n",
      "['EB' 'NB' 'SB' 'WB' 'NE' 'SW' 'NW' 'SE']\n",
      "['EB' 'NB' 'SB' 'WB' 'NE' 'SW' 'NW' 'SE']\n"
     ]
    }
   ],
   "source": [
    "print('train/test')\n",
    "print(train.direction.unique())\n",
    "print(test.direction.unique())"
   ]
  },
  {
   "cell_type": "code",
   "execution_count": 11,
   "id": "f7eea7e8",
   "metadata": {
    "execution": {
     "iopub.execute_input": "2022-03-18T16:15:17.241948Z",
     "iopub.status.busy": "2022-03-18T16:15:17.241331Z",
     "iopub.status.idle": "2022-03-18T16:15:17.477478Z",
     "shell.execute_reply": "2022-03-18T16:15:17.476982Z",
     "shell.execute_reply.started": "2022-03-18T16:12:44.901369Z"
    },
    "papermill": {
     "duration": 0.280357,
     "end_time": "2022-03-18T16:15:17.477577",
     "exception": false,
     "start_time": "2022-03-18T16:15:17.197220",
     "status": "completed"
    },
    "tags": []
   },
   "outputs": [
    {
     "name": "stdout",
     "output_type": "stream",
     "text": [
      "Train shape: (848835, 19)\n",
      "Test  shape: (2340, 18)\n"
     ]
    },
    {
     "data": {
      "text/html": [
       "<div>\n",
       "<style scoped>\n",
       "    .dataframe tbody tr th:only-of-type {\n",
       "        vertical-align: middle;\n",
       "    }\n",
       "\n",
       "    .dataframe tbody tr th {\n",
       "        vertical-align: top;\n",
       "    }\n",
       "\n",
       "    .dataframe thead th {\n",
       "        text-align: right;\n",
       "    }\n",
       "</style>\n",
       "<table border=\"1\" class=\"dataframe\">\n",
       "  <thead>\n",
       "    <tr style=\"text-align: right;\">\n",
       "      <th></th>\n",
       "      <th>x</th>\n",
       "      <th>y</th>\n",
       "      <th>direction</th>\n",
       "      <th>congestion</th>\n",
       "      <th>date</th>\n",
       "      <th>day</th>\n",
       "      <th>year</th>\n",
       "      <th>month</th>\n",
       "      <th>dayofweek</th>\n",
       "      <th>hour</th>\n",
       "      <th>minute</th>\n",
       "      <th>direction_EB</th>\n",
       "      <th>direction_NB</th>\n",
       "      <th>direction_NE</th>\n",
       "      <th>direction_NW</th>\n",
       "      <th>direction_SB</th>\n",
       "      <th>direction_SE</th>\n",
       "      <th>direction_SW</th>\n",
       "      <th>direction_WB</th>\n",
       "    </tr>\n",
       "  </thead>\n",
       "  <tbody>\n",
       "    <tr>\n",
       "      <th>0</th>\n",
       "      <td>0</td>\n",
       "      <td>0</td>\n",
       "      <td>EB</td>\n",
       "      <td>70</td>\n",
       "      <td>1991-04-01</td>\n",
       "      <td>1</td>\n",
       "      <td>1991</td>\n",
       "      <td>4</td>\n",
       "      <td>0</td>\n",
       "      <td>0</td>\n",
       "      <td>0</td>\n",
       "      <td>1</td>\n",
       "      <td>0</td>\n",
       "      <td>0</td>\n",
       "      <td>0</td>\n",
       "      <td>0</td>\n",
       "      <td>0</td>\n",
       "      <td>0</td>\n",
       "      <td>0</td>\n",
       "    </tr>\n",
       "    <tr>\n",
       "      <th>1</th>\n",
       "      <td>0</td>\n",
       "      <td>0</td>\n",
       "      <td>NB</td>\n",
       "      <td>49</td>\n",
       "      <td>1991-04-01</td>\n",
       "      <td>1</td>\n",
       "      <td>1991</td>\n",
       "      <td>4</td>\n",
       "      <td>0</td>\n",
       "      <td>0</td>\n",
       "      <td>0</td>\n",
       "      <td>0</td>\n",
       "      <td>1</td>\n",
       "      <td>0</td>\n",
       "      <td>0</td>\n",
       "      <td>0</td>\n",
       "      <td>0</td>\n",
       "      <td>0</td>\n",
       "      <td>0</td>\n",
       "    </tr>\n",
       "    <tr>\n",
       "      <th>2</th>\n",
       "      <td>0</td>\n",
       "      <td>0</td>\n",
       "      <td>SB</td>\n",
       "      <td>24</td>\n",
       "      <td>1991-04-01</td>\n",
       "      <td>1</td>\n",
       "      <td>1991</td>\n",
       "      <td>4</td>\n",
       "      <td>0</td>\n",
       "      <td>0</td>\n",
       "      <td>0</td>\n",
       "      <td>0</td>\n",
       "      <td>0</td>\n",
       "      <td>0</td>\n",
       "      <td>0</td>\n",
       "      <td>1</td>\n",
       "      <td>0</td>\n",
       "      <td>0</td>\n",
       "      <td>0</td>\n",
       "    </tr>\n",
       "    <tr>\n",
       "      <th>3</th>\n",
       "      <td>0</td>\n",
       "      <td>1</td>\n",
       "      <td>EB</td>\n",
       "      <td>18</td>\n",
       "      <td>1991-04-01</td>\n",
       "      <td>1</td>\n",
       "      <td>1991</td>\n",
       "      <td>4</td>\n",
       "      <td>0</td>\n",
       "      <td>0</td>\n",
       "      <td>0</td>\n",
       "      <td>1</td>\n",
       "      <td>0</td>\n",
       "      <td>0</td>\n",
       "      <td>0</td>\n",
       "      <td>0</td>\n",
       "      <td>0</td>\n",
       "      <td>0</td>\n",
       "      <td>0</td>\n",
       "    </tr>\n",
       "    <tr>\n",
       "      <th>4</th>\n",
       "      <td>0</td>\n",
       "      <td>1</td>\n",
       "      <td>NB</td>\n",
       "      <td>60</td>\n",
       "      <td>1991-04-01</td>\n",
       "      <td>1</td>\n",
       "      <td>1991</td>\n",
       "      <td>4</td>\n",
       "      <td>0</td>\n",
       "      <td>0</td>\n",
       "      <td>0</td>\n",
       "      <td>0</td>\n",
       "      <td>1</td>\n",
       "      <td>0</td>\n",
       "      <td>0</td>\n",
       "      <td>0</td>\n",
       "      <td>0</td>\n",
       "      <td>0</td>\n",
       "      <td>0</td>\n",
       "    </tr>\n",
       "  </tbody>\n",
       "</table>\n",
       "</div>"
      ],
      "text/plain": [
       "   x  y direction  congestion       date  day  year  month  dayofweek  hour  \\\n",
       "0  0  0        EB          70 1991-04-01    1  1991      4          0     0   \n",
       "1  0  0        NB          49 1991-04-01    1  1991      4          0     0   \n",
       "2  0  0        SB          24 1991-04-01    1  1991      4          0     0   \n",
       "3  0  1        EB          18 1991-04-01    1  1991      4          0     0   \n",
       "4  0  1        NB          60 1991-04-01    1  1991      4          0     0   \n",
       "\n",
       "   minute  direction_EB  direction_NB  direction_NE  direction_NW  \\\n",
       "0       0             1             0             0             0   \n",
       "1       0             0             1             0             0   \n",
       "2       0             0             0             0             0   \n",
       "3       0             1             0             0             0   \n",
       "4       0             0             1             0             0   \n",
       "\n",
       "   direction_SB  direction_SE  direction_SW  direction_WB  \n",
       "0             0             0             0             0  \n",
       "1             0             0             0             0  \n",
       "2             1             0             0             0  \n",
       "3             0             0             0             0  \n",
       "4             0             0             0             0  "
      ]
     },
     "execution_count": 11,
     "metadata": {},
     "output_type": "execute_result"
    }
   ],
   "source": [
    "#One-hot encoding\n",
    "cols = ['direction']\n",
    "train = pd.concat([train, pd.get_dummies(train[cols], prefix=cols)], axis=1)\n",
    "test = pd.concat([test, pd.get_dummies(test[cols], prefix=cols)], axis=1)\n",
    "\n",
    "\n",
    "print('Train shape:', train.shape)\n",
    "print('Test  shape:', test.shape) \n",
    "train.head()"
   ]
  },
  {
   "cell_type": "markdown",
   "id": "3d65a478",
   "metadata": {
    "papermill": {
     "duration": 0.043519,
     "end_time": "2022-03-18T16:15:17.565154",
     "exception": false,
     "start_time": "2022-03-18T16:15:17.521635",
     "status": "completed"
    },
    "tags": []
   },
   "source": [
    "# Feature engineering"
   ]
  },
  {
   "cell_type": "code",
   "execution_count": 12,
   "id": "9fcf27c7",
   "metadata": {
    "execution": {
     "iopub.execute_input": "2022-03-18T16:15:17.657728Z",
     "iopub.status.busy": "2022-03-18T16:15:17.657149Z",
     "iopub.status.idle": "2022-03-18T16:15:17.765039Z",
     "shell.execute_reply": "2022-03-18T16:15:17.765427Z",
     "shell.execute_reply.started": "2022-03-18T16:12:45.154936Z"
    },
    "papermill": {
     "duration": 0.156469,
     "end_time": "2022-03-18T16:15:17.765561",
     "exception": false,
     "start_time": "2022-03-18T16:15:17.609092",
     "status": "completed"
    },
    "tags": []
   },
   "outputs": [],
   "source": [
    "#Only days except weekend and Friday\n",
    "train = train[train.dayofweek < 4]"
   ]
  },
  {
   "cell_type": "markdown",
   "id": "83257d86",
   "metadata": {
    "papermill": {
     "duration": 0.043748,
     "end_time": "2022-03-18T16:15:17.852076",
     "exception": false,
     "start_time": "2022-03-18T16:15:17.808328",
     "status": "completed"
    },
    "tags": []
   },
   "source": [
    "### hour + minutes"
   ]
  },
  {
   "cell_type": "code",
   "execution_count": 13,
   "id": "101c1110",
   "metadata": {
    "execution": {
     "iopub.execute_input": "2022-03-18T16:15:17.943397Z",
     "iopub.status.busy": "2022-03-18T16:15:17.942864Z",
     "iopub.status.idle": "2022-03-18T16:15:18.021066Z",
     "shell.execute_reply": "2022-03-18T16:15:18.020526Z",
     "shell.execute_reply.started": "2022-03-18T16:12:45.232520Z"
    },
    "papermill": {
     "duration": 0.126696,
     "end_time": "2022-03-18T16:15:18.021231",
     "exception": false,
     "start_time": "2022-03-18T16:15:17.894535",
     "status": "completed"
    },
    "tags": []
   },
   "outputs": [
    {
     "name": "stdout",
     "output_type": "stream",
     "text": [
      "[ 0  1  2  3  4  5  6  7  8  9 10 11 12 13 14 15 16 17 18 19 20 21 22 23]\n"
     ]
    },
    {
     "data": {
      "text/html": [
       "<div>\n",
       "<style scoped>\n",
       "    .dataframe tbody tr th:only-of-type {\n",
       "        vertical-align: middle;\n",
       "    }\n",
       "\n",
       "    .dataframe tbody tr th {\n",
       "        vertical-align: top;\n",
       "    }\n",
       "\n",
       "    .dataframe thead th {\n",
       "        text-align: right;\n",
       "    }\n",
       "</style>\n",
       "<table border=\"1\" class=\"dataframe\">\n",
       "  <thead>\n",
       "    <tr style=\"text-align: right;\">\n",
       "      <th></th>\n",
       "      <th>x</th>\n",
       "      <th>y</th>\n",
       "      <th>direction</th>\n",
       "      <th>congestion</th>\n",
       "      <th>date</th>\n",
       "      <th>day</th>\n",
       "      <th>year</th>\n",
       "      <th>month</th>\n",
       "      <th>dayofweek</th>\n",
       "      <th>hour</th>\n",
       "      <th>minute</th>\n",
       "      <th>direction_EB</th>\n",
       "      <th>direction_NB</th>\n",
       "      <th>direction_NE</th>\n",
       "      <th>direction_NW</th>\n",
       "      <th>direction_SB</th>\n",
       "      <th>direction_SE</th>\n",
       "      <th>direction_SW</th>\n",
       "      <th>direction_WB</th>\n",
       "      <th>hour_min</th>\n",
       "    </tr>\n",
       "  </thead>\n",
       "  <tbody>\n",
       "    <tr>\n",
       "      <th>848830</th>\n",
       "      <td>2</td>\n",
       "      <td>3</td>\n",
       "      <td>NB</td>\n",
       "      <td>54</td>\n",
       "      <td>1991-09-30 11:40:00</td>\n",
       "      <td>30</td>\n",
       "      <td>1991</td>\n",
       "      <td>9</td>\n",
       "      <td>0</td>\n",
       "      <td>11</td>\n",
       "      <td>40</td>\n",
       "      <td>0</td>\n",
       "      <td>1</td>\n",
       "      <td>0</td>\n",
       "      <td>0</td>\n",
       "      <td>0</td>\n",
       "      <td>0</td>\n",
       "      <td>0</td>\n",
       "      <td>0</td>\n",
       "      <td>11.666667</td>\n",
       "    </tr>\n",
       "    <tr>\n",
       "      <th>848831</th>\n",
       "      <td>2</td>\n",
       "      <td>3</td>\n",
       "      <td>NE</td>\n",
       "      <td>28</td>\n",
       "      <td>1991-09-30 11:40:00</td>\n",
       "      <td>30</td>\n",
       "      <td>1991</td>\n",
       "      <td>9</td>\n",
       "      <td>0</td>\n",
       "      <td>11</td>\n",
       "      <td>40</td>\n",
       "      <td>0</td>\n",
       "      <td>0</td>\n",
       "      <td>1</td>\n",
       "      <td>0</td>\n",
       "      <td>0</td>\n",
       "      <td>0</td>\n",
       "      <td>0</td>\n",
       "      <td>0</td>\n",
       "      <td>11.666667</td>\n",
       "    </tr>\n",
       "    <tr>\n",
       "      <th>848832</th>\n",
       "      <td>2</td>\n",
       "      <td>3</td>\n",
       "      <td>SB</td>\n",
       "      <td>68</td>\n",
       "      <td>1991-09-30 11:40:00</td>\n",
       "      <td>30</td>\n",
       "      <td>1991</td>\n",
       "      <td>9</td>\n",
       "      <td>0</td>\n",
       "      <td>11</td>\n",
       "      <td>40</td>\n",
       "      <td>0</td>\n",
       "      <td>0</td>\n",
       "      <td>0</td>\n",
       "      <td>0</td>\n",
       "      <td>1</td>\n",
       "      <td>0</td>\n",
       "      <td>0</td>\n",
       "      <td>0</td>\n",
       "      <td>11.666667</td>\n",
       "    </tr>\n",
       "    <tr>\n",
       "      <th>848833</th>\n",
       "      <td>2</td>\n",
       "      <td>3</td>\n",
       "      <td>SW</td>\n",
       "      <td>17</td>\n",
       "      <td>1991-09-30 11:40:00</td>\n",
       "      <td>30</td>\n",
       "      <td>1991</td>\n",
       "      <td>9</td>\n",
       "      <td>0</td>\n",
       "      <td>11</td>\n",
       "      <td>40</td>\n",
       "      <td>0</td>\n",
       "      <td>0</td>\n",
       "      <td>0</td>\n",
       "      <td>0</td>\n",
       "      <td>0</td>\n",
       "      <td>0</td>\n",
       "      <td>1</td>\n",
       "      <td>0</td>\n",
       "      <td>11.666667</td>\n",
       "    </tr>\n",
       "    <tr>\n",
       "      <th>848834</th>\n",
       "      <td>2</td>\n",
       "      <td>3</td>\n",
       "      <td>WB</td>\n",
       "      <td>24</td>\n",
       "      <td>1991-09-30 11:40:00</td>\n",
       "      <td>30</td>\n",
       "      <td>1991</td>\n",
       "      <td>9</td>\n",
       "      <td>0</td>\n",
       "      <td>11</td>\n",
       "      <td>40</td>\n",
       "      <td>0</td>\n",
       "      <td>0</td>\n",
       "      <td>0</td>\n",
       "      <td>0</td>\n",
       "      <td>0</td>\n",
       "      <td>0</td>\n",
       "      <td>0</td>\n",
       "      <td>1</td>\n",
       "      <td>11.666667</td>\n",
       "    </tr>\n",
       "  </tbody>\n",
       "</table>\n",
       "</div>"
      ],
      "text/plain": [
       "        x  y direction  congestion                date  day  year  month  \\\n",
       "848830  2  3        NB          54 1991-09-30 11:40:00   30  1991      9   \n",
       "848831  2  3        NE          28 1991-09-30 11:40:00   30  1991      9   \n",
       "848832  2  3        SB          68 1991-09-30 11:40:00   30  1991      9   \n",
       "848833  2  3        SW          17 1991-09-30 11:40:00   30  1991      9   \n",
       "848834  2  3        WB          24 1991-09-30 11:40:00   30  1991      9   \n",
       "\n",
       "        dayofweek  hour  minute  direction_EB  direction_NB  direction_NE  \\\n",
       "848830          0    11      40             0             1             0   \n",
       "848831          0    11      40             0             0             1   \n",
       "848832          0    11      40             0             0             0   \n",
       "848833          0    11      40             0             0             0   \n",
       "848834          0    11      40             0             0             0   \n",
       "\n",
       "        direction_NW  direction_SB  direction_SE  direction_SW  direction_WB  \\\n",
       "848830             0             0             0             0             0   \n",
       "848831             0             0             0             0             0   \n",
       "848832             0             1             0             0             0   \n",
       "848833             0             0             0             1             0   \n",
       "848834             0             0             0             0             1   \n",
       "\n",
       "         hour_min  \n",
       "848830  11.666667  \n",
       "848831  11.666667  \n",
       "848832  11.666667  \n",
       "848833  11.666667  \n",
       "848834  11.666667  "
      ]
     },
     "execution_count": 13,
     "metadata": {},
     "output_type": "execute_result"
    }
   ],
   "source": [
    "print(train.hour.unique())\n",
    "train['hour_min'] = train['hour'] + (train['date'].dt.minute / 60)\n",
    "test['hour_min'] = test['hour'] + (test['date'].dt.minute / 60)\n",
    "\n",
    "train.tail()"
   ]
  },
  {
   "cell_type": "markdown",
   "id": "13bebf89",
   "metadata": {
    "papermill": {
     "duration": 0.043544,
     "end_time": "2022-03-18T16:15:18.109583",
     "exception": false,
     "start_time": "2022-03-18T16:15:18.066039",
     "status": "completed"
    },
    "tags": []
   },
   "source": [
    "### cong_median"
   ]
  },
  {
   "cell_type": "code",
   "execution_count": 14,
   "id": "a4352d84",
   "metadata": {
    "execution": {
     "iopub.execute_input": "2022-03-18T16:15:18.214485Z",
     "iopub.status.busy": "2022-03-18T16:15:18.213744Z",
     "iopub.status.idle": "2022-03-18T16:15:18.690178Z",
     "shell.execute_reply": "2022-03-18T16:15:18.690519Z",
     "shell.execute_reply.started": "2022-03-18T16:12:45.282596Z"
    },
    "papermill": {
     "duration": 0.538083,
     "end_time": "2022-03-18T16:15:18.690644",
     "exception": false,
     "start_time": "2022-03-18T16:15:18.152561",
     "status": "completed"
    },
    "tags": []
   },
   "outputs": [
    {
     "data": {
      "text/html": [
       "<div>\n",
       "<style scoped>\n",
       "    .dataframe tbody tr th:only-of-type {\n",
       "        vertical-align: middle;\n",
       "    }\n",
       "\n",
       "    .dataframe tbody tr th {\n",
       "        vertical-align: top;\n",
       "    }\n",
       "\n",
       "    .dataframe thead th {\n",
       "        text-align: right;\n",
       "    }\n",
       "</style>\n",
       "<table border=\"1\" class=\"dataframe\">\n",
       "  <thead>\n",
       "    <tr style=\"text-align: right;\">\n",
       "      <th></th>\n",
       "      <th>x</th>\n",
       "      <th>y</th>\n",
       "      <th>direction</th>\n",
       "      <th>congestion</th>\n",
       "      <th>date</th>\n",
       "      <th>day</th>\n",
       "      <th>year</th>\n",
       "      <th>month</th>\n",
       "      <th>dayofweek</th>\n",
       "      <th>hour</th>\n",
       "      <th>...</th>\n",
       "      <th>direction_EB</th>\n",
       "      <th>direction_NB</th>\n",
       "      <th>direction_NE</th>\n",
       "      <th>direction_NW</th>\n",
       "      <th>direction_SB</th>\n",
       "      <th>direction_SE</th>\n",
       "      <th>direction_SW</th>\n",
       "      <th>direction_WB</th>\n",
       "      <th>hour_min</th>\n",
       "      <th>cong_median</th>\n",
       "    </tr>\n",
       "  </thead>\n",
       "  <tbody>\n",
       "    <tr>\n",
       "      <th>0</th>\n",
       "      <td>0</td>\n",
       "      <td>0</td>\n",
       "      <td>EB</td>\n",
       "      <td>70</td>\n",
       "      <td>1991-04-01</td>\n",
       "      <td>1</td>\n",
       "      <td>1991</td>\n",
       "      <td>4</td>\n",
       "      <td>0</td>\n",
       "      <td>0</td>\n",
       "      <td>...</td>\n",
       "      <td>1</td>\n",
       "      <td>0</td>\n",
       "      <td>0</td>\n",
       "      <td>0</td>\n",
       "      <td>0</td>\n",
       "      <td>0</td>\n",
       "      <td>0</td>\n",
       "      <td>0</td>\n",
       "      <td>0.0</td>\n",
       "      <td>35.0</td>\n",
       "    </tr>\n",
       "    <tr>\n",
       "      <th>1</th>\n",
       "      <td>0</td>\n",
       "      <td>0</td>\n",
       "      <td>NB</td>\n",
       "      <td>49</td>\n",
       "      <td>1991-04-01</td>\n",
       "      <td>1</td>\n",
       "      <td>1991</td>\n",
       "      <td>4</td>\n",
       "      <td>0</td>\n",
       "      <td>0</td>\n",
       "      <td>...</td>\n",
       "      <td>0</td>\n",
       "      <td>1</td>\n",
       "      <td>0</td>\n",
       "      <td>0</td>\n",
       "      <td>0</td>\n",
       "      <td>0</td>\n",
       "      <td>0</td>\n",
       "      <td>0</td>\n",
       "      <td>0.0</td>\n",
       "      <td>29.0</td>\n",
       "    </tr>\n",
       "    <tr>\n",
       "      <th>2</th>\n",
       "      <td>0</td>\n",
       "      <td>0</td>\n",
       "      <td>SB</td>\n",
       "      <td>24</td>\n",
       "      <td>1991-04-01</td>\n",
       "      <td>1</td>\n",
       "      <td>1991</td>\n",
       "      <td>4</td>\n",
       "      <td>0</td>\n",
       "      <td>0</td>\n",
       "      <td>...</td>\n",
       "      <td>0</td>\n",
       "      <td>0</td>\n",
       "      <td>0</td>\n",
       "      <td>0</td>\n",
       "      <td>1</td>\n",
       "      <td>0</td>\n",
       "      <td>0</td>\n",
       "      <td>0</td>\n",
       "      <td>0.0</td>\n",
       "      <td>24.0</td>\n",
       "    </tr>\n",
       "    <tr>\n",
       "      <th>3</th>\n",
       "      <td>0</td>\n",
       "      <td>1</td>\n",
       "      <td>EB</td>\n",
       "      <td>18</td>\n",
       "      <td>1991-04-01</td>\n",
       "      <td>1</td>\n",
       "      <td>1991</td>\n",
       "      <td>4</td>\n",
       "      <td>0</td>\n",
       "      <td>0</td>\n",
       "      <td>...</td>\n",
       "      <td>1</td>\n",
       "      <td>0</td>\n",
       "      <td>0</td>\n",
       "      <td>0</td>\n",
       "      <td>0</td>\n",
       "      <td>0</td>\n",
       "      <td>0</td>\n",
       "      <td>0</td>\n",
       "      <td>0.0</td>\n",
       "      <td>17.0</td>\n",
       "    </tr>\n",
       "    <tr>\n",
       "      <th>4</th>\n",
       "      <td>0</td>\n",
       "      <td>1</td>\n",
       "      <td>NB</td>\n",
       "      <td>60</td>\n",
       "      <td>1991-04-01</td>\n",
       "      <td>1</td>\n",
       "      <td>1991</td>\n",
       "      <td>4</td>\n",
       "      <td>0</td>\n",
       "      <td>0</td>\n",
       "      <td>...</td>\n",
       "      <td>0</td>\n",
       "      <td>1</td>\n",
       "      <td>0</td>\n",
       "      <td>0</td>\n",
       "      <td>0</td>\n",
       "      <td>0</td>\n",
       "      <td>0</td>\n",
       "      <td>0</td>\n",
       "      <td>0.0</td>\n",
       "      <td>63.0</td>\n",
       "    </tr>\n",
       "  </tbody>\n",
       "</table>\n",
       "<p>5 rows × 21 columns</p>\n",
       "</div>"
      ],
      "text/plain": [
       "   x  y direction  congestion       date  day  year  month  dayofweek  hour  \\\n",
       "0  0  0        EB          70 1991-04-01    1  1991      4          0     0   \n",
       "1  0  0        NB          49 1991-04-01    1  1991      4          0     0   \n",
       "2  0  0        SB          24 1991-04-01    1  1991      4          0     0   \n",
       "3  0  1        EB          18 1991-04-01    1  1991      4          0     0   \n",
       "4  0  1        NB          60 1991-04-01    1  1991      4          0     0   \n",
       "\n",
       "   ...  direction_EB  direction_NB  direction_NE  direction_NW  direction_SB  \\\n",
       "0  ...             1             0             0             0             0   \n",
       "1  ...             0             1             0             0             0   \n",
       "2  ...             0             0             0             0             1   \n",
       "3  ...             1             0             0             0             0   \n",
       "4  ...             0             1             0             0             0   \n",
       "\n",
       "   direction_SE  direction_SW  direction_WB  hour_min  cong_median  \n",
       "0             0             0             0       0.0         35.0  \n",
       "1             0             0             0       0.0         29.0  \n",
       "2             0             0             0       0.0         24.0  \n",
       "3             0             0             0       0.0         17.0  \n",
       "4             0             0             0       0.0         63.0  \n",
       "\n",
       "[5 rows x 21 columns]"
      ]
     },
     "execution_count": 14,
     "metadata": {},
     "output_type": "execute_result"
    }
   ],
   "source": [
    "# Compute the median congestion\n",
    "cols = ['x', 'y', 'direction', 'dayofweek', 'hour', 'minute']\n",
    "tmp = train[cols + ['congestion']]\n",
    "train['cong_median'] = tmp.groupby(cols).transform('median')\n",
    "\n",
    "test['cong_median'] = test.merge(tmp.groupby(cols).congestion.median().astype(int), \n",
    "                 left_on=cols,\n",
    "                 right_index=True)[['congestion']].congestion\n",
    "\n",
    "del tmp\n",
    "gc.collect()\n",
    "train.head()"
   ]
  },
  {
   "cell_type": "markdown",
   "id": "b51682b2",
   "metadata": {
    "papermill": {
     "duration": 0.043912,
     "end_time": "2022-03-18T16:15:18.779147",
     "exception": false,
     "start_time": "2022-03-18T16:15:18.735235",
     "status": "completed"
    },
    "tags": []
   },
   "source": [
    "### Monday peak hours"
   ]
  },
  {
   "cell_type": "code",
   "execution_count": 15,
   "id": "1cd60aa8",
   "metadata": {
    "execution": {
     "iopub.execute_input": "2022-03-18T16:15:18.869858Z",
     "iopub.status.busy": "2022-03-18T16:15:18.869169Z",
     "iopub.status.idle": "2022-03-18T16:15:22.775003Z",
     "shell.execute_reply": "2022-03-18T16:15:22.774487Z",
     "shell.execute_reply.started": "2022-03-18T16:12:45.809857Z"
    },
    "papermill": {
     "duration": 3.951806,
     "end_time": "2022-03-18T16:15:22.775127",
     "exception": false,
     "start_time": "2022-03-18T16:15:18.823321",
     "status": "completed"
    },
    "tags": []
   },
   "outputs": [
    {
     "data": {
      "image/png": "[encoded data removed]",
      "text/plain": [
       "<Figure size 864x432 with 1 Axes>"
      ]
     },
     "metadata": {
      "needs_background": "light"
     },
     "output_type": "display_data"
    }
   ],
   "source": [
    "tmp = train[train.dayofweek == 0][['hour', 'congestion']]\n",
    "plt.figure(figsize=(12,6))\n",
    "sns.lineplot(x=tmp['hour'], y=tmp['congestion'])\n",
    "plt.grid(which='both')\n",
    "plt.show()"
   ]
  },
  {
   "cell_type": "code",
   "execution_count": 16,
   "id": "43011021",
   "metadata": {
    "execution": {
     "iopub.execute_input": "2022-03-18T16:15:22.878573Z",
     "iopub.status.busy": "2022-03-18T16:15:22.878035Z",
     "iopub.status.idle": "2022-03-18T16:15:23.277998Z",
     "shell.execute_reply": "2022-03-18T16:15:23.278386Z",
     "shell.execute_reply.started": "2022-03-18T16:12:49.721305Z"
    },
    "papermill": {
     "duration": 0.457631,
     "end_time": "2022-03-18T16:15:23.278519",
     "exception": false,
     "start_time": "2022-03-18T16:15:22.820888",
     "status": "completed"
    },
    "tags": []
   },
   "outputs": [],
   "source": [
    "def peak_hours_monday(hour):\n",
    "    if hour >= 15 and hour <=17:\n",
    "        return 2\n",
    "    elif hour >= 7 and hour <= 9:\n",
    "        return 1\n",
    "    else:\n",
    "        return 0\n",
    "    \n",
    "train['hour_peak'] = train['hour'].apply(peak_hours_monday)\n",
    "test['hour_peak'] = test['hour'].apply(peak_hours_monday)"
   ]
  },
  {
   "cell_type": "markdown",
   "id": "9068c7ce",
   "metadata": {
    "papermill": {
     "duration": 0.045155,
     "end_time": "2022-03-18T16:15:23.369041",
     "exception": false,
     "start_time": "2022-03-18T16:15:23.323886",
     "status": "completed"
    },
    "tags": []
   },
   "source": [
    "### Seasons"
   ]
  },
  {
   "cell_type": "code",
   "execution_count": 17,
   "id": "e1486b30",
   "metadata": {
    "execution": {
     "iopub.execute_input": "2022-03-18T16:15:23.463692Z",
     "iopub.status.busy": "2022-03-18T16:15:23.463198Z",
     "iopub.status.idle": "2022-03-18T16:15:23.483036Z",
     "shell.execute_reply": "2022-03-18T16:15:23.483418Z",
     "shell.execute_reply.started": "2022-03-18T16:12:49.894398Z"
    },
    "papermill": {
     "duration": 0.068836,
     "end_time": "2022-03-18T16:15:23.483553",
     "exception": false,
     "start_time": "2022-03-18T16:15:23.414717",
     "status": "completed"
    },
    "tags": []
   },
   "outputs": [],
   "source": [
    "#\"\"\"\n",
    "train['season_w'] = (train['month'] == 12) | (train['month'] <= 2)\n",
    "test['season_w'] = (test['month'] == 12) | (test['month'] <= 2)\n",
    "\n",
    "train['season_sp'] = train.month.isin(range(3,6))\n",
    "test['season_sp'] = test.month.isin(range(3,6))\n",
    "\n",
    "train['season_su'] = train.month.isin(range(6,9))\n",
    "test['season_su'] = test.month.isin(range(6,9))\n",
    "\n",
    "train['season_o'] = train.month.isin(range(9,12))\n",
    "test['season_o'] = test.month.isin(range(9,12))\n",
    "#\"\"\""
   ]
  },
  {
   "cell_type": "markdown",
   "id": "1c681cfd",
   "metadata": {
    "papermill": {
     "duration": 0.045367,
     "end_time": "2022-03-18T16:15:23.574747",
     "exception": false,
     "start_time": "2022-03-18T16:15:23.529380",
     "status": "completed"
    },
    "tags": []
   },
   "source": [
    "### Only Mondays"
   ]
  },
  {
   "cell_type": "code",
   "execution_count": 18,
   "id": "00549efd",
   "metadata": {
    "execution": {
     "iopub.execute_input": "2022-03-18T16:15:23.671543Z",
     "iopub.status.busy": "2022-03-18T16:15:23.670887Z",
     "iopub.status.idle": "2022-03-18T16:15:23.711637Z",
     "shell.execute_reply": "2022-03-18T16:15:23.711234Z",
     "shell.execute_reply.started": "2022-03-18T16:12:49.915426Z"
    },
    "papermill": {
     "duration": 0.091262,
     "end_time": "2022-03-18T16:15:23.711738",
     "exception": false,
     "start_time": "2022-03-18T16:15:23.620476",
     "status": "completed"
    },
    "tags": []
   },
   "outputs": [],
   "source": [
    "train = train[train.dayofweek == 0]"
   ]
  },
  {
   "cell_type": "markdown",
   "id": "48539a59",
   "metadata": {
    "papermill": {
     "duration": 0.044838,
     "end_time": "2022-03-18T16:15:23.801649",
     "exception": false,
     "start_time": "2022-03-18T16:15:23.756811",
     "status": "completed"
    },
    "tags": []
   },
   "source": [
    "### Holiday\n",
    "\n",
    "**cv ok but lb nok**"
   ]
  },
  {
   "cell_type": "code",
   "execution_count": 19,
   "id": "4375251f",
   "metadata": {
    "execution": {
     "iopub.execute_input": "2022-03-18T16:15:23.894880Z",
     "iopub.status.busy": "2022-03-18T16:15:23.894264Z",
     "iopub.status.idle": "2022-03-18T16:16:55.061422Z",
     "shell.execute_reply": "2022-03-18T16:16:55.061931Z",
     "shell.execute_reply.started": "2022-03-18T16:12:49.947298Z"
    },
    "papermill": {
     "duration": 91.215089,
     "end_time": "2022-03-18T16:16:55.062073",
     "exception": false,
     "start_time": "2022-03-18T16:15:23.846984",
     "status": "completed"
    },
    "tags": []
   },
   "outputs": [
    {
     "name": "stdout",
     "output_type": "stream",
     "text": [
      "\n",
      "## Train set ##\n",
      "False    114660\n",
      "True       9360\n",
      "Name: is_holiday, dtype: int64\n",
      "\n",
      "## Test set ##\n",
      "False    2340\n",
      "Name: is_holiday, dtype: int64\n"
     ]
    }
   ],
   "source": [
    "#\"\"\"\n",
    "import holidays\n",
    "\n",
    "def isHoliday(date):\n",
    "    countryHolidays = holidays.CountryHoliday('USA', years=date.year)\n",
    "    return date in countryHolidays\n",
    "\n",
    "train['is_holiday'] = train.apply(lambda x: isHoliday(x['date']), axis=1)\n",
    "test['is_holiday'] = test.apply(lambda x: isHoliday(x['date']), axis=1)\n",
    "\n",
    "print('\\n## Train set ##')\n",
    "print(train['is_holiday'].value_counts())\n",
    "print('\\n## Test set ##')\n",
    "print(test['is_holiday'].value_counts())\n",
    "#\"\"\""
   ]
  },
  {
   "cell_type": "markdown",
   "id": "c9b61023",
   "metadata": {
    "papermill": {
     "duration": 0.068634,
     "end_time": "2022-03-18T16:16:55.199561",
     "exception": false,
     "start_time": "2022-03-18T16:16:55.130927",
     "status": "completed"
    },
    "tags": []
   },
   "source": [
    "### Is afternoon\n",
    "**cv and lb no change**"
   ]
  },
  {
   "cell_type": "code",
   "execution_count": 20,
   "id": "76204ff5",
   "metadata": {
    "execution": {
     "iopub.execute_input": "2022-03-18T16:16:55.342644Z",
     "iopub.status.busy": "2022-03-18T16:16:55.341981Z",
     "iopub.status.idle": "2022-03-18T16:16:55.344746Z",
     "shell.execute_reply": "2022-03-18T16:16:55.345217Z",
     "shell.execute_reply.started": "2022-03-18T16:13:46.948625Z"
    },
    "papermill": {
     "duration": 0.076778,
     "end_time": "2022-03-18T16:16:55.345366",
     "exception": false,
     "start_time": "2022-03-18T16:16:55.268588",
     "status": "completed"
    },
    "tags": []
   },
   "outputs": [
    {
     "data": {
      "text/plain": [
       "\"\\nprint(test['hour'].unique())\\n\\ntrain['is_afternoon'] = train['hour'] >=12\\ntest['is_afternoon'] = test['hour'] >=12\\n\\nprint('\\n\\n## Train set ##')\\nprint(train['is_afternoon'].value_counts())\\nprint('\\n## Test set ##')\\nprint(test['is_afternoon'].value_counts())\\n\""
      ]
     },
     "execution_count": 20,
     "metadata": {},
     "output_type": "execute_result"
    }
   ],
   "source": [
    "\"\"\"\n",
    "print(test['hour'].unique())\n",
    "\n",
    "train['is_afternoon'] = train['hour'] >=12\n",
    "test['is_afternoon'] = test['hour'] >=12\n",
    "\n",
    "print('\\n\\n## Train set ##')\n",
    "print(train['is_afternoon'].value_counts())\n",
    "print('\\n## Test set ##')\n",
    "print(test['is_afternoon'].value_counts())\n",
    "\"\"\""
   ]
  },
  {
   "cell_type": "markdown",
   "id": "306cf622",
   "metadata": {
    "papermill": {
     "duration": 0.069168,
     "end_time": "2022-03-18T16:16:55.483536",
     "exception": false,
     "start_time": "2022-03-18T16:16:55.414368",
     "status": "completed"
    },
    "tags": []
   },
   "source": [
    "# Drop redundent columns"
   ]
  },
  {
   "cell_type": "code",
   "execution_count": 21,
   "id": "9d1225dc",
   "metadata": {
    "execution": {
     "iopub.execute_input": "2022-03-18T16:16:55.629410Z",
     "iopub.status.busy": "2022-03-18T16:16:55.628784Z",
     "iopub.status.idle": "2022-03-18T16:16:55.651865Z",
     "shell.execute_reply": "2022-03-18T16:16:55.652392Z",
     "shell.execute_reply.started": "2022-03-18T16:13:46.955218Z"
    },
    "papermill": {
     "duration": 0.099988,
     "end_time": "2022-03-18T16:16:55.652538",
     "exception": false,
     "start_time": "2022-03-18T16:16:55.552550",
     "status": "completed"
    },
    "tags": []
   },
   "outputs": [
    {
     "name": "stdout",
     "output_type": "stream",
     "text": [
      "Train shape: (124020, 20)\n",
      "Test shape:  (2340, 19)\n"
     ]
    },
    {
     "data": {
      "text/html": [
       "<div>\n",
       "<style scoped>\n",
       "    .dataframe tbody tr th:only-of-type {\n",
       "        vertical-align: middle;\n",
       "    }\n",
       "\n",
       "    .dataframe tbody tr th {\n",
       "        vertical-align: top;\n",
       "    }\n",
       "\n",
       "    .dataframe thead th {\n",
       "        text-align: right;\n",
       "    }\n",
       "</style>\n",
       "<table border=\"1\" class=\"dataframe\">\n",
       "  <thead>\n",
       "    <tr style=\"text-align: right;\">\n",
       "      <th></th>\n",
       "      <th>x</th>\n",
       "      <th>y</th>\n",
       "      <th>congestion</th>\n",
       "      <th>month</th>\n",
       "      <th>direction_EB</th>\n",
       "      <th>direction_NB</th>\n",
       "      <th>direction_NE</th>\n",
       "      <th>direction_NW</th>\n",
       "      <th>direction_SB</th>\n",
       "      <th>direction_SE</th>\n",
       "      <th>direction_SW</th>\n",
       "      <th>direction_WB</th>\n",
       "      <th>hour_min</th>\n",
       "      <th>cong_median</th>\n",
       "      <th>hour_peak</th>\n",
       "      <th>season_w</th>\n",
       "      <th>season_sp</th>\n",
       "      <th>season_su</th>\n",
       "      <th>season_o</th>\n",
       "      <th>is_holiday</th>\n",
       "    </tr>\n",
       "  </thead>\n",
       "  <tbody>\n",
       "    <tr>\n",
       "      <th>0</th>\n",
       "      <td>0</td>\n",
       "      <td>0</td>\n",
       "      <td>70</td>\n",
       "      <td>4</td>\n",
       "      <td>1</td>\n",
       "      <td>0</td>\n",
       "      <td>0</td>\n",
       "      <td>0</td>\n",
       "      <td>0</td>\n",
       "      <td>0</td>\n",
       "      <td>0</td>\n",
       "      <td>0</td>\n",
       "      <td>0.0</td>\n",
       "      <td>35.0</td>\n",
       "      <td>0</td>\n",
       "      <td>False</td>\n",
       "      <td>True</td>\n",
       "      <td>False</td>\n",
       "      <td>False</td>\n",
       "      <td>False</td>\n",
       "    </tr>\n",
       "    <tr>\n",
       "      <th>1</th>\n",
       "      <td>0</td>\n",
       "      <td>0</td>\n",
       "      <td>49</td>\n",
       "      <td>4</td>\n",
       "      <td>0</td>\n",
       "      <td>1</td>\n",
       "      <td>0</td>\n",
       "      <td>0</td>\n",
       "      <td>0</td>\n",
       "      <td>0</td>\n",
       "      <td>0</td>\n",
       "      <td>0</td>\n",
       "      <td>0.0</td>\n",
       "      <td>29.0</td>\n",
       "      <td>0</td>\n",
       "      <td>False</td>\n",
       "      <td>True</td>\n",
       "      <td>False</td>\n",
       "      <td>False</td>\n",
       "      <td>False</td>\n",
       "    </tr>\n",
       "    <tr>\n",
       "      <th>2</th>\n",
       "      <td>0</td>\n",
       "      <td>0</td>\n",
       "      <td>24</td>\n",
       "      <td>4</td>\n",
       "      <td>0</td>\n",
       "      <td>0</td>\n",
       "      <td>0</td>\n",
       "      <td>0</td>\n",
       "      <td>1</td>\n",
       "      <td>0</td>\n",
       "      <td>0</td>\n",
       "      <td>0</td>\n",
       "      <td>0.0</td>\n",
       "      <td>24.0</td>\n",
       "      <td>0</td>\n",
       "      <td>False</td>\n",
       "      <td>True</td>\n",
       "      <td>False</td>\n",
       "      <td>False</td>\n",
       "      <td>False</td>\n",
       "    </tr>\n",
       "    <tr>\n",
       "      <th>3</th>\n",
       "      <td>0</td>\n",
       "      <td>1</td>\n",
       "      <td>18</td>\n",
       "      <td>4</td>\n",
       "      <td>1</td>\n",
       "      <td>0</td>\n",
       "      <td>0</td>\n",
       "      <td>0</td>\n",
       "      <td>0</td>\n",
       "      <td>0</td>\n",
       "      <td>0</td>\n",
       "      <td>0</td>\n",
       "      <td>0.0</td>\n",
       "      <td>17.0</td>\n",
       "      <td>0</td>\n",
       "      <td>False</td>\n",
       "      <td>True</td>\n",
       "      <td>False</td>\n",
       "      <td>False</td>\n",
       "      <td>False</td>\n",
       "    </tr>\n",
       "    <tr>\n",
       "      <th>4</th>\n",
       "      <td>0</td>\n",
       "      <td>1</td>\n",
       "      <td>60</td>\n",
       "      <td>4</td>\n",
       "      <td>0</td>\n",
       "      <td>1</td>\n",
       "      <td>0</td>\n",
       "      <td>0</td>\n",
       "      <td>0</td>\n",
       "      <td>0</td>\n",
       "      <td>0</td>\n",
       "      <td>0</td>\n",
       "      <td>0.0</td>\n",
       "      <td>63.0</td>\n",
       "      <td>0</td>\n",
       "      <td>False</td>\n",
       "      <td>True</td>\n",
       "      <td>False</td>\n",
       "      <td>False</td>\n",
       "      <td>False</td>\n",
       "    </tr>\n",
       "  </tbody>\n",
       "</table>\n",
       "</div>"
      ],
      "text/plain": [
       "   x  y  congestion  month  direction_EB  direction_NB  direction_NE  \\\n",
       "0  0  0          70      4             1             0             0   \n",
       "1  0  0          49      4             0             1             0   \n",
       "2  0  0          24      4             0             0             0   \n",
       "3  0  1          18      4             1             0             0   \n",
       "4  0  1          60      4             0             1             0   \n",
       "\n",
       "   direction_NW  direction_SB  direction_SE  direction_SW  direction_WB  \\\n",
       "0             0             0             0             0             0   \n",
       "1             0             0             0             0             0   \n",
       "2             0             1             0             0             0   \n",
       "3             0             0             0             0             0   \n",
       "4             0             0             0             0             0   \n",
       "\n",
       "   hour_min  cong_median  hour_peak  season_w  season_sp  season_su  season_o  \\\n",
       "0       0.0         35.0          0     False       True      False     False   \n",
       "1       0.0         29.0          0     False       True      False     False   \n",
       "2       0.0         24.0          0     False       True      False     False   \n",
       "3       0.0         17.0          0     False       True      False     False   \n",
       "4       0.0         63.0          0     False       True      False     False   \n",
       "\n",
       "   is_holiday  \n",
       "0       False  \n",
       "1       False  \n",
       "2       False  \n",
       "3       False  \n",
       "4       False  "
      ]
     },
     "execution_count": 21,
     "metadata": {},
     "output_type": "execute_result"
    }
   ],
   "source": [
    "cols_drop = ['date', 'direction', 'year', 'day', 'hour', 'minute', 'dayofweek']\n",
    "train.drop(cols_drop, axis=1, inplace=True)\n",
    "test.drop(cols_drop, axis=1, inplace=True)\n",
    "\n",
    "print('Train shape:', train.shape)\n",
    "print('Test shape: ', test.shape)\n",
    "train.head()"
   ]
  },
  {
   "cell_type": "code",
   "execution_count": 22,
   "id": "0e274644",
   "metadata": {
    "execution": {
     "iopub.execute_input": "2022-03-18T16:16:55.799629Z",
     "iopub.status.busy": "2022-03-18T16:16:55.798407Z",
     "iopub.status.idle": "2022-03-18T16:16:55.802647Z",
     "shell.execute_reply": "2022-03-18T16:16:55.802041Z",
     "shell.execute_reply.started": "2022-03-18T16:13:46.984760Z"
    },
    "papermill": {
     "duration": 0.079533,
     "end_time": "2022-03-18T16:16:55.802761",
     "exception": false,
     "start_time": "2022-03-18T16:16:55.723228",
     "status": "completed"
    },
    "tags": []
   },
   "outputs": [],
   "source": [
    "X = train.drop('congestion', axis=1)\n",
    "y = train['congestion']"
   ]
  },
  {
   "cell_type": "markdown",
   "id": "431feb37",
   "metadata": {
    "papermill": {
     "duration": 0.070099,
     "end_time": "2022-03-18T16:16:55.943137",
     "exception": false,
     "start_time": "2022-03-18T16:16:55.873038",
     "status": "completed"
    },
    "tags": []
   },
   "source": [
    "# Clustering\n",
    "\n",
    "**cv nok, lb nok**"
   ]
  },
  {
   "cell_type": "code",
   "execution_count": 23,
   "id": "fb29fd5b",
   "metadata": {
    "execution": {
     "iopub.execute_input": "2022-03-18T16:16:56.088057Z",
     "iopub.status.busy": "2022-03-18T16:16:56.087492Z",
     "iopub.status.idle": "2022-03-18T16:16:56.089995Z",
     "shell.execute_reply": "2022-03-18T16:16:56.089428Z",
     "shell.execute_reply.started": "2022-03-18T16:13:46.991514Z"
    },
    "papermill": {
     "duration": 0.076798,
     "end_time": "2022-03-18T16:16:56.090131",
     "exception": false,
     "start_time": "2022-03-18T16:16:56.013333",
     "status": "completed"
    },
    "tags": []
   },
   "outputs": [],
   "source": [
    "#from sklearn.cluster import KMeans"
   ]
  },
  {
   "cell_type": "markdown",
   "id": "293e71b8",
   "metadata": {
    "papermill": {
     "duration": 0.070994,
     "end_time": "2022-03-18T16:16:56.232717",
     "exception": false,
     "start_time": "2022-03-18T16:16:56.161723",
     "status": "completed"
    },
    "tags": []
   },
   "source": [
    "### Find the best k using elbowmethod, find clusters and apply them as labels"
   ]
  },
  {
   "cell_type": "code",
   "execution_count": 24,
   "id": "182d8ddd",
   "metadata": {
    "execution": {
     "iopub.execute_input": "2022-03-18T16:16:56.379226Z",
     "iopub.status.busy": "2022-03-18T16:16:56.378529Z",
     "iopub.status.idle": "2022-03-18T16:16:56.382059Z",
     "shell.execute_reply": "2022-03-18T16:16:56.381461Z",
     "shell.execute_reply.started": "2022-03-18T16:13:46.999465Z"
    },
    "papermill": {
     "duration": 0.078591,
     "end_time": "2022-03-18T16:16:56.382190",
     "exception": false,
     "start_time": "2022-03-18T16:16:56.303599",
     "status": "completed"
    },
    "tags": []
   },
   "outputs": [
    {
     "data": {
      "text/plain": [
       "\"\\ndef find_best_k(df, nk):\\n    distortions = []\\n    for k in range(1, nk + 1):\\n        model = KMeans(n_clusters=k)\\n        model.fit(X)\\n        distortions.append(model.inertia_)\\n    return distortions\\n        \\n        \\ndef visualize_elbow(distortions, nk):\\n    plt.figure(figsize=(8,4))\\n    plt.plot(range(1, nk + 1), distortions, 'bx-')\\n    plt.xlabel('k')\\n    plt.ylabel('Distortion')\\n    plt.title('The Elbow Method showing the optimal k')\\n    plt.show()\\n    \\nnk = 10\\n\\n#Train set\\ndistortions = find_best_k(X, nk)\\nvisualize_elbow(distortions, nk)\\n\\n#Test set\\ndistortions = find_best_k(test, nk)\\nvisualize_elbow(distortions, nk)\\n\\n#The best k=2\\n#Find cluster labels using k=2\\nkmeans = KMeans(n_clusters=2).fit(X)\\n\\n\\nclust_labels = kmeans.labels_\\nprint(np.unique(clust_labels))\\n\\ntest_clust_labels = kmeans.predict(test)\\nX['cluster_labels'] = clust_labels\\ntest['cluster_labels'] = test_clust_labels\\n\\nprint('\\n\\n## Train set ##')\\nprint(X['cluster_labels'].value_counts())\\nprint('\\n## Test set ##')\\nprint(test['cluster_labels'].value_counts())\\n\""
      ]
     },
     "execution_count": 24,
     "metadata": {},
     "output_type": "execute_result"
    }
   ],
   "source": [
    "\"\"\"\n",
    "def find_best_k(df, nk):\n",
    "    distortions = []\n",
    "    for k in range(1, nk + 1):\n",
    "        model = KMeans(n_clusters=k)\n",
    "        model.fit(X)\n",
    "        distortions.append(model.inertia_)\n",
    "    return distortions\n",
    "        \n",
    "        \n",
    "def visualize_elbow(distortions, nk):\n",
    "    plt.figure(figsize=(8,4))\n",
    "    plt.plot(range(1, nk + 1), distortions, 'bx-')\n",
    "    plt.xlabel('k')\n",
    "    plt.ylabel('Distortion')\n",
    "    plt.title('The Elbow Method showing the optimal k')\n",
    "    plt.show()\n",
    "    \n",
    "nk = 10\n",
    "\n",
    "#Train set\n",
    "distortions = find_best_k(X, nk)\n",
    "visualize_elbow(distortions, nk)\n",
    "\n",
    "#Test set\n",
    "distortions = find_best_k(test, nk)\n",
    "visualize_elbow(distortions, nk)\n",
    "\n",
    "#The best k=2\n",
    "#Find cluster labels using k=2\n",
    "kmeans = KMeans(n_clusters=2).fit(X)\n",
    "\n",
    "\n",
    "clust_labels = kmeans.labels_\n",
    "print(np.unique(clust_labels))\n",
    "\n",
    "test_clust_labels = kmeans.predict(test)\n",
    "X['cluster_labels'] = clust_labels\n",
    "test['cluster_labels'] = test_clust_labels\n",
    "\n",
    "print('\\n\\n## Train set ##')\n",
    "print(X['cluster_labels'].value_counts())\n",
    "print('\\n## Test set ##')\n",
    "print(test['cluster_labels'].value_counts())\n",
    "\"\"\""
   ]
  },
  {
   "cell_type": "markdown",
   "id": "49a8560c",
   "metadata": {
    "papermill": {
     "duration": 0.071382,
     "end_time": "2022-03-18T16:16:56.524270",
     "exception": false,
     "start_time": "2022-03-18T16:16:56.452888",
     "status": "completed"
    },
    "tags": []
   },
   "source": [
    "# Model"
   ]
  },
  {
   "cell_type": "code",
   "execution_count": 25,
   "id": "c2f58a18",
   "metadata": {
    "execution": {
     "iopub.execute_input": "2022-03-18T16:16:56.683468Z",
     "iopub.status.busy": "2022-03-18T16:16:56.679620Z",
     "iopub.status.idle": "2022-03-18T16:16:56.685686Z",
     "shell.execute_reply": "2022-03-18T16:16:56.685051Z",
     "shell.execute_reply.started": "2022-03-18T16:13:47.011428Z"
    },
    "papermill": {
     "duration": 0.088716,
     "end_time": "2022-03-18T16:16:56.685812",
     "exception": false,
     "start_time": "2022-03-18T16:16:56.597096",
     "status": "completed"
    },
    "tags": []
   },
   "outputs": [],
   "source": [
    "from sklearn.metrics import mean_absolute_error\n",
    "\n",
    "def cross_val_ts(X, test, model, nfolds=5, early_stopping_rounds=10, verbose=1):\n",
    "    oof_pred  = np.zeros(len(X)) \n",
    "    oof_label = np.zeros(len(X))\n",
    "    preds_test = np.zeros(len(test))\n",
    "    fi = np.zeros(test.shape[1])\n",
    "    \n",
    "    nfolds=nfolds\n",
    "    ts_split = TimeSeriesSplit(n_splits=nfolds)\n",
    "    \n",
    "    for fold, (trn_idx, val_idx) in enumerate(ts_split.split(X)):\n",
    "        if verbose:\n",
    "            print(f\"FOLD: {fold}\")\n",
    "        \n",
    "        X_train, X_valid = X.iloc[trn_idx], X.iloc[val_idx]\n",
    "        y_train, y_valid = y.iloc[trn_idx], y.iloc[val_idx]\n",
    "\n",
    "        model.fit(X_train, \n",
    "                  y_train, \n",
    "                  eval_set=[(X_valid, y_valid)], \n",
    "                  early_stopping_rounds=early_stopping_rounds,\n",
    "                  verbose = 0\n",
    "                 )\n",
    "        \n",
    "        preds_valid = model.predict(X_valid)\n",
    "        oof_pred[val_idx]  = preds_valid \n",
    "        oof_label[val_idx] = y_valid \n",
    "        \n",
    "        error =  np.sqrt(mean_squared_error(y_valid, preds_valid))\n",
    "        if verbose:\n",
    "            print(f'RMSE: {error}')\n",
    "            print(f'MAE: {mean_absolute_error(y_valid, preds_valid)}')\n",
    "            print(\"-\"*50)\n",
    "        \n",
    "        preds_test += (model.predict(test)) / nfolds\n",
    "        \n",
    "        fi += (model.feature_importances_) / nfolds\n",
    "    \n",
    "    global_error = np.sqrt(mean_squared_error(oof_label, oof_pred))\n",
    "    global_mae = mean_absolute_error(oof_label, oof_pred)\n",
    "    if verbose:\n",
    "        print(' '* 17, 'CLOBAL ERROR')\n",
    "        print('-' * 50)\n",
    "        print(f'RMSE: {global_error}...')\n",
    "        print(f'MAE: {global_mae}...')\n",
    "        print('-' * 50)\n",
    "        print()\n",
    "    \n",
    "    return preds_test, fi, global_mae"
   ]
  },
  {
   "cell_type": "code",
   "execution_count": 26,
   "id": "553ccd31",
   "metadata": {
    "execution": {
     "iopub.execute_input": "2022-03-18T16:16:56.839751Z",
     "iopub.status.busy": "2022-03-18T16:16:56.839098Z",
     "iopub.status.idle": "2022-03-18T16:16:56.843876Z",
     "shell.execute_reply": "2022-03-18T16:16:56.844484Z",
     "shell.execute_reply.started": "2022-03-18T16:13:47.023466Z"
    },
    "papermill": {
     "duration": 0.08596,
     "end_time": "2022-03-18T16:16:56.844635",
     "exception": false,
     "start_time": "2022-03-18T16:16:56.758675",
     "status": "completed"
    },
    "tags": []
   },
   "outputs": [],
   "source": [
    "def cross_val(X, test, model, nfolds=5, verbose=1):\n",
    "    oof_pred  = np.zeros(len(X)) \n",
    "    oof_label = np.zeros(len(X))\n",
    "    preds_test = np.zeros(len(test))\n",
    "    fi = np.zeros(test.shape[1])\n",
    "    \n",
    "    nfolds=nfolds\n",
    "    ts_split = TimeSeriesSplit(n_splits=nfolds)\n",
    "    \n",
    "    for fold, (trn_idx, val_idx) in enumerate(ts_split.split(X)):\n",
    "        if verbose:\n",
    "            print(f\"FOLD: {fold}\")\n",
    "        \n",
    "        X_train, X_valid = X.iloc[trn_idx], X.iloc[val_idx]\n",
    "        y_train, y_valid = y.iloc[trn_idx], y.iloc[val_idx]\n",
    "\n",
    "        model.fit(X_train, y_train)\n",
    "        \n",
    "        preds_valid = model.predict(X_valid)\n",
    "        oof_pred[val_idx]  = preds_valid \n",
    "        oof_label[val_idx] = y_valid \n",
    "        \n",
    "        error =  np.sqrt(mean_squared_error(y_valid, preds_valid))\n",
    "        if verbose:\n",
    "            print(f'RMSE: {error}')\n",
    "            print(f'MAE: {mean_absolute_error(y_valid, preds_valid)}')\n",
    "            print(\"-\"*50)\n",
    "        \n",
    "        preds_test += (model.predict(test)) / nfolds\n",
    "        \n",
    "        fi += (model.feature_importances_) / nfolds\n",
    "    \n",
    "    global_error = np.sqrt(mean_squared_error(oof_label, oof_pred))\n",
    "    global_mae = mean_absolute_error(oof_label, oof_pred)\n",
    "    if verbose:\n",
    "        print(' '* 17, 'CLOBAL ERROR')\n",
    "        print('-' * 50)\n",
    "        print(f'RMSE: {global_error}...')\n",
    "        print(f'MAE: {global_mae}...')\n",
    "        print('-' * 50)\n",
    "        print()\n",
    "    \n",
    "    return preds_test, fi, global_mae"
   ]
  },
  {
   "cell_type": "code",
   "execution_count": 27,
   "id": "5084e8e3",
   "metadata": {
    "execution": {
     "iopub.execute_input": "2022-03-18T16:16:56.992956Z",
     "iopub.status.busy": "2022-03-18T16:16:56.992373Z",
     "iopub.status.idle": "2022-03-18T16:16:56.995169Z",
     "shell.execute_reply": "2022-03-18T16:16:56.994569Z",
     "shell.execute_reply.started": "2022-03-18T16:13:47.036290Z"
    },
    "papermill": {
     "duration": 0.078557,
     "end_time": "2022-03-18T16:16:56.995279",
     "exception": false,
     "start_time": "2022-03-18T16:16:56.916722",
     "status": "completed"
    },
    "tags": []
   },
   "outputs": [],
   "source": [
    "preds_test = {}\n",
    "fi_dic = {}"
   ]
  },
  {
   "cell_type": "markdown",
   "id": "ce747f10",
   "metadata": {
    "papermill": {
     "duration": 0.071984,
     "end_time": "2022-03-18T16:16:57.139786",
     "exception": false,
     "start_time": "2022-03-18T16:16:57.067802",
     "status": "completed"
    },
    "tags": []
   },
   "source": [
    "## LGBM: ts split"
   ]
  },
  {
   "cell_type": "code",
   "execution_count": 28,
   "id": "faa10e6f",
   "metadata": {
    "execution": {
     "iopub.execute_input": "2022-03-18T16:16:57.291518Z",
     "iopub.status.busy": "2022-03-18T16:16:57.290884Z",
     "iopub.status.idle": "2022-03-18T16:16:59.176911Z",
     "shell.execute_reply": "2022-03-18T16:16:59.177658Z",
     "shell.execute_reply.started": "2022-03-18T16:13:47.047870Z"
    },
    "papermill": {
     "duration": 1.965544,
     "end_time": "2022-03-18T16:16:59.177848",
     "exception": false,
     "start_time": "2022-03-18T16:16:57.212304",
     "status": "completed"
    },
    "tags": []
   },
   "outputs": [
    {
     "name": "stdout",
     "output_type": "stream",
     "text": [
      "FOLD: 0\n",
      "RMSE: 8.52215188138113\n",
      "MAE: 5.978357555857843\n",
      "--------------------------------------------------\n",
      "FOLD: 1\n",
      "RMSE: 8.723132765183014\n",
      "MAE: 5.879856903635251\n",
      "--------------------------------------------------\n",
      "FOLD: 2\n",
      "RMSE: 8.542121871725858\n",
      "MAE: 5.851560020214794\n",
      "--------------------------------------------------\n",
      "FOLD: 3\n",
      "RMSE: 8.424180910359397\n",
      "MAE: 5.903112787362292\n",
      "--------------------------------------------------\n",
      "FOLD: 4\n",
      "RMSE: 9.3636826670202\n",
      "MAE: 6.532705077380895\n",
      "--------------------------------------------------\n",
      "                  CLOBAL ERROR\n",
      "--------------------------------------------------\n",
      "RMSE: 7.961714022944148...\n",
      "MAE: 5.024265390741846...\n",
      "--------------------------------------------------\n",
      "\n",
      "CPU times: user 6.18 s, sys: 68.4 ms, total: 6.25 s\n",
      "Wall time: 1.88 s\n"
     ]
    }
   ],
   "source": [
    "%%time\n",
    "nfolds=5\n",
    "params_lgbm = {'metric': 'rmse',\n",
    "               'n_estimators': 10000,\n",
    "               'learning_rate': 0.1,\n",
    "               'reg_lambda': 1.55,\n",
    "              }\n",
    "model_lgbm5 = LGBMRegressor(**params_lgbm)\n",
    "preds, fi,_ = cross_val_ts(X, test, model_lgbm5, nfolds=nfolds, early_stopping_rounds=10, verbose=1)\n",
    "preds_test['lgbm'] = preds\n",
    "fi_dic['lgbm'] = fi\n",
    "#MAE: 5.772704184732326...\n",
    "#5.905753698720454 - only Mondays, lb=5.911 ok\n",
    "#5.876554843032792 - Mond+hour-min, lb=5.907 ok\n",
    "#5.537198581187138- Mond+h-m+day drop lb=5.235 ok\n",
    "#5.107012722941694 - +cong_med, lb=5.044 ok\n",
    "#5.101405364408466 - hour_peak, lb=5.006 ok\n",
    "#5.094611329761327 - seasons, lb=5.005 ok?\n",
    "########## 5.0714152982339735 num_leaves=16, cv ok, lb nok\n",
    "# 5.0848808594264385 - 'reg_lambda': 1.55, lb=4.988 ok"
   ]
  },
  {
   "cell_type": "markdown",
   "id": "b3d41364",
   "metadata": {
    "papermill": {
     "duration": 0.07876,
     "end_time": "2022-03-18T16:16:59.336938",
     "exception": false,
     "start_time": "2022-03-18T16:16:59.258178",
     "status": "completed"
    },
    "tags": []
   },
   "source": [
    "### XGBoost: ts split"
   ]
  },
  {
   "cell_type": "code",
   "execution_count": 29,
   "id": "2eda6abe",
   "metadata": {
    "execution": {
     "iopub.execute_input": "2022-03-18T16:16:59.495034Z",
     "iopub.status.busy": "2022-03-18T16:16:59.494364Z",
     "iopub.status.idle": "2022-03-18T16:17:05.387781Z",
     "shell.execute_reply": "2022-03-18T16:17:05.388934Z",
     "shell.execute_reply.started": "2022-03-18T16:13:48.977021Z"
    },
    "papermill": {
     "duration": 5.974722,
     "end_time": "2022-03-18T16:17:05.389417",
     "exception": false,
     "start_time": "2022-03-18T16:16:59.414695",
     "status": "completed"
    },
    "tags": []
   },
   "outputs": [
    {
     "name": "stdout",
     "output_type": "stream",
     "text": [
      "FOLD: 0\n",
      "RMSE: 8.488916151845737\n",
      "MAE: 5.955713244319597\n",
      "--------------------------------------------------\n",
      "FOLD: 1\n",
      "RMSE: 8.790689268451043\n",
      "MAE: 5.9299074056244265\n",
      "--------------------------------------------------\n",
      "FOLD: 2\n",
      "RMSE: 8.941536255008755\n",
      "MAE: 6.3102254026917715\n",
      "--------------------------------------------------\n",
      "FOLD: 3\n",
      "RMSE: 8.428834706327832\n",
      "MAE: 5.928654984223653\n",
      "--------------------------------------------------\n",
      "FOLD: 4\n",
      "RMSE: 9.385164896177102\n",
      "MAE: 6.475043082733228\n",
      "--------------------------------------------------\n",
      "                  CLOBAL ERROR\n",
      "--------------------------------------------------\n",
      "RMSE: 8.045863952804108...\n",
      "MAE: 5.0999240199321125...\n",
      "--------------------------------------------------\n",
      "\n",
      "CPU times: user 21.4 s, sys: 65.5 ms, total: 21.5 s\n",
      "Wall time: 5.89 s\n"
     ]
    }
   ],
   "source": [
    "%%time\n",
    "from xgboost import XGBRegressor\n",
    "params_xgb = {'eval_metric':'rmse',\n",
    "              'n_estimators': 1000,\n",
    "              'learning_rate': 0.242, #default is 0.3\n",
    "            }\n",
    "model_xgb = XGBRegressor(**params_xgb)\n",
    "preds, fi, _ = cross_val_ts(X, test,model_xgb , nfolds=nfolds, early_stopping_rounds=10, verbose=1)\n",
    "preds_test['xgb'] = preds\n",
    "fi_dic['xgb'] = fi\n",
    "#5.124649423892373"
   ]
  },
  {
   "cell_type": "markdown",
   "id": "a865d839",
   "metadata": {
    "papermill": {
     "duration": 0.076728,
     "end_time": "2022-03-18T16:17:05.544262",
     "exception": false,
     "start_time": "2022-03-18T16:17:05.467534",
     "status": "completed"
    },
    "tags": []
   },
   "source": [
    "### GradientBoosting"
   ]
  },
  {
   "cell_type": "code",
   "execution_count": 30,
   "id": "850bbabe",
   "metadata": {
    "execution": {
     "iopub.execute_input": "2022-03-18T16:17:05.703264Z",
     "iopub.status.busy": "2022-03-18T16:17:05.702612Z",
     "iopub.status.idle": "2022-03-18T16:17:05.705016Z",
     "shell.execute_reply": "2022-03-18T16:17:05.705520Z",
     "shell.execute_reply.started": "2022-03-18T16:13:54.617188Z"
    },
    "papermill": {
     "duration": 0.084068,
     "end_time": "2022-03-18T16:17:05.705649",
     "exception": false,
     "start_time": "2022-03-18T16:17:05.621581",
     "status": "completed"
    },
    "tags": []
   },
   "outputs": [
    {
     "data": {
      "text/plain": [
       "\"\\nfrom sklearn.ensemble import GradientBoostingRegressor\\n\\nparams_gb = {'validation_fraction': 0.2,\\n             'n_iter_no_change': 10,\\n             'tol': 0.0001,\\n             #'n_estimators': 1000,\\n             #'learning_rate': 0.005 #0.1 default\\n            }\\nmodel_gb = GradientBoostingRegressor(**params_gb)\\npreds, fi, _ = cross_val(X, test,model_gb , nfolds=nfolds, verbose=1)\\npreds_test['gb'] = preds\\nfi_dic['gb'] = fi\\n#5.059212305905221 - default\\n\""
      ]
     },
     "execution_count": 30,
     "metadata": {},
     "output_type": "execute_result"
    }
   ],
   "source": [
    "\"\"\"\n",
    "from sklearn.ensemble import GradientBoostingRegressor\n",
    "\n",
    "params_gb = {'validation_fraction': 0.2,\n",
    "             'n_iter_no_change': 10,\n",
    "             'tol': 0.0001,\n",
    "             #'n_estimators': 1000,\n",
    "             #'learning_rate': 0.005 #0.1 default\n",
    "            }\n",
    "model_gb = GradientBoostingRegressor(**params_gb)\n",
    "preds, fi, _ = cross_val(X, test,model_gb , nfolds=nfolds, verbose=1)\n",
    "preds_test['gb'] = preds\n",
    "fi_dic['gb'] = fi\n",
    "#5.059212305905221 - default\n",
    "\"\"\""
   ]
  },
  {
   "cell_type": "code",
   "execution_count": 31,
   "id": "3829d892",
   "metadata": {
    "execution": {
     "iopub.execute_input": "2022-03-18T16:17:05.865504Z",
     "iopub.status.busy": "2022-03-18T16:17:05.864837Z",
     "iopub.status.idle": "2022-03-18T16:17:05.868814Z",
     "shell.execute_reply": "2022-03-18T16:17:05.868142Z",
     "shell.execute_reply.started": "2022-03-18T16:13:54.625475Z"
    },
    "papermill": {
     "duration": 0.08625,
     "end_time": "2022-03-18T16:17:05.868932",
     "exception": false,
     "start_time": "2022-03-18T16:17:05.782682",
     "status": "completed"
    },
    "tags": []
   },
   "outputs": [
    {
     "data": {
      "text/plain": [
       "\"\\n#params = params_lgbm\\nparams = params_xgb\\n#params = params_cb\\nmy_dict = {}\\nfor val in np.arange(0.205, 0.255, 0.0001):\\n    val = round(val, 4)\\n    params['learning_rate'] = val\\n    model_tmp = XGBRegressor(**params)\\n    preds, fi, error = cross_val_ts(X, test, model_tmp, nfolds=nfolds, early_stopping_rounds=10, verbose=0)\\n    #preds, fi, error = cross_val(X, test, model_tmp, nfolds=nfolds, verbose=0)\\n    my_dict[str(val)] = error\\n    print(val,'\\t', error)\\n    \\nkey_min = min(my_dict.keys(), key=(lambda k: my_dict[k]))\\nprint('=' * 50)\\nprint(key_min, my_dict[key_min])\\n\""
      ]
     },
     "execution_count": 31,
     "metadata": {},
     "output_type": "execute_result"
    }
   ],
   "source": [
    "\"\"\"\n",
    "#params = params_lgbm\n",
    "params = params_xgb\n",
    "#params = params_cb\n",
    "my_dict = {}\n",
    "for val in np.arange(0.205, 0.255, 0.0001):\n",
    "    val = round(val, 4)\n",
    "    params['learning_rate'] = val\n",
    "    model_tmp = XGBRegressor(**params)\n",
    "    preds, fi, error = cross_val_ts(X, test, model_tmp, nfolds=nfolds, early_stopping_rounds=10, verbose=0)\n",
    "    #preds, fi, error = cross_val(X, test, model_tmp, nfolds=nfolds, verbose=0)\n",
    "    my_dict[str(val)] = error\n",
    "    print(val,'\\t', error)\n",
    "    \n",
    "key_min = min(my_dict.keys(), key=(lambda k: my_dict[k]))\n",
    "print('=' * 50)\n",
    "print(key_min, my_dict[key_min])\n",
    "\"\"\""
   ]
  },
  {
   "cell_type": "code",
   "execution_count": 32,
   "id": "9531851b",
   "metadata": {
    "execution": {
     "iopub.execute_input": "2022-03-18T16:17:06.038003Z",
     "iopub.status.busy": "2022-03-18T16:17:06.030776Z",
     "iopub.status.idle": "2022-03-18T16:17:06.041002Z",
     "shell.execute_reply": "2022-03-18T16:17:06.041485Z",
     "shell.execute_reply.started": "2022-03-18T16:13:54.639244Z"
    },
    "papermill": {
     "duration": 0.095388,
     "end_time": "2022-03-18T16:17:06.041631",
     "exception": false,
     "start_time": "2022-03-18T16:17:05.946243",
     "status": "completed"
    },
    "tags": []
   },
   "outputs": [
    {
     "data": {
      "text/html": [
       "<div>\n",
       "<style scoped>\n",
       "    .dataframe tbody tr th:only-of-type {\n",
       "        vertical-align: middle;\n",
       "    }\n",
       "\n",
       "    .dataframe tbody tr th {\n",
       "        vertical-align: top;\n",
       "    }\n",
       "\n",
       "    .dataframe thead th {\n",
       "        text-align: right;\n",
       "    }\n",
       "</style>\n",
       "<table border=\"1\" class=\"dataframe\">\n",
       "  <thead>\n",
       "    <tr style=\"text-align: right;\">\n",
       "      <th></th>\n",
       "      <th>lgbm</th>\n",
       "      <th>xgb</th>\n",
       "      <th>AVG</th>\n",
       "      <th>round_avg</th>\n",
       "    </tr>\n",
       "  </thead>\n",
       "  <tbody>\n",
       "    <tr>\n",
       "      <th>0</th>\n",
       "      <td>47.295756</td>\n",
       "      <td>46.822641</td>\n",
       "      <td>47.059198</td>\n",
       "      <td>47</td>\n",
       "    </tr>\n",
       "    <tr>\n",
       "      <th>1</th>\n",
       "      <td>35.870709</td>\n",
       "      <td>34.564079</td>\n",
       "      <td>35.217394</td>\n",
       "      <td>35</td>\n",
       "    </tr>\n",
       "    <tr>\n",
       "      <th>2</th>\n",
       "      <td>55.757713</td>\n",
       "      <td>55.877637</td>\n",
       "      <td>55.817675</td>\n",
       "      <td>56</td>\n",
       "    </tr>\n",
       "    <tr>\n",
       "      <th>3</th>\n",
       "      <td>24.923643</td>\n",
       "      <td>23.946114</td>\n",
       "      <td>24.434878</td>\n",
       "      <td>24</td>\n",
       "    </tr>\n",
       "    <tr>\n",
       "      <th>4</th>\n",
       "      <td>71.381539</td>\n",
       "      <td>69.713084</td>\n",
       "      <td>70.547311</td>\n",
       "      <td>71</td>\n",
       "    </tr>\n",
       "    <tr>\n",
       "      <th>5</th>\n",
       "      <td>62.998093</td>\n",
       "      <td>62.462558</td>\n",
       "      <td>62.730326</td>\n",
       "      <td>63</td>\n",
       "    </tr>\n",
       "    <tr>\n",
       "      <th>6</th>\n",
       "      <td>47.260868</td>\n",
       "      <td>46.669859</td>\n",
       "      <td>46.965363</td>\n",
       "      <td>47</td>\n",
       "    </tr>\n",
       "    <tr>\n",
       "      <th>7</th>\n",
       "      <td>49.778756</td>\n",
       "      <td>49.069773</td>\n",
       "      <td>49.424264</td>\n",
       "      <td>49</td>\n",
       "    </tr>\n",
       "    <tr>\n",
       "      <th>8</th>\n",
       "      <td>59.723352</td>\n",
       "      <td>59.317774</td>\n",
       "      <td>59.520563</td>\n",
       "      <td>60</td>\n",
       "    </tr>\n",
       "    <tr>\n",
       "      <th>9</th>\n",
       "      <td>68.564271</td>\n",
       "      <td>66.328106</td>\n",
       "      <td>67.446189</td>\n",
       "      <td>67</td>\n",
       "    </tr>\n",
       "  </tbody>\n",
       "</table>\n",
       "</div>"
      ],
      "text/plain": [
       "        lgbm        xgb        AVG  round_avg\n",
       "0  47.295756  46.822641  47.059198         47\n",
       "1  35.870709  34.564079  35.217394         35\n",
       "2  55.757713  55.877637  55.817675         56\n",
       "3  24.923643  23.946114  24.434878         24\n",
       "4  71.381539  69.713084  70.547311         71\n",
       "5  62.998093  62.462558  62.730326         63\n",
       "6  47.260868  46.669859  46.965363         47\n",
       "7  49.778756  49.069773  49.424264         49\n",
       "8  59.723352  59.317774  59.520563         60\n",
       "9  68.564271  66.328106  67.446189         67"
      ]
     },
     "execution_count": 32,
     "metadata": {},
     "output_type": "execute_result"
    }
   ],
   "source": [
    "avg_df = pd.DataFrame(preds_test)\n",
    "##avg_df['round_lgbm'] = avg_df['lgbm'].round().astype(int)\n",
    "##avg_df['round_xgb'] = avg_df['xgb'].round().astype(int)\n",
    "avg_df['AVG'] = avg_df.mean(axis=1)\n",
    "avg_df['round_avg'] = avg_df['AVG'].round().astype(int)\n",
    "\n",
    "#preds_final = avg_df['round_lgbm']\n",
    "#preds_final = avg_df['round_xgb']\n",
    "preds_final = avg_df['round_avg']\n",
    "avg_df.head(10)"
   ]
  },
  {
   "cell_type": "markdown",
   "id": "9312f8a6",
   "metadata": {
    "papermill": {
     "duration": 0.079716,
     "end_time": "2022-03-18T16:17:06.200770",
     "exception": false,
     "start_time": "2022-03-18T16:17:06.121054",
     "status": "completed"
    },
    "tags": []
   },
   "source": [
    "# Sumbit"
   ]
  },
  {
   "cell_type": "code",
   "execution_count": 33,
   "id": "afdc1889",
   "metadata": {
    "execution": {
     "iopub.execute_input": "2022-03-18T16:17:06.365397Z",
     "iopub.status.busy": "2022-03-18T16:17:06.364617Z",
     "iopub.status.idle": "2022-03-18T16:17:06.384058Z",
     "shell.execute_reply": "2022-03-18T16:17:06.384661Z",
     "shell.execute_reply.started": "2022-03-18T16:13:54.663378Z"
    },
    "papermill": {
     "duration": 0.104902,
     "end_time": "2022-03-18T16:17:06.384825",
     "exception": false,
     "start_time": "2022-03-18T16:17:06.279923",
     "status": "completed"
    },
    "tags": []
   },
   "outputs": [
    {
     "name": "stdout",
     "output_type": "stream",
     "text": [
      "CPU times: user 9.05 ms, sys: 1e+03 ns, total: 9.06 ms\n",
      "Wall time: 17.8 ms\n"
     ]
    }
   ],
   "source": [
    "%%time\n",
    "output = pd.read_csv('../input/tabular-playground-series-mar-2022/sample_submission.csv')\n",
    "output['congestion'] = preds_final\n",
    "output.to_csv('submission_lgbm.csv', index=False)"
   ]
  }
 ],
 "metadata": {
  "kernelspec": {
   "display_name": "Python 3",
   "language": "python",
   "name": "python3"
  },
  "language_info": {
   "codemirror_mode": {
    "name": "ipython",
    "version": 3
   },
   "file_extension": ".py",
   "mimetype": "text/x-python",
   "name": "python",
   "nbconvert_exporter": "python",
   "pygments_lexer": "ipython3",
   "version": "3.7.12"
  },
  "papermill": {
   "default_parameters": {},
   "duration": 125.355817,
   "end_time": "2022-03-18T16:17:07.174097",
   "environment_variables": {},
   "exception": null,
   "input_path": "__notebook__.ipynb",
   "output_path": "__notebook__.ipynb",
   "parameters": {},
   "start_time": "2022-03-18T16:15:01.818280",
   "version": "2.3.3"
  }
 },
 "nbformat": 4,
 "nbformat_minor": 5
}
