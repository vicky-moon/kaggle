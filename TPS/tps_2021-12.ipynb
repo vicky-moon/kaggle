{
 "cells": [
  {
   "cell_type": "markdown",
   "id": "0026d48e",
   "metadata": {
    "papermill": {
     "duration": 0.060796,
     "end_time": "2022-01-01T08:50:19.761360",
     "exception": false,
     "start_time": "2022-01-01T08:50:19.700564",
     "status": "completed"
    },
    "tags": []
   },
   "source": [
    "# Load libraries"
   ]
  },
  {
   "cell_type": "code",
   "execution_count": 1,
   "id": "85f98912",
   "metadata": {
    "execution": {
     "iopub.execute_input": "2022-01-01T08:50:19.886999Z",
     "iopub.status.busy": "2022-01-01T08:50:19.885155Z",
     "iopub.status.idle": "2022-01-01T08:50:26.646312Z",
     "shell.execute_reply": "2022-01-01T08:50:26.645653Z",
     "shell.execute_reply.started": "2022-01-01T07:46:59.582926Z"
    },
    "papermill": {
     "duration": 6.824617,
     "end_time": "2022-01-01T08:50:26.646602",
     "exception": false,
     "start_time": "2022-01-01T08:50:19.821985",
     "status": "completed"
    },
    "tags": []
   },
   "outputs": [
    {
     "name": "stdout",
     "output_type": "stream",
     "text": [
      "TensorFlow version: 2.6.2\n"
     ]
    },
    {
     "data": {
      "text/html": [
       "<style type='text/css'>\n",
       ".datatable table.frame { margin-bottom: 0; }\n",
       ".datatable table.frame thead { border-bottom: none; }\n",
       ".datatable table.frame tr.coltypes td {  color: #FFFFFF;  line-height: 6px;  padding: 0 0.5em;}\n",
       ".datatable .bool    { background: #DDDD99; }\n",
       ".datatable .object  { background: #565656; }\n",
       ".datatable .int     { background: #5D9E5D; }\n",
       ".datatable .float   { background: #4040CC; }\n",
       ".datatable .str     { background: #CC4040; }\n",
       ".datatable .time    { background: #40CC40; }\n",
       ".datatable .row_index {  background: var(--jp-border-color3);  border-right: 1px solid var(--jp-border-color0);  color: var(--jp-ui-font-color3);  font-size: 9px;}\n",
       ".datatable .frame tbody td { text-align: left; }\n",
       ".datatable .frame tr.coltypes .row_index {  background: var(--jp-border-color0);}\n",
       ".datatable th:nth-child(2) { padding-left: 12px; }\n",
       ".datatable .hellipsis {  color: var(--jp-cell-editor-border-color);}\n",
       ".datatable .vellipsis {  background: var(--jp-layout-color0);  color: var(--jp-cell-editor-border-color);}\n",
       ".datatable .na {  color: var(--jp-cell-editor-border-color);  font-size: 80%;}\n",
       ".datatable .sp {  opacity: 0.25;}\n",
       ".datatable .footer { font-size: 9px; }\n",
       ".datatable .frame_dimensions {  background: var(--jp-border-color3);  border-top: 1px solid var(--jp-border-color0);  color: var(--jp-ui-font-color3);  display: inline-block;  opacity: 0.6;  padding: 1px 10px 1px 5px;}\n",
       "</style>\n"
      ],
      "text/plain": [
       "<IPython.core.display.HTML object>"
      ]
     },
     "metadata": {},
     "output_type": "display_data"
    }
   ],
   "source": [
    "import os\n",
    "import random\n",
    "import numpy as np\n",
    "import pandas as pd\n",
    "\n",
    "import tensorflow as tf\n",
    "print('TensorFlow version:', tf.__version__)\n",
    "\n",
    "from sklearn.model_selection import train_test_split\n",
    "from sklearn.metrics import accuracy_score\n",
    "\n",
    "import datatable as dt #for fast reading csv files\n",
    "\n",
    "import seaborn as sns\n",
    "\n",
    "import warnings\n",
    "warnings.filterwarnings('ignore')\n",
    "\n",
    "import gc\n",
    "\n",
    "%matplotlib inline\n",
    "import matplotlib.pyplot as plt\n",
    "import matplotlib.image as mpimg"
   ]
  },
  {
   "cell_type": "markdown",
   "id": "4fa719a1",
   "metadata": {
    "papermill": {
     "duration": 0.059019,
     "end_time": "2022-01-01T08:50:26.766909",
     "exception": false,
     "start_time": "2022-01-01T08:50:26.707890",
     "status": "completed"
    },
    "tags": []
   },
   "source": [
    "# Load dataset"
   ]
  },
  {
   "cell_type": "code",
   "execution_count": 2,
   "id": "a42bb926",
   "metadata": {
    "execution": {
     "iopub.execute_input": "2022-01-01T08:50:26.893637Z",
     "iopub.status.busy": "2022-01-01T08:50:26.892887Z",
     "iopub.status.idle": "2022-01-01T08:50:35.400087Z",
     "shell.execute_reply": "2022-01-01T08:50:35.400569Z",
     "shell.execute_reply.started": "2022-01-01T07:47:05.804172Z"
    },
    "papermill": {
     "duration": 8.573861,
     "end_time": "2022-01-01T08:50:35.400760",
     "exception": false,
     "start_time": "2022-01-01T08:50:26.826899",
     "status": "completed"
    },
    "tags": []
   },
   "outputs": [
    {
     "name": "stdout",
     "output_type": "stream",
     "text": [
      "Train shape: (4000000, 55)\n",
      "Test  shape: (1000000, 54)\n"
     ]
    }
   ],
   "source": [
    "train = dt.fread(\"../input/tabular-playground-series-dec-2021/train.csv\").to_pandas()\n",
    "test = dt.fread(\"../input/tabular-playground-series-dec-2021/test.csv\").to_pandas()\n",
    "\n",
    "train = train.set_index(\"Id\")\n",
    "test = test.set_index(\"Id\")\n",
    "\n",
    "print('Train shape:', train.shape)\n",
    "print('Test  shape:', test.shape)"
   ]
  },
  {
   "cell_type": "markdown",
   "id": "6bae1346",
   "metadata": {
    "papermill": {
     "duration": 0.059476,
     "end_time": "2022-01-01T08:50:35.520134",
     "exception": false,
     "start_time": "2022-01-01T08:50:35.460658",
     "status": "completed"
    },
    "tags": []
   },
   "source": [
    "# Data pre-processing"
   ]
  },
  {
   "cell_type": "code",
   "execution_count": 3,
   "id": "515c33da",
   "metadata": {
    "execution": {
     "iopub.execute_input": "2022-01-01T08:50:35.654098Z",
     "iopub.status.busy": "2022-01-01T08:50:35.653098Z",
     "iopub.status.idle": "2022-01-01T08:50:35.681000Z",
     "shell.execute_reply": "2022-01-01T08:50:35.680369Z",
     "shell.execute_reply.started": "2022-01-01T07:47:13.552784Z"
    },
    "papermill": {
     "duration": 0.099306,
     "end_time": "2022-01-01T08:50:35.681166",
     "exception": false,
     "start_time": "2022-01-01T08:50:35.581860",
     "status": "completed"
    },
    "tags": []
   },
   "outputs": [
    {
     "name": "stdout",
     "output_type": "stream",
     "text": [
      "NFEATURES: 54\n",
      "NCLASSES: 7\n",
      "SEED: 2021\n"
     ]
    }
   ],
   "source": [
    "NFEATURES = train.shape[1] - 1\n",
    "NCLASSES = train[\"Cover_Type\"].nunique()\n",
    "SEED = 2021\n",
    "\n",
    "print('NFEATURES:', NFEATURES)\n",
    "print('NCLASSES:', NCLASSES)\n",
    "print('SEED:', SEED)\n",
    "\n",
    "def tf_seed(seed=0):\n",
    "    os.environ['PYTHONHASHSEED'] = str(seed)\n",
    "    # For working on GPUs from \"TensorFlow Determinism\"\n",
    "    #os.environ[\"TF_DETERMINISTIC_OPS\"] = str(seed)\n",
    "    np.random.seed(seed)\n",
    "    random.seed(seed)\n",
    "    tf.random.set_seed(seed)\n",
    "    \n",
    "tf_seed(SEED)"
   ]
  },
  {
   "cell_type": "markdown",
   "id": "c27f2abd",
   "metadata": {
    "papermill": {
     "duration": 0.061855,
     "end_time": "2022-01-01T08:50:35.802791",
     "exception": false,
     "start_time": "2022-01-01T08:50:35.740936",
     "status": "completed"
    },
    "tags": []
   },
   "source": [
    "## Reduce memory usage"
   ]
  },
  {
   "cell_type": "code",
   "execution_count": 4,
   "id": "c0d7a7f9",
   "metadata": {
    "execution": {
     "iopub.execute_input": "2022-01-01T08:50:35.942882Z",
     "iopub.status.busy": "2022-01-01T08:50:35.941740Z",
     "iopub.status.idle": "2022-01-01T08:50:35.945213Z",
     "shell.execute_reply": "2022-01-01T08:50:35.944573Z",
     "shell.execute_reply.started": "2022-01-01T07:47:13.587239Z"
    },
    "papermill": {
     "duration": 0.080186,
     "end_time": "2022-01-01T08:50:35.945392",
     "exception": false,
     "start_time": "2022-01-01T08:50:35.865206",
     "status": "completed"
    },
    "tags": []
   },
   "outputs": [],
   "source": [
    "def reduce_mem_usage(df, verbose=True):\n",
    "    numerics = ['int16', 'int32', 'int64', 'float16', 'float32', 'float64']\n",
    "    start_mem = df.memory_usage().sum() / 1024**2\n",
    "    for col in df.columns:\n",
    "        col_type = df[col].dtypes\n",
    "        if col_type in numerics:\n",
    "            c_min = df[col].min()\n",
    "            c_max = df[col].max()\n",
    "            if str(col_type)[:3] == 'int':\n",
    "                if c_min > np.iinfo(np.int8).min and c_max < np.iinfo(np.int8).max:\n",
    "                    df[col] = df[col].astype(np.int8)\n",
    "                elif c_min > np.iinfo(np.int16).min and c_max < np.iinfo(np.int16).max:\n",
    "                    df[col] = df[col].astype(np.int16)\n",
    "                elif c_min > np.iinfo(np.int32).min and c_max < np.iinfo(np.int32).max:\n",
    "                    df[col] = df[col].astype(np.int32)\n",
    "                elif c_min > np.iinfo(np.int64).min and c_max < np.iinfo(np.int64).max:\n",
    "                    df[col] = df[col].astype(np.int64)\n",
    "            else:\n",
    "                if c_min > np.finfo(np.float16).min and c_max < np.finfo(np.float16).max:\n",
    "                    df[col] = df[col].astype(np.float16)\n",
    "                elif c_min > np.finfo(np.float32).min and c_max < np.finfo(np.float32).max:\n",
    "                    df[col] = df[col].astype(np.float32)\n",
    "                else:\n",
    "                    df[col] = df[col].astype(np.float64)\n",
    "\n",
    "    end_mem = df.memory_usage().sum() / 1024**2\n",
    "    print('Memory usage after optimization is: {:.2f} MB'.format(end_mem))\n",
    "    print('Decreased by {:.1f}%'.format(100 * (start_mem - end_mem) / start_mem))\n",
    "\n",
    "    return df"
   ]
  },
  {
   "cell_type": "code",
   "execution_count": 5,
   "id": "790ed23b",
   "metadata": {
    "execution": {
     "iopub.execute_input": "2022-01-01T08:50:36.079293Z",
     "iopub.status.busy": "2022-01-01T08:50:36.078264Z",
     "iopub.status.idle": "2022-01-01T08:50:36.590912Z",
     "shell.execute_reply": "2022-01-01T08:50:36.590355Z",
     "shell.execute_reply.started": "2022-01-01T07:47:13.602419Z"
    },
    "papermill": {
     "duration": 0.583834,
     "end_time": "2022-01-01T08:50:36.591063",
     "exception": false,
     "start_time": "2022-01-01T08:50:36.007229",
     "status": "completed"
    },
    "tags": []
   },
   "outputs": [
    {
     "name": "stdout",
     "output_type": "stream",
     "text": [
      "## Train set ##\n",
      "Memory usage after optimization is: 274.66 MB\n",
      "Decreased by 25.0%\n",
      "\n",
      "## Test set ##\n",
      "Memory usage after optimization is: 67.71 MB\n",
      "Decreased by 22.8%\n"
     ]
    }
   ],
   "source": [
    "print('## Train set ##')\n",
    "train = reduce_mem_usage(train)\n",
    "\n",
    "print('\\n## Test set ##')\n",
    "test = reduce_mem_usage(test)"
   ]
  },
  {
   "cell_type": "code",
   "execution_count": 6,
   "id": "75f1a1ff",
   "metadata": {
    "execution": {
     "iopub.execute_input": "2022-01-01T08:50:36.892430Z",
     "iopub.status.busy": "2022-01-01T08:50:36.891476Z",
     "iopub.status.idle": "2022-01-01T08:50:36.895258Z",
     "shell.execute_reply": "2022-01-01T08:50:36.895800Z",
     "shell.execute_reply.started": "2022-01-01T07:47:14.090379Z"
    },
    "papermill": {
     "duration": 0.243913,
     "end_time": "2022-01-01T08:50:36.895971",
     "exception": false,
     "start_time": "2022-01-01T08:50:36.652058",
     "status": "completed"
    },
    "tags": []
   },
   "outputs": [
    {
     "data": {
      "text/plain": [
       "25"
      ]
     },
     "execution_count": 6,
     "metadata": {},
     "output_type": "execute_result"
    }
   ],
   "source": [
    "gc.collect()"
   ]
  },
  {
   "cell_type": "markdown",
   "id": "1529819a",
   "metadata": {
    "papermill": {
     "duration": 0.061832,
     "end_time": "2022-01-01T08:50:37.019849",
     "exception": false,
     "start_time": "2022-01-01T08:50:36.958017",
     "status": "completed"
    },
    "tags": []
   },
   "source": [
    "# EDA"
   ]
  },
  {
   "cell_type": "markdown",
   "id": "d233736d",
   "metadata": {
    "papermill": {
     "duration": 0.062449,
     "end_time": "2022-01-01T08:50:37.143572",
     "exception": false,
     "start_time": "2022-01-01T08:50:37.081123",
     "status": "completed"
    },
    "tags": []
   },
   "source": [
    "## Missing values"
   ]
  },
  {
   "cell_type": "code",
   "execution_count": 7,
   "id": "284825e4",
   "metadata": {
    "execution": {
     "iopub.execute_input": "2022-01-01T08:50:37.273748Z",
     "iopub.status.busy": "2022-01-01T08:50:37.272270Z",
     "iopub.status.idle": "2022-01-01T08:50:37.688782Z",
     "shell.execute_reply": "2022-01-01T08:50:37.689547Z",
     "shell.execute_reply.started": "2022-01-01T07:47:14.297133Z"
    },
    "papermill": {
     "duration": 0.484239,
     "end_time": "2022-01-01T08:50:37.689784",
     "exception": false,
     "start_time": "2022-01-01T08:50:37.205545",
     "status": "completed"
    },
    "tags": []
   },
   "outputs": [
    {
     "name": "stdout",
     "output_type": "stream",
     "text": [
      "Train miss vals: False\n",
      "Test miss vals: False\n"
     ]
    }
   ],
   "source": [
    "print('Train miss vals:', train.isnull().values.any())\n",
    "print('Test miss vals:', test.isnull().values.any())"
   ]
  },
  {
   "cell_type": "markdown",
   "id": "a4a1b013",
   "metadata": {
    "papermill": {
     "duration": 0.061571,
     "end_time": "2022-01-01T08:50:37.814859",
     "exception": false,
     "start_time": "2022-01-01T08:50:37.753288",
     "status": "completed"
    },
    "tags": []
   },
   "source": [
    "No missing values in train and test sets"
   ]
  },
  {
   "cell_type": "markdown",
   "id": "bdee3625",
   "metadata": {
    "papermill": {
     "duration": 0.061703,
     "end_time": "2022-01-01T08:50:37.941261",
     "exception": false,
     "start_time": "2022-01-01T08:50:37.879558",
     "status": "completed"
    },
    "tags": []
   },
   "source": [
    "## Statisticks"
   ]
  },
  {
   "cell_type": "code",
   "execution_count": 8,
   "id": "25b34a6d",
   "metadata": {
    "execution": {
     "iopub.execute_input": "2022-01-01T08:50:38.070469Z",
     "iopub.status.busy": "2022-01-01T08:50:38.069797Z",
     "iopub.status.idle": "2022-01-01T08:50:38.072228Z",
     "shell.execute_reply": "2022-01-01T08:50:38.071662Z",
     "shell.execute_reply.started": "2022-01-01T07:47:14.724113Z"
    },
    "papermill": {
     "duration": 0.069923,
     "end_time": "2022-01-01T08:50:38.072382",
     "exception": false,
     "start_time": "2022-01-01T08:50:38.002459",
     "status": "completed"
    },
    "tags": []
   },
   "outputs": [],
   "source": [
    "def draw_statisticks(df):\n",
    "    return df.iloc[:, :-1].describe().T.sort_values(by='std', ascending=False)\\\n",
    "                          .head(15)\\\n",
    "                          .style.background_gradient(cmap='GnBu')\\\n",
    "                          .bar(subset=[\"mean\",], color='green')\\\n",
    "                          .bar(subset=[\"max\"], color='#BB0000')"
   ]
  },
  {
   "cell_type": "code",
   "execution_count": 9,
   "id": "09f67ee7",
   "metadata": {
    "execution": {
     "iopub.execute_input": "2022-01-01T08:50:38.213404Z",
     "iopub.status.busy": "2022-01-01T08:50:38.212698Z",
     "iopub.status.idle": "2022-01-01T08:50:39.707422Z",
     "shell.execute_reply": "2022-01-01T08:50:39.707924Z",
     "shell.execute_reply.started": "2022-01-01T07:47:14.732527Z"
    },
    "papermill": {
     "duration": 1.572805,
     "end_time": "2022-01-01T08:50:39.708114",
     "exception": false,
     "start_time": "2022-01-01T08:50:38.135309",
     "status": "completed"
    },
    "tags": []
   },
   "outputs": [
    {
     "data": {
      "text/html": [
       "<style type=\"text/css\">\n",
       "#T_aa16d_row0_col0, #T_aa16d_row1_col0, #T_aa16d_row2_col0, #T_aa16d_row3_col0, #T_aa16d_row4_col0, #T_aa16d_row5_col0, #T_aa16d_row5_col3, #T_aa16d_row5_col4, #T_aa16d_row6_col0, #T_aa16d_row7_col0, #T_aa16d_row8_col0, #T_aa16d_row9_col0, #T_aa16d_row9_col2, #T_aa16d_row9_col4, #T_aa16d_row9_col5, #T_aa16d_row9_col6 {\n",
       "  background-color: #f7fcf0;\n",
       "  color: #000000;\n",
       "}\n",
       "#T_aa16d_row0_col1 {\n",
       "  background-color: #5abacf;\n",
       "  color: #000000;\n",
       "  width: 10em;\n",
       "  height: 80%;\n",
       "  background: linear-gradient(90deg,green 59.1%, transparent 59.1%);\n",
       "}\n",
       "#T_aa16d_row0_col2, #T_aa16d_row2_col3, #T_aa16d_row2_col4, #T_aa16d_row2_col5, #T_aa16d_row2_col6 {\n",
       "  background-color: #084081;\n",
       "  color: #f1f1f1;\n",
       "}\n",
       "#T_aa16d_row0_col3 {\n",
       "  background-color: #f5fbee;\n",
       "  color: #000000;\n",
       "}\n",
       "#T_aa16d_row0_col4 {\n",
       "  background-color: #bfe6bf;\n",
       "  color: #000000;\n",
       "}\n",
       "#T_aa16d_row0_col5 {\n",
       "  background-color: #81cec2;\n",
       "  color: #000000;\n",
       "}\n",
       "#T_aa16d_row0_col6 {\n",
       "  background-color: #3091c1;\n",
       "  color: #f1f1f1;\n",
       "}\n",
       "#T_aa16d_row0_col7 {\n",
       "  background-color: #085093;\n",
       "  color: #f1f1f1;\n",
       "  width: 10em;\n",
       "  height: 80%;\n",
       "  background: linear-gradient(90deg,#BB0000 94.9%, transparent 94.9%);\n",
       "}\n",
       "#T_aa16d_row1_col1 {\n",
       "  background-color: #70c6c8;\n",
       "  color: #000000;\n",
       "  width: 10em;\n",
       "  height: 80%;\n",
       "  background: linear-gradient(90deg,green 52.8%, transparent 52.8%);\n",
       "}\n",
       "#T_aa16d_row1_col2 {\n",
       "  background-color: #0d6dae;\n",
       "  color: #f1f1f1;\n",
       "}\n",
       "#T_aa16d_row1_col3, #T_aa16d_row5_col6, #T_aa16d_row7_col2 {\n",
       "  background-color: #f4fbed;\n",
       "  color: #000000;\n",
       "}\n",
       "#T_aa16d_row1_col4 {\n",
       "  background-color: #c3e7c1;\n",
       "  color: #000000;\n",
       "}\n",
       "#T_aa16d_row1_col5 {\n",
       "  background-color: #8bd2bf;\n",
       "  color: #000000;\n",
       "}\n",
       "#T_aa16d_row1_col6 {\n",
       "  background-color: #48accf;\n",
       "  color: #f1f1f1;\n",
       "}\n",
       "#T_aa16d_row1_col7 {\n",
       "  background-color: #084081;\n",
       "  color: #f1f1f1;\n",
       "  width: 10em;\n",
       "  height: 80%;\n",
       "  background: linear-gradient(90deg,#BB0000 100.0%, transparent 100.0%);\n",
       "}\n",
       "#T_aa16d_row2_col1 {\n",
       "  background-color: #084081;\n",
       "  color: #f1f1f1;\n",
       "  width: 10em;\n",
       "  height: 80%;\n",
       "  background: linear-gradient(90deg,green 100.0%, transparent 100.0%);\n",
       "}\n",
       "#T_aa16d_row2_col2 {\n",
       "  background-color: #d2edcc;\n",
       "  color: #000000;\n",
       "}\n",
       "#T_aa16d_row2_col7 {\n",
       "  background-color: #6cc4c9;\n",
       "  color: #000000;\n",
       "  width: 10em;\n",
       "  height: 80%;\n",
       "  background: linear-gradient(90deg,#BB0000 53.9%, transparent 53.9%);\n",
       "}\n",
       "#T_aa16d_row3_col1 {\n",
       "  background-color: #e7f6e2;\n",
       "  color: #000000;\n",
       "  width: 10em;\n",
       "  height: 80%;\n",
       "  background: linear-gradient(90deg,green 8.6%, transparent 8.6%);\n",
       "}\n",
       "#T_aa16d_row3_col2 {\n",
       "  background-color: #daf0d4;\n",
       "  color: #000000;\n",
       "}\n",
       "#T_aa16d_row3_col3, #T_aa16d_row3_col6 {\n",
       "  background-color: #e4f4de;\n",
       "  color: #000000;\n",
       "}\n",
       "#T_aa16d_row3_col4, #T_aa16d_row4_col5 {\n",
       "  background-color: #f1f9ea;\n",
       "  color: #000000;\n",
       "}\n",
       "#T_aa16d_row3_col5, #T_aa16d_row7_col5, #T_aa16d_row7_col6, #T_aa16d_row8_col6 {\n",
       "  background-color: #ebf7e5;\n",
       "  color: #000000;\n",
       "}\n",
       "#T_aa16d_row3_col7 {\n",
       "  background-color: #d5efcf;\n",
       "  color: #000000;\n",
       "  width: 10em;\n",
       "  height: 80%;\n",
       "  background: linear-gradient(90deg,#BB0000 19.2%, transparent 19.2%);\n",
       "}\n",
       "#T_aa16d_row4_col1 {\n",
       "  background-color: #eff9e9;\n",
       "  color: #000000;\n",
       "  width: 10em;\n",
       "  height: 80%;\n",
       "  background: linear-gradient(90deg,green 4.6%, transparent 4.6%);\n",
       "}\n",
       "#T_aa16d_row4_col2, #T_aa16d_row8_col4 {\n",
       "  background-color: #e9f7e3;\n",
       "  color: #000000;\n",
       "}\n",
       "#T_aa16d_row4_col3 {\n",
       "  background-color: #dff2da;\n",
       "  color: #000000;\n",
       "}\n",
       "#T_aa16d_row4_col4 {\n",
       "  background-color: #f3fbed;\n",
       "  color: #000000;\n",
       "}\n",
       "#T_aa16d_row4_col6, #T_aa16d_row7_col4, #T_aa16d_row8_col5 {\n",
       "  background-color: #eaf7e4;\n",
       "  color: #000000;\n",
       "}\n",
       "#T_aa16d_row4_col7 {\n",
       "  background-color: #f0f9e9;\n",
       "  color: #000000;\n",
       "  width: 10em;\n",
       "  height: 80%;\n",
       "  background: linear-gradient(90deg,#BB0000 4.3%, transparent 4.3%);\n",
       "}\n",
       "#T_aa16d_row5_col1 {\n",
       "  background-color: #f5fbee;\n",
       "  color: #000000;\n",
       "  width: 10em;\n",
       "  height: 80%;\n",
       "  background: linear-gradient(90deg,green 1.2%, transparent 1.2%);\n",
       "}\n",
       "#T_aa16d_row5_col2, #T_aa16d_row6_col5, #T_aa16d_row6_col6 {\n",
       "  background-color: #eff9e9;\n",
       "  color: #000000;\n",
       "}\n",
       "#T_aa16d_row5_col5 {\n",
       "  background-color: #f6fcef;\n",
       "  color: #000000;\n",
       "}\n",
       "#T_aa16d_row5_col7 {\n",
       "  background-color: #eaf7e4;\n",
       "  color: #000000;\n",
       "  width: 10em;\n",
       "  height: 80%;\n",
       "  background: linear-gradient(90deg,#BB0000 7.3%, transparent 7.3%);\n",
       "}\n",
       "#T_aa16d_row6_col1 {\n",
       "  background-color: #f0f9e9;\n",
       "  color: #000000;\n",
       "  width: 10em;\n",
       "  height: 80%;\n",
       "  background: linear-gradient(90deg,green 4.2%, transparent 4.2%);\n",
       "}\n",
       "#T_aa16d_row6_col2 {\n",
       "  background-color: #f3faec;\n",
       "  color: #000000;\n",
       "}\n",
       "#T_aa16d_row6_col3 {\n",
       "  background-color: #e0f3db;\n",
       "  color: #000000;\n",
       "}\n",
       "#T_aa16d_row6_col4 {\n",
       "  background-color: #f0f9e9;\n",
       "  color: #000000;\n",
       "}\n",
       "#T_aa16d_row6_col7 {\n",
       "  background-color: #f3faec;\n",
       "  color: #000000;\n",
       "  width: 10em;\n",
       "  height: 80%;\n",
       "  background: linear-gradient(90deg,#BB0000 2.6%, transparent 2.6%);\n",
       "}\n",
       "#T_aa16d_row7_col1 {\n",
       "  background-color: #ebf7e5;\n",
       "  color: #000000;\n",
       "  width: 10em;\n",
       "  height: 80%;\n",
       "  background: linear-gradient(90deg,green 6.6%, transparent 6.6%);\n",
       "}\n",
       "#T_aa16d_row7_col3, #T_aa16d_row9_col3 {\n",
       "  background-color: #dcf1d7;\n",
       "  color: #000000;\n",
       "}\n",
       "#T_aa16d_row7_col7 {\n",
       "  background-color: #f2faeb;\n",
       "  color: #000000;\n",
       "  width: 10em;\n",
       "  height: 80%;\n",
       "  background: linear-gradient(90deg,#BB0000 3.0%, transparent 3.0%);\n",
       "}\n",
       "#T_aa16d_row8_col1 {\n",
       "  background-color: #ebf7e5;\n",
       "  color: #000000;\n",
       "  width: 10em;\n",
       "  height: 80%;\n",
       "  background: linear-gradient(90deg,green 6.9%, transparent 6.9%);\n",
       "}\n",
       "#T_aa16d_row8_col2 {\n",
       "  background-color: #f6fbef;\n",
       "  color: #000000;\n",
       "}\n",
       "#T_aa16d_row8_col3 {\n",
       "  background-color: #d8f0d3;\n",
       "  color: #000000;\n",
       "}\n",
       "#T_aa16d_row8_col7 {\n",
       "  background-color: #f3faec;\n",
       "  color: #000000;\n",
       "  width: 10em;\n",
       "  height: 80%;\n",
       "  background: linear-gradient(90deg,#BB0000 2.7%, transparent 2.7%);\n",
       "}\n",
       "#T_aa16d_row9_col1, #T_aa16d_row9_col7 {\n",
       "  background-color: #f7fcf0;\n",
       "  color: #000000;\n",
       "  width: 10em;\n",
       "  height: 80%;\n",
       "}\n",
       "</style>\n",
       "<table id=\"T_aa16d_\">\n",
       "  <thead>\n",
       "    <tr>\n",
       "      <th class=\"blank level0\" >&nbsp;</th>\n",
       "      <th class=\"col_heading level0 col0\" >count</th>\n",
       "      <th class=\"col_heading level0 col1\" >mean</th>\n",
       "      <th class=\"col_heading level0 col2\" >std</th>\n",
       "      <th class=\"col_heading level0 col3\" >min</th>\n",
       "      <th class=\"col_heading level0 col4\" >25%</th>\n",
       "      <th class=\"col_heading level0 col5\" >50%</th>\n",
       "      <th class=\"col_heading level0 col6\" >75%</th>\n",
       "      <th class=\"col_heading level0 col7\" >max</th>\n",
       "    </tr>\n",
       "  </thead>\n",
       "  <tbody>\n",
       "    <tr>\n",
       "      <th id=\"T_aa16d_level0_row0\" class=\"row_heading level0 row0\" >Horizontal_Distance_To_Roadways</th>\n",
       "      <td id=\"T_aa16d_row0_col0\" class=\"data row0 col0\" >4000000.000000</td>\n",
       "      <td id=\"T_aa16d_row0_col1\" class=\"data row0 col1\" >1766.641630</td>\n",
       "      <td id=\"T_aa16d_row0_col2\" class=\"data row0 col2\" >1315.609890</td>\n",
       "      <td id=\"T_aa16d_row0_col3\" class=\"data row0 col3\" >-287.000000</td>\n",
       "      <td id=\"T_aa16d_row0_col4\" class=\"data row0 col4\" >822.000000</td>\n",
       "      <td id=\"T_aa16d_row0_col5\" class=\"data row0 col5\" >1436.000000</td>\n",
       "      <td id=\"T_aa16d_row0_col6\" class=\"data row0 col6\" >2365.000000</td>\n",
       "      <td id=\"T_aa16d_row0_col7\" class=\"data row0 col7\" >7666.000000</td>\n",
       "    </tr>\n",
       "    <tr>\n",
       "      <th id=\"T_aa16d_level0_row1\" class=\"row_heading level0 row1\" >Horizontal_Distance_To_Fire_Points</th>\n",
       "      <td id=\"T_aa16d_row1_col0\" class=\"data row1 col0\" >4000000.000000</td>\n",
       "      <td id=\"T_aa16d_row1_col1\" class=\"data row1 col1\" >1581.406810</td>\n",
       "      <td id=\"T_aa16d_row1_col2\" class=\"data row1 col2\" >1127.616169</td>\n",
       "      <td id=\"T_aa16d_row1_col3\" class=\"data row1 col3\" >-277.000000</td>\n",
       "      <td id=\"T_aa16d_row1_col4\" class=\"data row1 col4\" >781.000000</td>\n",
       "      <td id=\"T_aa16d_row1_col5\" class=\"data row1 col5\" >1361.000000</td>\n",
       "      <td id=\"T_aa16d_row1_col6\" class=\"data row1 col6\" >2084.000000</td>\n",
       "      <td id=\"T_aa16d_row1_col7\" class=\"data row1 col7\" >8075.000000</td>\n",
       "    </tr>\n",
       "    <tr>\n",
       "      <th id=\"T_aa16d_level0_row2\" class=\"row_heading level0 row2\" >Elevation</th>\n",
       "      <td id=\"T_aa16d_row2_col0\" class=\"data row2 col0\" >4000000.000000</td>\n",
       "      <td id=\"T_aa16d_row2_col1\" class=\"data row2 col1\" >2980.191660</td>\n",
       "      <td id=\"T_aa16d_row2_col2\" class=\"data row2 col2\" >289.048167</td>\n",
       "      <td id=\"T_aa16d_row2_col3\" class=\"data row2 col3\" >1773.000000</td>\n",
       "      <td id=\"T_aa16d_row2_col4\" class=\"data row2 col4\" >2760.000000</td>\n",
       "      <td id=\"T_aa16d_row2_col5\" class=\"data row2 col5\" >2966.000000</td>\n",
       "      <td id=\"T_aa16d_row2_col6\" class=\"data row2 col6\" >3217.000000</td>\n",
       "      <td id=\"T_aa16d_row2_col7\" class=\"data row2 col7\" >4383.000000</td>\n",
       "    </tr>\n",
       "    <tr>\n",
       "      <th id=\"T_aa16d_level0_row3\" class=\"row_heading level0 row3\" >Horizontal_Distance_To_Hydrology</th>\n",
       "      <td id=\"T_aa16d_row3_col0\" class=\"data row3 col0\" >4000000.000000</td>\n",
       "      <td id=\"T_aa16d_row3_col1\" class=\"data row3 col1\" >271.315436</td>\n",
       "      <td id=\"T_aa16d_row3_col2\" class=\"data row3 col2\" >226.549680</td>\n",
       "      <td id=\"T_aa16d_row3_col3\" class=\"data row3 col3\" >-92.000000</td>\n",
       "      <td id=\"T_aa16d_row3_col4\" class=\"data row3 col4\" >110.000000</td>\n",
       "      <td id=\"T_aa16d_row3_col5\" class=\"data row3 col5\" >213.000000</td>\n",
       "      <td id=\"T_aa16d_row3_col6\" class=\"data row3 col6\" >361.000000</td>\n",
       "      <td id=\"T_aa16d_row3_col7\" class=\"data row3 col7\" >1602.000000</td>\n",
       "    </tr>\n",
       "    <tr>\n",
       "      <th id=\"T_aa16d_level0_row4\" class=\"row_heading level0 row4\" >Aspect</th>\n",
       "      <td id=\"T_aa16d_row4_col0\" class=\"data row4 col0\" >4000000.000000</td>\n",
       "      <td id=\"T_aa16d_row4_col1\" class=\"data row4 col1\" >151.585671</td>\n",
       "      <td id=\"T_aa16d_row4_col2\" class=\"data row4 col2\" >109.961122</td>\n",
       "      <td id=\"T_aa16d_row4_col3\" class=\"data row4 col3\" >-33.000000</td>\n",
       "      <td id=\"T_aa16d_row4_col4\" class=\"data row4 col4\" >60.000000</td>\n",
       "      <td id=\"T_aa16d_row4_col5\" class=\"data row4 col5\" >123.000000</td>\n",
       "      <td id=\"T_aa16d_row4_col6\" class=\"data row4 col6\" >247.000000</td>\n",
       "      <td id=\"T_aa16d_row4_col7\" class=\"data row4 col7\" >407.000000</td>\n",
       "    </tr>\n",
       "    <tr>\n",
       "      <th id=\"T_aa16d_level0_row5\" class=\"row_heading level0 row5\" >Vertical_Distance_To_Hydrology</th>\n",
       "      <td id=\"T_aa16d_row5_col0\" class=\"data row5 col0\" >4000000.000000</td>\n",
       "      <td id=\"T_aa16d_row5_col1\" class=\"data row5 col1\" >51.662621</td>\n",
       "      <td id=\"T_aa16d_row5_col2\" class=\"data row5 col2\" >68.215966</td>\n",
       "      <td id=\"T_aa16d_row5_col3\" class=\"data row5 col3\" >-317.000000</td>\n",
       "      <td id=\"T_aa16d_row5_col4\" class=\"data row5 col4\" >4.000000</td>\n",
       "      <td id=\"T_aa16d_row5_col5\" class=\"data row5 col5\" >31.000000</td>\n",
       "      <td id=\"T_aa16d_row5_col6\" class=\"data row5 col6\" >78.000000</td>\n",
       "      <td id=\"T_aa16d_row5_col7\" class=\"data row5 col7\" >647.000000</td>\n",
       "    </tr>\n",
       "    <tr>\n",
       "      <th id=\"T_aa16d_level0_row6\" class=\"row_heading level0 row6\" >Hillshade_3pm</th>\n",
       "      <td id=\"T_aa16d_row6_col0\" class=\"data row6 col0\" >4000000.000000</td>\n",
       "      <td id=\"T_aa16d_row6_col1\" class=\"data row6 col1\" >140.810874</td>\n",
       "      <td id=\"T_aa16d_row6_col2\" class=\"data row6 col2\" >43.698639</td>\n",
       "      <td id=\"T_aa16d_row6_col3\" class=\"data row6 col3\" >-53.000000</td>\n",
       "      <td id=\"T_aa16d_row6_col4\" class=\"data row6 col4\" >115.000000</td>\n",
       "      <td id=\"T_aa16d_row6_col5\" class=\"data row6 col5\" >142.000000</td>\n",
       "      <td id=\"T_aa16d_row6_col6\" class=\"data row6 col6\" >169.000000</td>\n",
       "      <td id=\"T_aa16d_row6_col7\" class=\"data row6 col7\" >272.000000</td>\n",
       "    </tr>\n",
       "    <tr>\n",
       "      <th id=\"T_aa16d_level0_row7\" class=\"row_heading level0 row7\" >Hillshade_9am</th>\n",
       "      <td id=\"T_aa16d_row7_col0\" class=\"data row7 col0\" >4000000.000000</td>\n",
       "      <td id=\"T_aa16d_row7_col1\" class=\"data row7 col1\" >211.837542</td>\n",
       "      <td id=\"T_aa16d_row7_col2\" class=\"data row7 col2\" >30.759956</td>\n",
       "      <td id=\"T_aa16d_row7_col3\" class=\"data row7 col3\" >-4.000000</td>\n",
       "      <td id=\"T_aa16d_row7_col4\" class=\"data row7 col4\" >198.000000</td>\n",
       "      <td id=\"T_aa16d_row7_col5\" class=\"data row7 col5\" >218.000000</td>\n",
       "      <td id=\"T_aa16d_row7_col6\" class=\"data row7 col6\" >233.000000</td>\n",
       "      <td id=\"T_aa16d_row7_col7\" class=\"data row7 col7\" >301.000000</td>\n",
       "    </tr>\n",
       "    <tr>\n",
       "      <th id=\"T_aa16d_level0_row8\" class=\"row_heading level0 row8\" >Hillshade_Noon</th>\n",
       "      <td id=\"T_aa16d_row8_col0\" class=\"data row8 col0\" >4000000.000000</td>\n",
       "      <td id=\"T_aa16d_row8_col1\" class=\"data row8 col1\" >221.061441</td>\n",
       "      <td id=\"T_aa16d_row8_col2\" class=\"data row8 col2\" >22.231335</td>\n",
       "      <td id=\"T_aa16d_row8_col3\" class=\"data row8 col3\" >49.000000</td>\n",
       "      <td id=\"T_aa16d_row8_col4\" class=\"data row8 col4\" >210.000000</td>\n",
       "      <td id=\"T_aa16d_row8_col5\" class=\"data row8 col5\" >224.000000</td>\n",
       "      <td id=\"T_aa16d_row8_col6\" class=\"data row8 col6\" >237.000000</td>\n",
       "      <td id=\"T_aa16d_row8_col7\" class=\"data row8 col7\" >279.000000</td>\n",
       "    </tr>\n",
       "    <tr>\n",
       "      <th id=\"T_aa16d_level0_row9\" class=\"row_heading level0 row9\" >Slope</th>\n",
       "      <td id=\"T_aa16d_row9_col0\" class=\"data row9 col0\" >4000000.000000</td>\n",
       "      <td id=\"T_aa16d_row9_col1\" class=\"data row9 col1\" >15.097537</td>\n",
       "      <td id=\"T_aa16d_row9_col2\" class=\"data row9 col2\" >8.546731</td>\n",
       "      <td id=\"T_aa16d_row9_col3\" class=\"data row9 col3\" >-3.000000</td>\n",
       "      <td id=\"T_aa16d_row9_col4\" class=\"data row9 col4\" >9.000000</td>\n",
       "      <td id=\"T_aa16d_row9_col5\" class=\"data row9 col5\" >14.000000</td>\n",
       "      <td id=\"T_aa16d_row9_col6\" class=\"data row9 col6\" >20.000000</td>\n",
       "      <td id=\"T_aa16d_row9_col7\" class=\"data row9 col7\" >64.000000</td>\n",
       "    </tr>\n",
       "  </tbody>\n",
       "</table>\n"
      ],
      "text/plain": [
       "<pandas.io.formats.style.Styler at 0x7f22ccde05d0>"
      ]
     },
     "execution_count": 9,
     "metadata": {},
     "output_type": "execute_result"
    }
   ],
   "source": [
    "draw_statisticks(train)"
   ]
  },
  {
   "cell_type": "markdown",
   "id": "5db793f5",
   "metadata": {
    "papermill": {
     "duration": 0.064125,
     "end_time": "2022-01-01T08:50:39.837798",
     "exception": false,
     "start_time": "2022-01-01T08:50:39.773673",
     "status": "completed"
    },
    "tags": []
   },
   "source": [
    "* First 4 features have higher magnitude comparing to other features.\n",
    "Removing outliers from them didn't help."
   ]
  },
  {
   "cell_type": "markdown",
   "id": "7a0c1631",
   "metadata": {
    "papermill": {
     "duration": 0.062421,
     "end_time": "2022-01-01T08:50:39.965129",
     "exception": false,
     "start_time": "2022-01-01T08:50:39.902708",
     "status": "completed"
    },
    "tags": []
   },
   "source": [
    "# Feature engineering"
   ]
  },
  {
   "cell_type": "markdown",
   "id": "646af49a",
   "metadata": {
    "papermill": {
     "duration": 0.064513,
     "end_time": "2022-01-01T08:50:40.095330",
     "exception": false,
     "start_time": "2022-01-01T08:50:40.030817",
     "status": "completed"
    },
    "tags": []
   },
   "source": [
    "### Remove redundent(constant) features"
   ]
  },
  {
   "cell_type": "code",
   "execution_count": 10,
   "id": "7aa74b76",
   "metadata": {
    "execution": {
     "iopub.execute_input": "2022-01-01T08:50:40.258001Z",
     "iopub.status.busy": "2022-01-01T08:50:40.254966Z",
     "iopub.status.idle": "2022-01-01T08:50:40.314236Z",
     "shell.execute_reply": "2022-01-01T08:50:40.313638Z",
     "shell.execute_reply.started": "2022-01-01T07:47:16.359280Z"
    },
    "papermill": {
     "duration": 0.146354,
     "end_time": "2022-01-01T08:50:40.314392",
     "exception": false,
     "start_time": "2022-01-01T08:50:40.168038",
     "status": "completed"
    },
    "tags": []
   },
   "outputs": [
    {
     "name": "stdout",
     "output_type": "stream",
     "text": [
      "\n",
      "\n",
      "## Soil_Type7 feature ##\n",
      "\n",
      "Train set:\n",
      "False    4000000\n",
      "Name: Soil_Type7, dtype: int64\n",
      "\n",
      "Test set:\n",
      "False    1000000\n",
      "Name: Soil_Type7, dtype: int64\n",
      "\n",
      "\n",
      "## Soil_Type15 feature ##\n",
      "\n",
      "Train set:\n",
      "False    4000000\n",
      "Name: Soil_Type15, dtype: int64\n",
      "\n",
      "Test set:\n",
      "False    1000000\n",
      "Name: Soil_Type15, dtype: int64\n"
     ]
    }
   ],
   "source": [
    "# All variables have the same value for Soil_Type7 and Soil_Type15 features\n",
    "print('\\n\\n## Soil_Type7 feature ##')\n",
    "print('\\nTrain set:')\n",
    "print(train['Soil_Type7'].value_counts())\n",
    "print('\\nTest set:')\n",
    "print(test['Soil_Type7'].value_counts())\n",
    "\n",
    "print('\\n\\n## Soil_Type15 feature ##')\n",
    "print('\\nTrain set:')\n",
    "print(train['Soil_Type15'].value_counts())\n",
    "print('\\nTest set:')\n",
    "print(test['Soil_Type15'].value_counts())"
   ]
  },
  {
   "cell_type": "code",
   "execution_count": 11,
   "id": "62f5bebe",
   "metadata": {
    "execution": {
     "iopub.execute_input": "2022-01-01T08:50:40.443858Z",
     "iopub.status.busy": "2022-01-01T08:50:40.443203Z",
     "iopub.status.idle": "2022-01-01T08:50:40.740937Z",
     "shell.execute_reply": "2022-01-01T08:50:40.741786Z",
     "shell.execute_reply.started": "2022-01-01T07:47:16.424511Z"
    },
    "papermill": {
     "duration": 0.364318,
     "end_time": "2022-01-01T08:50:40.742041",
     "exception": false,
     "start_time": "2022-01-01T08:50:40.377723",
     "status": "completed"
    },
    "tags": []
   },
   "outputs": [
    {
     "name": "stdout",
     "output_type": "stream",
     "text": [
      "Train shape: (4000000, 53)\n",
      "Test  shape: (1000000, 52)\n"
     ]
    }
   ],
   "source": [
    "train.drop([ 'Soil_Type7', 'Soil_Type15'], axis=1, inplace=True)\n",
    "test.drop(['Soil_Type7', 'Soil_Type15'], axis=1, inplace=True)\n",
    "print('Train shape:', train.shape)\n",
    "print('Test  shape:', test.shape)"
   ]
  },
  {
   "cell_type": "code",
   "execution_count": 12,
   "id": "5be68b2d",
   "metadata": {
    "execution": {
     "iopub.execute_input": "2022-01-01T08:50:40.876071Z",
     "iopub.status.busy": "2022-01-01T08:50:40.875419Z",
     "iopub.status.idle": "2022-01-01T08:50:41.056549Z",
     "shell.execute_reply": "2022-01-01T08:50:41.056001Z",
     "shell.execute_reply.started": "2022-01-01T07:47:16.710360Z"
    },
    "papermill": {
     "duration": 0.247221,
     "end_time": "2022-01-01T08:50:41.056689",
     "exception": false,
     "start_time": "2022-01-01T08:50:40.809468",
     "status": "completed"
    },
    "tags": []
   },
   "outputs": [
    {
     "data": {
      "text/plain": [
       "65"
      ]
     },
     "execution_count": 12,
     "metadata": {},
     "output_type": "execute_result"
    }
   ],
   "source": [
    "gc.collect()"
   ]
  },
  {
   "cell_type": "markdown",
   "id": "1545c015",
   "metadata": {
    "papermill": {
     "duration": 0.063606,
     "end_time": "2022-01-01T08:50:41.184132",
     "exception": false,
     "start_time": "2022-01-01T08:50:41.120526",
     "status": "completed"
    },
    "tags": []
   },
   "source": [
    "### Correct negative distances"
   ]
  },
  {
   "cell_type": "code",
   "execution_count": 13,
   "id": "4f7c51c7",
   "metadata": {
    "execution": {
     "iopub.execute_input": "2022-01-01T08:50:41.316753Z",
     "iopub.status.busy": "2022-01-01T08:50:41.316043Z",
     "iopub.status.idle": "2022-01-01T08:50:41.318571Z",
     "shell.execute_reply": "2022-01-01T08:50:41.319047Z",
     "shell.execute_reply.started": "2022-01-01T07:47:16.880420Z"
    },
    "papermill": {
     "duration": 0.071937,
     "end_time": "2022-01-01T08:50:41.319220",
     "exception": false,
     "start_time": "2022-01-01T08:50:41.247283",
     "status": "completed"
    },
    "tags": []
   },
   "outputs": [
    {
     "data": {
      "text/plain": [
       "'\\ntrain.loc[train[\"Vertical_Distance_To_Hydrology\"] < 0, \"Vertical_Distance_To_Hydrology\"] = -1\\ntest.loc[test[\"Vertical_Distance_To_Hydrology\"] < 0, \"Vertical_Distance_To_Hydrology\"] = -1\\n\\ntrain.loc[train[\"Horizontal_Distance_To_Hydrology\"] < 0, \"Horizontal_Distance_To_Hydrology\"] = -1\\ntest.loc[test[\"Horizontal_Distance_To_Hydrology\"] < 0, \"Horizontal_Distance_To_Hydrology\"] = -1\\n\\ntrain.loc[train[\"Horizontal_Distance_To_Roadways\"] < 0, \"Horizontal_Distance_To_Roadways\"] = -1\\ntest.loc[test[\"Horizontal_Distance_To_Roadways\"] < 0, \"Horizontal_Distance_To_Roadways\"] = -1\\n\\ntrain.loc[train[\"Horizontal_Distance_To_Fire_Points\"] < 0, \"Horizontal_Distance_To_Fire_Points\"] = -1\\ntest.loc[test[\"Horizontal_Distance_To_Fire_Points\"] < 0, \"Horizontal_Distance_To_Fire_Points\"] = -1\\n'"
      ]
     },
     "execution_count": 13,
     "metadata": {},
     "output_type": "execute_result"
    }
   ],
   "source": [
    "\"\"\"\n",
    "train.loc[train[\"Vertical_Distance_To_Hydrology\"] < 0, \"Vertical_Distance_To_Hydrology\"] = -1\n",
    "test.loc[test[\"Vertical_Distance_To_Hydrology\"] < 0, \"Vertical_Distance_To_Hydrology\"] = -1\n",
    "\n",
    "train.loc[train[\"Horizontal_Distance_To_Hydrology\"] < 0, \"Horizontal_Distance_To_Hydrology\"] = -1\n",
    "test.loc[test[\"Horizontal_Distance_To_Hydrology\"] < 0, \"Horizontal_Distance_To_Hydrology\"] = -1\n",
    "\n",
    "train.loc[train[\"Horizontal_Distance_To_Roadways\"] < 0, \"Horizontal_Distance_To_Roadways\"] = -1\n",
    "test.loc[test[\"Horizontal_Distance_To_Roadways\"] < 0, \"Horizontal_Distance_To_Roadways\"] = -1\n",
    "\n",
    "train.loc[train[\"Horizontal_Distance_To_Fire_Points\"] < 0, \"Horizontal_Distance_To_Fire_Points\"] = -1\n",
    "test.loc[test[\"Horizontal_Distance_To_Fire_Points\"] < 0, \"Horizontal_Distance_To_Fire_Points\"] = -1\n",
    "\"\"\""
   ]
  },
  {
   "cell_type": "markdown",
   "id": "6eff399b",
   "metadata": {
    "papermill": {
     "duration": 0.063612,
     "end_time": "2022-01-01T08:50:41.447273",
     "exception": false,
     "start_time": "2022-01-01T08:50:41.383661",
     "status": "completed"
    },
    "tags": []
   },
   "source": [
    "### Soil types and for Wilderness types summary"
   ]
  },
  {
   "cell_type": "markdown",
   "id": "434bf57b",
   "metadata": {
    "papermill": {
     "duration": 0.063164,
     "end_time": "2022-01-01T08:50:41.573785",
     "exception": false,
     "start_time": "2022-01-01T08:50:41.510621",
     "status": "completed"
    },
    "tags": []
   },
   "source": [
    "**OK**. Submit score: 0.95486 --> **0.95514**"
   ]
  },
  {
   "cell_type": "code",
   "execution_count": 14,
   "id": "3e957188",
   "metadata": {
    "execution": {
     "iopub.execute_input": "2022-01-01T08:50:41.703815Z",
     "iopub.status.busy": "2022-01-01T08:50:41.703175Z",
     "iopub.status.idle": "2022-01-01T08:50:42.168780Z",
     "shell.execute_reply": "2022-01-01T08:50:42.168118Z",
     "shell.execute_reply.started": "2022-01-01T07:47:16.896051Z"
    },
    "papermill": {
     "duration": 0.531777,
     "end_time": "2022-01-01T08:50:42.168932",
     "exception": false,
     "start_time": "2022-01-01T08:50:41.637155",
     "status": "completed"
    },
    "tags": []
   },
   "outputs": [
    {
     "name": "stdout",
     "output_type": "stream",
     "text": [
      "Train shape: (4000000, 55)\n",
      "Test  shape: (1000000, 54)\n",
      "CPU times: user 400 ms, sys: 58.2 ms, total: 458 ms\n",
      "Wall time: 458 ms\n"
     ]
    }
   ],
   "source": [
    "\n",
    "%%time\n",
    "soil_types=[col for col in train.columns if col.startswith('Soil')]\n",
    "wilderness_types = [col for col in train.columns if col.startswith('Wilderness')]\n",
    "\n",
    "train['soil_type']=train[soil_types].sum(axis=1)\n",
    "test['soil_type']=test[soil_types].sum(axis=1)\n",
    "\n",
    "train['wilderness_type']=train[wilderness_types].sum(axis=1)\n",
    "test['wilderness_type']=test[wilderness_types].sum(axis=1)\n",
    "\n",
    "print('Train shape:', train.shape)\n",
    "print('Test  shape:', test.shape)"
   ]
  },
  {
   "cell_type": "markdown",
   "id": "10b7bbc3",
   "metadata": {
    "papermill": {
     "duration": 0.064578,
     "end_time": "2022-01-01T08:50:42.297934",
     "exception": false,
     "start_time": "2022-01-01T08:50:42.233356",
     "status": "completed"
    },
    "tags": []
   },
   "source": [
    "### Euklidian distance to Hydrology"
   ]
  },
  {
   "cell_type": "code",
   "execution_count": 15,
   "id": "88744d3c",
   "metadata": {
    "execution": {
     "iopub.execute_input": "2022-01-01T08:50:42.433873Z",
     "iopub.status.busy": "2022-01-01T08:50:42.432624Z",
     "iopub.status.idle": "2022-01-01T08:50:42.445167Z",
     "shell.execute_reply": "2022-01-01T08:50:42.446053Z",
     "shell.execute_reply.started": "2022-01-01T07:47:17.372938Z"
    },
    "papermill": {
     "duration": 0.084172,
     "end_time": "2022-01-01T08:50:42.446286",
     "exception": false,
     "start_time": "2022-01-01T08:50:42.362114",
     "status": "completed"
    },
    "tags": []
   },
   "outputs": [
    {
     "name": "stdout",
     "output_type": "stream",
     "text": [
      "Train shape: (4000000, 56)\n",
      "Test  shape: (1000000, 55)\n",
      "CPU times: user 10.3 ms, sys: 53 µs, total: 10.4 ms\n",
      "Wall time: 9.58 ms\n"
     ]
    }
   ],
   "source": [
    "%%time \n",
    "train['Distance_To_Hydrology'] = np.abs(train['Horizontal_Distance_To_Hydrology'] - train['Vertical_Distance_To_Hydrology'])\n",
    "test['Distance_To_Hydrology']  = np.abs(test['Horizontal_Distance_To_Hydrology'] - test['Vertical_Distance_To_Hydrology'])\n",
    "\n",
    "print('Train shape:', train.shape)\n",
    "print('Test  shape:', test.shape)"
   ]
  },
  {
   "cell_type": "markdown",
   "id": "e7d84ac5",
   "metadata": {
    "papermill": {
     "duration": 0.063582,
     "end_time": "2022-01-01T08:50:42.574988",
     "exception": false,
     "start_time": "2022-01-01T08:50:42.511406",
     "status": "completed"
    },
    "tags": []
   },
   "source": [
    "### Hilshades mean"
   ]
  },
  {
   "cell_type": "code",
   "execution_count": 16,
   "id": "37fc6111",
   "metadata": {
    "execution": {
     "iopub.execute_input": "2022-01-01T08:50:42.709194Z",
     "iopub.status.busy": "2022-01-01T08:50:42.708209Z",
     "iopub.status.idle": "2022-01-01T08:50:42.898870Z",
     "shell.execute_reply": "2022-01-01T08:50:42.899419Z",
     "shell.execute_reply.started": "2022-01-01T07:47:17.389142Z"
    },
    "papermill": {
     "duration": 0.259437,
     "end_time": "2022-01-01T08:50:42.899601",
     "exception": false,
     "start_time": "2022-01-01T08:50:42.640164",
     "status": "completed"
    },
    "tags": []
   },
   "outputs": [
    {
     "name": "stdout",
     "output_type": "stream",
     "text": [
      "Train shape: (4000000, 57)\n",
      "Test  shape: (1000000, 56)\n",
      "CPU times: user 123 ms, sys: 61.1 ms, total: 184 ms\n",
      "Wall time: 184 ms\n"
     ]
    }
   ],
   "source": [
    "%%time \n",
    "train['Hillshade_mean'] = train[['Hillshade_9am', 'Hillshade_Noon','Hillshade_3pm']].mean(axis=1)\n",
    "test['Hillshade_mean']  = test[['Hillshade_9am', 'Hillshade_Noon','Hillshade_3pm']].mean(axis=1)\n",
    "\n",
    "print('Train shape:', train.shape)\n",
    "print('Test  shape:', test.shape)"
   ]
  },
  {
   "cell_type": "markdown",
   "id": "59535808",
   "metadata": {
    "papermill": {
     "duration": 0.06556,
     "end_time": "2022-01-01T08:50:43.029426",
     "exception": false,
     "start_time": "2022-01-01T08:50:42.963866",
     "status": "completed"
    },
    "tags": []
   },
   "source": [
    "### Slope, Aspect, and Hillshade\n",
    "\n",
    "**Slope** is the steepness or the degree of incline of a surface. Slope cannot be computed from the lidar points directly; one must first create either a raster or TIN surface. Then, *the slope for a particular location is computed as the maximum rate of change of elevation between that location and its surroundings.* \n",
    "Slope can be expressed either in degrees or as a percentage. \n",
    "\n",
    "**Aspect** is the orientation of slope, measured clockwise in degrees from 0 to 360, where 0 is north-facing, 90 is east-facing, 180 is south-facing, and 270 is west-facing."
   ]
  },
  {
   "cell_type": "markdown",
   "id": "addb337a",
   "metadata": {
    "papermill": {
     "duration": 0.064715,
     "end_time": "2022-01-01T08:50:43.159757",
     "exception": false,
     "start_time": "2022-01-01T08:50:43.095042",
     "status": "completed"
    },
    "tags": []
   },
   "source": [
    "**Correct Aspect feature. It should be in the range  [0;360]**"
   ]
  },
  {
   "cell_type": "code",
   "execution_count": 17,
   "id": "47840b88",
   "metadata": {
    "execution": {
     "iopub.execute_input": "2022-01-01T08:50:43.294399Z",
     "iopub.status.busy": "2022-01-01T08:50:43.291161Z",
     "iopub.status.idle": "2022-01-01T08:50:43.341684Z",
     "shell.execute_reply": "2022-01-01T08:50:43.342181Z",
     "shell.execute_reply.started": "2022-01-01T07:47:17.630390Z"
    },
    "papermill": {
     "duration": 0.118171,
     "end_time": "2022-01-01T08:50:43.342378",
     "exception": false,
     "start_time": "2022-01-01T08:50:43.224207",
     "status": "completed"
    },
    "tags": []
   },
   "outputs": [],
   "source": [
    "train.loc[train[\"Aspect\"] < 0, \"Aspect\"] += 360\n",
    "train.loc[train[\"Aspect\"] > 359, \"Aspect\"] -= 360\n",
    "\n",
    "test.loc[test[\"Aspect\"] < 0, \"Aspect\"] += 360\n",
    "test.loc[test[\"Aspect\"] > 359, \"Aspect\"] -= 360"
   ]
  },
  {
   "cell_type": "markdown",
   "id": "42834df6",
   "metadata": {
    "papermill": {
     "duration": 0.064576,
     "end_time": "2022-01-01T08:50:43.472419",
     "exception": false,
     "start_time": "2022-01-01T08:50:43.407843",
     "status": "completed"
    },
    "tags": []
   },
   "source": [
    "**Correct Hillshade feature. It should be in range [0;255]**\n",
    "\n",
    "Hillshade_9am (0 to 255 index) - Hillshade index at 9am, summer solstice\n",
    "\n",
    "Hillshade_Noon (0 to 255 index) - Hillshade index at noon, summer solstice\n",
    "\n",
    "Hillshade_3pm (0 to 255 index) - Hillshade index at 3pm, summer solstice"
   ]
  },
  {
   "cell_type": "code",
   "execution_count": 18,
   "id": "e28f4c1b",
   "metadata": {
    "execution": {
     "iopub.execute_input": "2022-01-01T08:50:43.606122Z",
     "iopub.status.busy": "2022-01-01T08:50:43.605113Z",
     "iopub.status.idle": "2022-01-01T08:50:43.680136Z",
     "shell.execute_reply": "2022-01-01T08:50:43.680695Z",
     "shell.execute_reply.started": "2022-01-01T07:47:17.690942Z"
    },
    "papermill": {
     "duration": 0.143242,
     "end_time": "2022-01-01T08:50:43.680873",
     "exception": false,
     "start_time": "2022-01-01T08:50:43.537631",
     "status": "completed"
    },
    "tags": []
   },
   "outputs": [],
   "source": [
    "train.loc[train[\"Hillshade_9am\"] < 0, \"Hillshade_9am\"] = 0\n",
    "train.loc[train[\"Hillshade_Noon\"] < 0, \"Hillshade_Noon\"] = 0\n",
    "train.loc[train[\"Hillshade_3pm\"] < 0, \"Hillshade_3pm\"] = 0\n",
    "\n",
    "test.loc[test[\"Hillshade_9am\"] < 0, \"Hillshade_9am\"] = 0\n",
    "test.loc[test[\"Hillshade_Noon\"] < 0, \"Hillshade_Noon\"] = 0\n",
    "test.loc[test[\"Hillshade_3pm\"] < 0, \"Hillshade_3pm\"] = 0\n",
    "\n",
    "##########################\n",
    "train.loc[train[\"Hillshade_9am\"] > 255, \"Hillshade_9am\"] = 255\n",
    "train.loc[train[\"Hillshade_Noon\"] > 255, \"Hillshade_Noon\"] = 255\n",
    "train.loc[train[\"Hillshade_3pm\"] > 255, \"Hillshade_3pm\"] = 255\n",
    "\n",
    "test.loc[test[\"Hillshade_9am\"] > 255, \"Hillshade_9am\"] = 255\n",
    "test.loc[test[\"Hillshade_Noon\"] > 255, \"Hillshade_Noon\"] = 255\n",
    "test.loc[test[\"Hillshade_3pm\"] > 255, \"Hillshade_3pm\"] = 255"
   ]
  },
  {
   "cell_type": "markdown",
   "id": "4f119766",
   "metadata": {
    "papermill": {
     "duration": 0.063905,
     "end_time": "2022-01-01T08:50:43.809776",
     "exception": false,
     "start_time": "2022-01-01T08:50:43.745871",
     "status": "completed"
    },
    "tags": []
   },
   "source": [
    "**Slope = Rise/ Run.** \n",
    "\n",
    "If Elevation is Rise, we can calculte Run"
   ]
  },
  {
   "cell_type": "code",
   "execution_count": 19,
   "id": "73222a55",
   "metadata": {
    "execution": {
     "iopub.execute_input": "2022-01-01T08:50:43.948251Z",
     "iopub.status.busy": "2022-01-01T08:50:43.947408Z",
     "iopub.status.idle": "2022-01-01T08:50:43.950761Z",
     "shell.execute_reply": "2022-01-01T08:50:43.951238Z",
     "shell.execute_reply.started": "2022-01-01T07:47:17.787605Z"
    },
    "papermill": {
     "duration": 0.075764,
     "end_time": "2022-01-01T08:50:43.951439",
     "exception": false,
     "start_time": "2022-01-01T08:50:43.875675",
     "status": "completed"
    },
    "tags": []
   },
   "outputs": [
    {
     "data": {
      "text/plain": [
       "\"\\ntrain['Run'] = train['Elevation'] / train['Slope']\\ntest['Run']  = test['Elevation'] / test['Slope']\\n\\ntrain['Run'].replace(np.inf, np.finfo(np.float16).max, inplace=True)\\ntest['Run'].replace(np.inf, np.finfo(np.float16).max, inplace=True)\\n\\nprint('Train shape:', train.shape)\\nprint('Test  shape:', test.shape)\\n\\n#check missing values\\nprint('Train miss vals:', train.isnull().values.any())\\nprint('Test miss vals:', test.isnull().values.any())\\n\""
      ]
     },
     "execution_count": 19,
     "metadata": {},
     "output_type": "execute_result"
    }
   ],
   "source": [
    "\"\"\"\n",
    "train['Run'] = train['Elevation'] / train['Slope']\n",
    "test['Run']  = test['Elevation'] / test['Slope']\n",
    "\n",
    "train['Run'].replace(np.inf, np.finfo(np.float16).max, inplace=True)\n",
    "test['Run'].replace(np.inf, np.finfo(np.float16).max, inplace=True)\n",
    "\n",
    "print('Train shape:', train.shape)\n",
    "print('Test  shape:', test.shape)\n",
    "\n",
    "#check missing values\n",
    "print('Train miss vals:', train.isnull().values.any())\n",
    "print('Test miss vals:', test.isnull().values.any())\n",
    "\"\"\""
   ]
  },
  {
   "cell_type": "code",
   "execution_count": 20,
   "id": "b06fa857",
   "metadata": {
    "execution": {
     "iopub.execute_input": "2022-01-01T08:50:44.090967Z",
     "iopub.status.busy": "2022-01-01T08:50:44.089928Z",
     "iopub.status.idle": "2022-01-01T08:50:44.269930Z",
     "shell.execute_reply": "2022-01-01T08:50:44.270553Z",
     "shell.execute_reply.started": "2022-01-01T07:47:17.796878Z"
    },
    "papermill": {
     "duration": 0.251964,
     "end_time": "2022-01-01T08:50:44.270725",
     "exception": false,
     "start_time": "2022-01-01T08:50:44.018761",
     "status": "completed"
    },
    "tags": []
   },
   "outputs": [
    {
     "data": {
      "text/plain": [
       "126"
      ]
     },
     "execution_count": 20,
     "metadata": {},
     "output_type": "execute_result"
    }
   ],
   "source": [
    "gc.collect()"
   ]
  },
  {
   "cell_type": "markdown",
   "id": "6f343479",
   "metadata": {
    "papermill": {
     "duration": 0.065671,
     "end_time": "2022-01-01T08:50:44.401659",
     "exception": false,
     "start_time": "2022-01-01T08:50:44.335988",
     "status": "completed"
    },
    "tags": []
   },
   "source": [
    "### Vertical distance difference"
   ]
  },
  {
   "cell_type": "code",
   "execution_count": 21,
   "id": "7952043a",
   "metadata": {
    "execution": {
     "iopub.execute_input": "2022-01-01T08:50:44.537477Z",
     "iopub.status.busy": "2022-01-01T08:50:44.536447Z",
     "iopub.status.idle": "2022-01-01T08:50:44.550805Z",
     "shell.execute_reply": "2022-01-01T08:50:44.551501Z",
     "shell.execute_reply.started": "2022-01-01T07:47:18.045226Z"
    },
    "papermill": {
     "duration": 0.084692,
     "end_time": "2022-01-01T08:50:44.551691",
     "exception": false,
     "start_time": "2022-01-01T08:50:44.466999",
     "status": "completed"
    },
    "tags": []
   },
   "outputs": [
    {
     "name": "stdout",
     "output_type": "stream",
     "text": [
      "Train shape: (4000000, 58)\n",
      "Test  shape: (1000000, 57)\n"
     ]
    }
   ],
   "source": [
    "train['Vert_dist_diff'] = train['Elevation'] - train['Vertical_Distance_To_Hydrology']\n",
    "test['Vert_dist_diff'] = test['Elevation'] - test['Vertical_Distance_To_Hydrology']\n",
    "\n",
    "print('Train shape:', train.shape)\n",
    "print('Test  shape:', test.shape)"
   ]
  },
  {
   "cell_type": "markdown",
   "id": "84af3d12",
   "metadata": {
    "papermill": {
     "duration": 0.065359,
     "end_time": "2022-01-01T08:50:44.684097",
     "exception": false,
     "start_time": "2022-01-01T08:50:44.618738",
     "status": "completed"
    },
    "tags": []
   },
   "source": [
    "### Horizontal features distance"
   ]
  },
  {
   "cell_type": "code",
   "execution_count": 22,
   "id": "a7be88f7",
   "metadata": {
    "execution": {
     "iopub.execute_input": "2022-01-01T08:50:44.820323Z",
     "iopub.status.busy": "2022-01-01T08:50:44.819328Z",
     "iopub.status.idle": "2022-01-01T08:50:44.855507Z",
     "shell.execute_reply": "2022-01-01T08:50:44.856181Z",
     "shell.execute_reply.started": "2022-01-01T07:47:18.066394Z"
    },
    "papermill": {
     "duration": 0.106398,
     "end_time": "2022-01-01T08:50:44.856445",
     "exception": false,
     "start_time": "2022-01-01T08:50:44.750047",
     "status": "completed"
    },
    "tags": []
   },
   "outputs": [
    {
     "name": "stdout",
     "output_type": "stream",
     "text": [
      "Train shape: (4000000, 61)\n",
      "Test  shape: (1000000, 60)\n"
     ]
    }
   ],
   "source": [
    "train['Distance_Hydrology_Roadways'] = np.abs(train['Horizontal_Distance_To_Hydrology'] - train['Horizontal_Distance_To_Roadways'])\n",
    "test['Distance_Hydrology_Roadways'] = np.abs(test['Horizontal_Distance_To_Hydrology'] - test['Horizontal_Distance_To_Roadways'])\n",
    "\n",
    "train['Distance_Hydrology_Fire_Points'] = np.abs(train['Horizontal_Distance_To_Hydrology'] - train['Horizontal_Distance_To_Fire_Points'])\n",
    "test['Distance_Hydrology_Fire_Points'] = np.abs(test['Horizontal_Distance_To_Hydrology'] - test['Horizontal_Distance_To_Fire_Points'])\n",
    "\n",
    "train['Distance_Roadways_Fire_Points'] = np.abs(train['Horizontal_Distance_To_Roadways'] - train['Horizontal_Distance_To_Fire_Points'])\n",
    "test['Distance_Roadways_Fire_Points'] = np.abs(test['Horizontal_Distance_To_Roadways'] - test['Horizontal_Distance_To_Fire_Points'])\n",
    "\n",
    "print('Train shape:', train.shape)\n",
    "print('Test  shape:', test.shape)"
   ]
  },
  {
   "cell_type": "markdown",
   "id": "feafdd2a",
   "metadata": {
    "papermill": {
     "duration": 0.067034,
     "end_time": "2022-01-01T08:50:44.990307",
     "exception": false,
     "start_time": "2022-01-01T08:50:44.923273",
     "status": "completed"
    },
    "tags": []
   },
   "source": [
    "### Product: Elevation with Horz features, Vert with Horz features"
   ]
  },
  {
   "cell_type": "code",
   "execution_count": 23,
   "id": "00360dab",
   "metadata": {
    "execution": {
     "iopub.execute_input": "2022-01-01T08:50:45.126134Z",
     "iopub.status.busy": "2022-01-01T08:50:45.125473Z",
     "iopub.status.idle": "2022-01-01T08:50:45.165133Z",
     "shell.execute_reply": "2022-01-01T08:50:45.165817Z",
     "shell.execute_reply.started": "2022-01-01T07:47:18.100815Z"
    },
    "papermill": {
     "duration": 0.109812,
     "end_time": "2022-01-01T08:50:45.166055",
     "exception": false,
     "start_time": "2022-01-01T08:50:45.056243",
     "status": "completed"
    },
    "tags": []
   },
   "outputs": [
    {
     "name": "stdout",
     "output_type": "stream",
     "text": [
      "Train shape: (4000000, 65)\n",
      "Test  shape: (1000000, 64)\n"
     ]
    }
   ],
   "source": [
    "train['Prod_Elev_Horz_Hydrology'] = train['Elevation'] * train['Horizontal_Distance_To_Hydrology']\n",
    "test['Prod_Elev_Horz_Hydrology'] = test['Elevation'] * test['Horizontal_Distance_To_Hydrology']\n",
    "\n",
    "train['Prod_Elev_Horz_Roadways'] = train['Elevation'] * train['Horizontal_Distance_To_Roadways']\n",
    "test['Prod_Elev_Horz_Roadways'] = test['Elevation'] * test['Horizontal_Distance_To_Roadways']\n",
    "\n",
    "train['Prod_Elev_Horz_Fire_Points'] = train['Elevation'] * train['Horizontal_Distance_To_Fire_Points']\n",
    "test['Prod_Elev_Horz_Fire_Points'] = test['Elevation'] * test['Horizontal_Distance_To_Fire_Points']\n",
    "\n",
    "train['Prod_Horz_Vert_Hydrology'] = train['Horizontal_Distance_To_Hydrology'] * train['Vertical_Distance_To_Hydrology']\n",
    "test['Prod_Horz_Vert_Hydrology'] = test['Horizontal_Distance_To_Hydrology'] * test['Vertical_Distance_To_Hydrology']\n",
    "\n",
    "print('Train shape:', train.shape)\n",
    "print('Test  shape:', test.shape)"
   ]
  },
  {
   "cell_type": "code",
   "execution_count": 24,
   "id": "be88d915",
   "metadata": {
    "execution": {
     "iopub.execute_input": "2022-01-01T08:50:45.303065Z",
     "iopub.status.busy": "2022-01-01T08:50:45.302447Z",
     "iopub.status.idle": "2022-01-01T08:50:45.478793Z",
     "shell.execute_reply": "2022-01-01T08:50:45.479279Z",
     "shell.execute_reply.started": "2022-01-01T07:47:18.139769Z"
    },
    "papermill": {
     "duration": 0.245788,
     "end_time": "2022-01-01T08:50:45.479482",
     "exception": false,
     "start_time": "2022-01-01T08:50:45.233694",
     "status": "completed"
    },
    "tags": []
   },
   "outputs": [
    {
     "data": {
      "text/plain": [
       "42"
      ]
     },
     "execution_count": 24,
     "metadata": {},
     "output_type": "execute_result"
    }
   ],
   "source": [
    "gc.collect()"
   ]
  },
  {
   "cell_type": "markdown",
   "id": "b357ea5d",
   "metadata": {
    "papermill": {
     "duration": 0.066884,
     "end_time": "2022-01-01T08:50:45.612910",
     "exception": false,
     "start_time": "2022-01-01T08:50:45.546026",
     "status": "completed"
    },
    "tags": []
   },
   "source": [
    "# Labels encoding"
   ]
  },
  {
   "cell_type": "code",
   "execution_count": 25,
   "id": "4fbc5917",
   "metadata": {
    "execution": {
     "iopub.execute_input": "2022-01-01T08:50:45.751748Z",
     "iopub.status.busy": "2022-01-01T08:50:45.751064Z",
     "iopub.status.idle": "2022-01-01T08:50:45.965105Z",
     "shell.execute_reply": "2022-01-01T08:50:45.964472Z",
     "shell.execute_reply.started": "2022-01-01T07:47:18.384176Z"
    },
    "papermill": {
     "duration": 0.285693,
     "end_time": "2022-01-01T08:50:45.965270",
     "exception": false,
     "start_time": "2022-01-01T08:50:45.679577",
     "status": "completed"
    },
    "tags": []
   },
   "outputs": [],
   "source": [
    "from sklearn.preprocessing import LabelEncoder\n",
    "\n",
    "le = LabelEncoder()\n",
    "train['Cover_Type'] = le.fit_transform(train['Cover_Type'])"
   ]
  },
  {
   "cell_type": "markdown",
   "id": "401861bc",
   "metadata": {
    "papermill": {
     "duration": 0.066614,
     "end_time": "2022-01-01T08:50:46.102536",
     "exception": false,
     "start_time": "2022-01-01T08:50:46.035922",
     "status": "completed"
    },
    "tags": []
   },
   "source": [
    "## Set NFEATURES variable"
   ]
  },
  {
   "cell_type": "code",
   "execution_count": 26,
   "id": "718b51db",
   "metadata": {
    "execution": {
     "iopub.execute_input": "2022-01-01T08:50:46.247947Z",
     "iopub.status.busy": "2022-01-01T08:50:46.247253Z",
     "iopub.status.idle": "2022-01-01T08:50:46.250110Z",
     "shell.execute_reply": "2022-01-01T08:50:46.250739Z",
     "shell.execute_reply.started": "2022-01-01T07:47:18.630059Z"
    },
    "papermill": {
     "duration": 0.075066,
     "end_time": "2022-01-01T08:50:46.250911",
     "exception": false,
     "start_time": "2022-01-01T08:50:46.175845",
     "status": "completed"
    },
    "tags": []
   },
   "outputs": [
    {
     "name": "stdout",
     "output_type": "stream",
     "text": [
      "NFEATURES: 64\n"
     ]
    }
   ],
   "source": [
    "NFEATURES = train.shape[1] - 1\n",
    "print('NFEATURES:', NFEATURES)"
   ]
  },
  {
   "cell_type": "markdown",
   "id": "c7c4fd35",
   "metadata": {
    "papermill": {
     "duration": 0.066002,
     "end_time": "2022-01-01T08:50:46.385520",
     "exception": false,
     "start_time": "2022-01-01T08:50:46.319518",
     "status": "completed"
    },
    "tags": []
   },
   "source": [
    "## Split data to X and y"
   ]
  },
  {
   "cell_type": "code",
   "execution_count": 27,
   "id": "3ad8429f",
   "metadata": {
    "execution": {
     "iopub.execute_input": "2022-01-01T08:50:46.523509Z",
     "iopub.status.busy": "2022-01-01T08:50:46.522850Z",
     "iopub.status.idle": "2022-01-01T08:50:47.159571Z",
     "shell.execute_reply": "2022-01-01T08:50:47.158992Z",
     "shell.execute_reply.started": "2022-01-01T07:47:18.637014Z"
    },
    "papermill": {
     "duration": 0.706321,
     "end_time": "2022-01-01T08:50:47.159733",
     "exception": false,
     "start_time": "2022-01-01T08:50:46.453412",
     "status": "completed"
    },
    "tags": []
   },
   "outputs": [
    {
     "data": {
      "text/plain": [
       "63"
      ]
     },
     "execution_count": 27,
     "metadata": {},
     "output_type": "execute_result"
    }
   ],
   "source": [
    "X = train.drop(['Cover_Type'], axis=1)\n",
    "y = train['Cover_Type']\n",
    "\n",
    "del train\n",
    "gc.collect()"
   ]
  },
  {
   "cell_type": "markdown",
   "id": "91a701bd",
   "metadata": {
    "papermill": {
     "duration": 0.066965,
     "end_time": "2022-01-01T08:50:47.294944",
     "exception": false,
     "start_time": "2022-01-01T08:50:47.227979",
     "status": "completed"
    },
    "tags": []
   },
   "source": [
    "# Clustering.\n",
    "\n",
    "Commented. No increase accuracy"
   ]
  },
  {
   "cell_type": "code",
   "execution_count": 28,
   "id": "20d2d12a",
   "metadata": {
    "execution": {
     "iopub.execute_input": "2022-01-01T08:50:47.434817Z",
     "iopub.status.busy": "2022-01-01T08:50:47.434015Z",
     "iopub.status.idle": "2022-01-01T08:50:47.435483Z",
     "shell.execute_reply": "2022-01-01T08:50:47.436086Z",
     "shell.execute_reply.started": "2022-01-01T07:47:19.461551Z"
    },
    "papermill": {
     "duration": 0.07423,
     "end_time": "2022-01-01T08:50:47.436253",
     "exception": false,
     "start_time": "2022-01-01T08:50:47.362023",
     "status": "completed"
    },
    "tags": []
   },
   "outputs": [],
   "source": [
    "#from sklearn.cluster import KMeans"
   ]
  },
  {
   "cell_type": "code",
   "execution_count": 29,
   "id": "bc1f92aa",
   "metadata": {
    "execution": {
     "iopub.execute_input": "2022-01-01T08:50:47.573801Z",
     "iopub.status.busy": "2022-01-01T08:50:47.573129Z",
     "iopub.status.idle": "2022-01-01T08:50:47.575808Z",
     "shell.execute_reply": "2022-01-01T08:50:47.576374Z",
     "shell.execute_reply.started": "2022-01-01T07:47:19.467977Z"
    },
    "papermill": {
     "duration": 0.072989,
     "end_time": "2022-01-01T08:50:47.576548",
     "exception": false,
     "start_time": "2022-01-01T08:50:47.503559",
     "status": "completed"
    },
    "tags": []
   },
   "outputs": [],
   "source": [
    "#%%time\n",
    "#kmeans = KMeans(n_clusters=7, random_state=SEED).fit(X)"
   ]
  },
  {
   "cell_type": "code",
   "execution_count": 30,
   "id": "e6f65f9c",
   "metadata": {
    "execution": {
     "iopub.execute_input": "2022-01-01T08:50:47.715557Z",
     "iopub.status.busy": "2022-01-01T08:50:47.714888Z",
     "iopub.status.idle": "2022-01-01T08:50:47.717774Z",
     "shell.execute_reply": "2022-01-01T08:50:47.718256Z",
     "shell.execute_reply.started": "2022-01-01T07:47:19.479998Z"
    },
    "papermill": {
     "duration": 0.074526,
     "end_time": "2022-01-01T08:50:47.718452",
     "exception": false,
     "start_time": "2022-01-01T08:50:47.643926",
     "status": "completed"
    },
    "tags": []
   },
   "outputs": [],
   "source": [
    "#clust_labels = kmeans.labels_\n",
    "#print(type(clust_labels))\n",
    "#print(len(clust_labels))\n",
    "#print(np.unique(clust_labels))"
   ]
  },
  {
   "cell_type": "code",
   "execution_count": 31,
   "id": "25d78e98",
   "metadata": {
    "execution": {
     "iopub.execute_input": "2022-01-01T08:50:47.858521Z",
     "iopub.status.busy": "2022-01-01T08:50:47.857809Z",
     "iopub.status.idle": "2022-01-01T08:50:47.860740Z",
     "shell.execute_reply": "2022-01-01T08:50:47.861256Z",
     "shell.execute_reply.started": "2022-01-01T07:47:19.490754Z"
    },
    "papermill": {
     "duration": 0.074253,
     "end_time": "2022-01-01T08:50:47.861466",
     "exception": false,
     "start_time": "2022-01-01T08:50:47.787213",
     "status": "completed"
    },
    "tags": []
   },
   "outputs": [],
   "source": [
    "#test_clust_labels = kmeans.predict(test)"
   ]
  },
  {
   "cell_type": "markdown",
   "id": "3b08d548",
   "metadata": {
    "papermill": {
     "duration": 0.067896,
     "end_time": "2022-01-01T08:50:47.998518",
     "exception": false,
     "start_time": "2022-01-01T08:50:47.930622",
     "status": "completed"
    },
    "tags": []
   },
   "source": [
    "### Add cluster labels as a column to the dataset"
   ]
  },
  {
   "cell_type": "code",
   "execution_count": 32,
   "id": "441ab5fe",
   "metadata": {
    "execution": {
     "iopub.execute_input": "2022-01-01T08:50:48.138941Z",
     "iopub.status.busy": "2022-01-01T08:50:48.137992Z",
     "iopub.status.idle": "2022-01-01T08:50:48.142262Z",
     "shell.execute_reply": "2022-01-01T08:50:48.141731Z",
     "shell.execute_reply.started": "2022-01-01T07:47:19.503035Z"
    },
    "papermill": {
     "duration": 0.075242,
     "end_time": "2022-01-01T08:50:48.142433",
     "exception": false,
     "start_time": "2022-01-01T08:50:48.067191",
     "status": "completed"
    },
    "tags": []
   },
   "outputs": [],
   "source": [
    "#X['cluster_labels'] = clust_labels\n",
    "#test['cluster_labels'] = test_clust_labels\n",
    "\n",
    "#NFEATURES = NFEATURES + 1"
   ]
  },
  {
   "cell_type": "markdown",
   "id": "3777ce19",
   "metadata": {
    "papermill": {
     "duration": 0.068525,
     "end_time": "2022-01-01T08:50:48.279221",
     "exception": false,
     "start_time": "2022-01-01T08:50:48.210696",
     "status": "completed"
    },
    "tags": []
   },
   "source": [
    "# Scaling"
   ]
  },
  {
   "cell_type": "code",
   "execution_count": 33,
   "id": "eaa441c4",
   "metadata": {
    "execution": {
     "iopub.execute_input": "2022-01-01T08:50:48.417153Z",
     "iopub.status.busy": "2022-01-01T08:50:48.416468Z",
     "iopub.status.idle": "2022-01-01T08:52:29.300022Z",
     "shell.execute_reply": "2022-01-01T08:52:29.299401Z",
     "shell.execute_reply.started": "2022-01-01T07:47:19.515971Z"
    },
    "papermill": {
     "duration": 100.95356,
     "end_time": "2022-01-01T08:52:29.300200",
     "exception": false,
     "start_time": "2022-01-01T08:50:48.346640",
     "status": "completed"
    },
    "tags": []
   },
   "outputs": [],
   "source": [
    "\n",
    "from sklearn.preprocessing import RobustScaler\n",
    "\n",
    "scaler = RobustScaler()\n",
    "\n",
    "X = scaler.fit_transform(X)\n",
    "test_scaled = scaler.transform(test)\n",
    "test = pd.DataFrame(test_scaled, index=test.index, columns=test.columns)\n",
    "del test_scaled"
   ]
  },
  {
   "cell_type": "markdown",
   "id": "74e8ffa5",
   "metadata": {
    "papermill": {
     "duration": 0.066463,
     "end_time": "2022-01-01T08:52:29.433885",
     "exception": false,
     "start_time": "2022-01-01T08:52:29.367422",
     "status": "completed"
    },
    "tags": []
   },
   "source": [
    "# Split data into train and test"
   ]
  },
  {
   "cell_type": "code",
   "execution_count": 34,
   "id": "8616d300",
   "metadata": {
    "execution": {
     "iopub.execute_input": "2022-01-01T08:52:29.572435Z",
     "iopub.status.busy": "2022-01-01T08:52:29.571473Z",
     "iopub.status.idle": "2022-01-01T08:52:37.096873Z",
     "shell.execute_reply": "2022-01-01T08:52:37.097355Z",
     "shell.execute_reply.started": "2022-01-01T07:48:19.745847Z"
    },
    "papermill": {
     "duration": 7.596299,
     "end_time": "2022-01-01T08:52:37.097545",
     "exception": false,
     "start_time": "2022-01-01T08:52:29.501246",
     "status": "completed"
    },
    "tags": []
   },
   "outputs": [
    {
     "name": "stdout",
     "output_type": "stream",
     "text": [
      "train: (3200000, 64) (3200000,)\n",
      "test: (800000, 64) (800000,)\n"
     ]
    }
   ],
   "source": [
    "X_train, X_valid, y_train, y_valid = train_test_split(X, y, train_size=0.8, test_size=0.2, random_state=SEED)\n",
    "del X\n",
    "del y\n",
    "gc.collect()\n",
    "\n",
    "print('train:', X_train.shape, y_train.shape)\n",
    "print('test:', X_valid.shape, y_valid.shape)"
   ]
  },
  {
   "cell_type": "markdown",
   "id": "248b024c",
   "metadata": {
    "papermill": {
     "duration": 0.067422,
     "end_time": "2022-01-01T08:52:37.232419",
     "exception": false,
     "start_time": "2022-01-01T08:52:37.164997",
     "status": "completed"
    },
    "tags": []
   },
   "source": [
    "# Class weights\n",
    "\n",
    "Commented. No increase in accuracy"
   ]
  },
  {
   "cell_type": "code",
   "execution_count": 35,
   "id": "13f4947a",
   "metadata": {
    "execution": {
     "iopub.execute_input": "2022-01-01T08:52:37.374768Z",
     "iopub.status.busy": "2022-01-01T08:52:37.374044Z",
     "iopub.status.idle": "2022-01-01T08:52:37.376649Z",
     "shell.execute_reply": "2022-01-01T08:52:37.377126Z",
     "shell.execute_reply.started": "2022-01-01T07:48:25.182296Z"
    },
    "papermill": {
     "duration": 0.075469,
     "end_time": "2022-01-01T08:52:37.377295",
     "exception": false,
     "start_time": "2022-01-01T08:52:37.301826",
     "status": "completed"
    },
    "tags": []
   },
   "outputs": [
    {
     "data": {
      "text/plain": [
       "\"\\n%%time\\nfrom sklearn.utils import class_weight\\nclasses = np.unique(y_train)\\ncw = class_weight.compute_class_weight('balanced', classes, y_train)\\nweights = dict(zip(classes,cw))\\nweights\\n\""
      ]
     },
     "execution_count": 35,
     "metadata": {},
     "output_type": "execute_result"
    }
   ],
   "source": [
    "\"\"\"\n",
    "%%time\n",
    "from sklearn.utils import class_weight\n",
    "classes = np.unique(y_train)\n",
    "cw = class_weight.compute_class_weight('balanced', classes, y_train)\n",
    "weights = dict(zip(classes,cw))\n",
    "weights\n",
    "\"\"\""
   ]
  },
  {
   "cell_type": "markdown",
   "id": "61a12cd6",
   "metadata": {
    "papermill": {
     "duration": 0.067756,
     "end_time": "2022-01-01T08:52:37.513942",
     "exception": false,
     "start_time": "2022-01-01T08:52:37.446186",
     "status": "completed"
    },
    "tags": []
   },
   "source": [
    "# Resampling\n",
    "\n",
    "Commented. No increase in accuracy"
   ]
  },
  {
   "cell_type": "code",
   "execution_count": 36,
   "id": "308925c1",
   "metadata": {
    "execution": {
     "iopub.execute_input": "2022-01-01T08:52:37.654588Z",
     "iopub.status.busy": "2022-01-01T08:52:37.653874Z",
     "iopub.status.idle": "2022-01-01T08:52:37.990273Z",
     "shell.execute_reply": "2022-01-01T08:52:37.989304Z",
     "shell.execute_reply.started": "2022-01-01T07:48:25.190443Z"
    },
    "papermill": {
     "duration": 0.40851,
     "end_time": "2022-01-01T08:52:37.990487",
     "exception": false,
     "start_time": "2022-01-01T08:52:37.581977",
     "status": "completed"
    },
    "tags": []
   },
   "outputs": [
    {
     "data": {
      "text/plain": [
       "<AxesSubplot:>"
      ]
     },
     "execution_count": 36,
     "metadata": {},
     "output_type": "execute_result"
    },
    {
     "data": {
      "image/png": "[encoded data removed]",
      "text/plain": [
       "<Figure size 432x288 with 1 Axes>"
      ]
     },
     "metadata": {
      "needs_background": "light"
     },
     "output_type": "display_data"
    }
   ],
   "source": [
    "y_train.hist()"
   ]
  },
  {
   "cell_type": "code",
   "execution_count": 37,
   "id": "b91126c4",
   "metadata": {
    "execution": {
     "iopub.execute_input": "2022-01-01T08:52:38.134328Z",
     "iopub.status.busy": "2022-01-01T08:52:38.133502Z",
     "iopub.status.idle": "2022-01-01T08:52:38.136132Z",
     "shell.execute_reply": "2022-01-01T08:52:38.135655Z",
     "shell.execute_reply.started": "2022-01-01T07:48:25.541298Z"
    },
    "papermill": {
     "duration": 0.076334,
     "end_time": "2022-01-01T08:52:38.136269",
     "exception": false,
     "start_time": "2022-01-01T08:52:38.059935",
     "status": "completed"
    },
    "tags": []
   },
   "outputs": [],
   "source": [
    "#median value of the number of samples in the classes.\n",
    "#count = y_train.value_counts()\n",
    "#n_samples = int(count.median())\n",
    "#n_samples"
   ]
  },
  {
   "cell_type": "code",
   "execution_count": 38,
   "id": "f9fd0692",
   "metadata": {
    "execution": {
     "iopub.execute_input": "2022-01-01T08:52:38.277667Z",
     "iopub.status.busy": "2022-01-01T08:52:38.277019Z",
     "iopub.status.idle": "2022-01-01T08:52:38.281762Z",
     "shell.execute_reply": "2022-01-01T08:52:38.282323Z",
     "shell.execute_reply.started": "2022-01-01T07:48:25.546929Z"
    },
    "papermill": {
     "duration": 0.077408,
     "end_time": "2022-01-01T08:52:38.282506",
     "exception": false,
     "start_time": "2022-01-01T08:52:38.205098",
     "status": "completed"
    },
    "tags": []
   },
   "outputs": [
    {
     "data": {
      "text/plain": [
       "\"\\n%%time\\ndef sampling_strategy(X, y , n_samples, t='majority'):\\n    target_classes = ''\\n    \\n    if t == 'majority':\\n        target_classes = y.value_counts() > n_samples\\n    elif t == 'minority':\\n        target_classes = y.value_counts() < n_samples\\n        \\n    tc = target_classes[target_classes == True].index\\n    #target_classes_all = y.value_counts().index\\n    sampling_strategy = {}\\n    for target in tc:\\n        sampling_strategy[target] = n_samples\\n    return sampling_strategy\\n\""
      ]
     },
     "execution_count": 38,
     "metadata": {},
     "output_type": "execute_result"
    }
   ],
   "source": [
    "\"\"\"\n",
    "%%time\n",
    "def sampling_strategy(X, y , n_samples, t='majority'):\n",
    "    target_classes = ''\n",
    "    \n",
    "    if t == 'majority':\n",
    "        target_classes = y.value_counts() > n_samples\n",
    "    elif t == 'minority':\n",
    "        target_classes = y.value_counts() < n_samples\n",
    "        \n",
    "    tc = target_classes[target_classes == True].index\n",
    "    #target_classes_all = y.value_counts().index\n",
    "    sampling_strategy = {}\n",
    "    for target in tc:\n",
    "        sampling_strategy[target] = n_samples\n",
    "    return sampling_strategy\n",
    "\"\"\""
   ]
  },
  {
   "cell_type": "markdown",
   "id": "cd1ceb05",
   "metadata": {
    "papermill": {
     "duration": 0.06904,
     "end_time": "2022-01-01T08:52:38.420558",
     "exception": false,
     "start_time": "2022-01-01T08:52:38.351518",
     "status": "completed"
    },
    "tags": []
   },
   "source": [
    "### Over sampling"
   ]
  },
  {
   "cell_type": "code",
   "execution_count": 39,
   "id": "df3dde0e",
   "metadata": {
    "execution": {
     "iopub.execute_input": "2022-01-01T08:52:38.562415Z",
     "iopub.status.busy": "2022-01-01T08:52:38.561759Z",
     "iopub.status.idle": "2022-01-01T08:52:38.566839Z",
     "shell.execute_reply": "2022-01-01T08:52:38.567385Z",
     "shell.execute_reply.started": "2022-01-01T07:48:25.562858Z"
    },
    "papermill": {
     "duration": 0.077856,
     "end_time": "2022-01-01T08:52:38.567565",
     "exception": false,
     "start_time": "2022-01-01T08:52:38.489709",
     "status": "completed"
    },
    "tags": []
   },
   "outputs": [
    {
     "data": {
      "text/plain": [
       "\"\\n%%time\\nfrom imblearn.over_sampling import RandomOverSampler\\nfrom collections import Counter\\n\\n# TMP\\nsampl_strategy = sampling_strategy(X_train,y_train,n_samples,t='minority')\\n\\nprint('Original dataset shape %s' % Counter(y_train))\\n\\nrus = RandomOverSampler(sampling_strategy=sampl_strategy, random_state=SEED)\\nX_train, y_train = rus.fit_resample(X_train, y_train)\\n\\nprint('Resampled dataset shape %s' % Counter(y_train))\\n\""
      ]
     },
     "execution_count": 39,
     "metadata": {},
     "output_type": "execute_result"
    }
   ],
   "source": [
    "\"\"\"\n",
    "%%time\n",
    "from imblearn.over_sampling import RandomOverSampler\n",
    "from collections import Counter\n",
    "\n",
    "# TMP\n",
    "sampl_strategy = sampling_strategy(X_train,y_train,n_samples,t='minority')\n",
    "\n",
    "print('Original dataset shape %s' % Counter(y_train))\n",
    "\n",
    "rus = RandomOverSampler(sampling_strategy=sampl_strategy, random_state=SEED)\n",
    "X_train, y_train = rus.fit_resample(X_train, y_train)\n",
    "\n",
    "print('Resampled dataset shape %s' % Counter(y_train))\n",
    "\"\"\""
   ]
  },
  {
   "cell_type": "markdown",
   "id": "05482edd",
   "metadata": {
    "papermill": {
     "duration": 0.069165,
     "end_time": "2022-01-01T08:52:38.706727",
     "exception": false,
     "start_time": "2022-01-01T08:52:38.637562",
     "status": "completed"
    },
    "tags": []
   },
   "source": [
    "### Under sampling"
   ]
  },
  {
   "cell_type": "code",
   "execution_count": 40,
   "id": "e37715bd",
   "metadata": {
    "execution": {
     "iopub.execute_input": "2022-01-01T08:52:38.848326Z",
     "iopub.status.busy": "2022-01-01T08:52:38.847720Z",
     "iopub.status.idle": "2022-01-01T08:52:38.852791Z",
     "shell.execute_reply": "2022-01-01T08:52:38.853399Z",
     "shell.execute_reply.started": "2022-01-01T07:48:25.574163Z"
    },
    "papermill": {
     "duration": 0.077789,
     "end_time": "2022-01-01T08:52:38.853582",
     "exception": false,
     "start_time": "2022-01-01T08:52:38.775793",
     "status": "completed"
    },
    "tags": []
   },
   "outputs": [
    {
     "data": {
      "text/plain": [
       "\"\\n%%time\\nfrom imblearn.under_sampling import RandomUnderSampler\\nfrom collections import Counter\\n\\nsampl_strategy = sampling_strategy(X_train,y_train,n_samples,t='majority')\\n\\nprint('Original dataset shape %s' % Counter(y_train))\\n\\nrus = RandomUnderSampler(sampling_strategy=sampl_strategy, random_state=SEED)\\nX_train, y_train = rus.fit_resample(X_train, y_train)\\n\\nprint('Resampled dataset shape %s' % Counter(y_train))\\n\""
      ]
     },
     "execution_count": 40,
     "metadata": {},
     "output_type": "execute_result"
    }
   ],
   "source": [
    "\"\"\"\n",
    "%%time\n",
    "from imblearn.under_sampling import RandomUnderSampler\n",
    "from collections import Counter\n",
    "\n",
    "sampl_strategy = sampling_strategy(X_train,y_train,n_samples,t='majority')\n",
    "\n",
    "print('Original dataset shape %s' % Counter(y_train))\n",
    "\n",
    "rus = RandomUnderSampler(sampling_strategy=sampl_strategy, random_state=SEED)\n",
    "X_train, y_train = rus.fit_resample(X_train, y_train)\n",
    "\n",
    "print('Resampled dataset shape %s' % Counter(y_train))\n",
    "\"\"\""
   ]
  },
  {
   "cell_type": "code",
   "execution_count": 41,
   "id": "c5606342",
   "metadata": {
    "execution": {
     "iopub.execute_input": "2022-01-01T08:52:38.997533Z",
     "iopub.status.busy": "2022-01-01T08:52:38.996899Z",
     "iopub.status.idle": "2022-01-01T08:52:38.999974Z",
     "shell.execute_reply": "2022-01-01T08:52:39.000583Z",
     "shell.execute_reply.started": "2022-01-01T07:48:25.593825Z"
    },
    "papermill": {
     "duration": 0.076877,
     "end_time": "2022-01-01T08:52:39.000755",
     "exception": false,
     "start_time": "2022-01-01T08:52:38.923878",
     "status": "completed"
    },
    "tags": []
   },
   "outputs": [],
   "source": [
    "#gc.collect()"
   ]
  },
  {
   "cell_type": "markdown",
   "id": "ca110db8",
   "metadata": {
    "papermill": {
     "duration": 0.071657,
     "end_time": "2022-01-01T08:52:39.151458",
     "exception": false,
     "start_time": "2022-01-01T08:52:39.079801",
     "status": "completed"
    },
    "tags": []
   },
   "source": [
    "# Deep Learning Model"
   ]
  },
  {
   "cell_type": "code",
   "execution_count": 42,
   "id": "069bc391",
   "metadata": {
    "execution": {
     "iopub.execute_input": "2022-01-01T08:52:39.313381Z",
     "iopub.status.busy": "2022-01-01T08:52:39.312120Z",
     "iopub.status.idle": "2022-01-01T08:52:40.587081Z",
     "shell.execute_reply": "2022-01-01T08:52:40.586543Z",
     "shell.execute_reply.started": "2022-01-01T07:48:25.601478Z"
    },
    "papermill": {
     "duration": 1.357769,
     "end_time": "2022-01-01T08:52:40.587226",
     "exception": false,
     "start_time": "2022-01-01T08:52:39.229457",
     "status": "completed"
    },
    "tags": []
   },
   "outputs": [
    {
     "name": "stdout",
     "output_type": "stream",
     "text": [
      "Model: \"sequential\"\n",
      "_________________________________________________________________\n",
      "Layer (type)                 Output Shape              Param #   \n",
      "=================================================================\n",
      "dense (Dense)                (None, 64)                4160      \n",
      "_________________________________________________________________\n",
      "batch_normalization (BatchNo (None, 64)                256       \n",
      "_________________________________________________________________\n",
      "dense_1 (Dense)              (None, 64)                4160      \n",
      "_________________________________________________________________\n",
      "batch_normalization_1 (Batch (None, 64)                256       \n",
      "_________________________________________________________________\n",
      "dense_2 (Dense)              (None, 7)                 455       \n",
      "=================================================================\n",
      "Total params: 9,287\n",
      "Trainable params: 9,031\n",
      "Non-trainable params: 256\n",
      "_________________________________________________________________\n"
     ]
    },
    {
     "name": "stderr",
     "output_type": "stream",
     "text": [
      "\n",
      "User settings:\n",
      "\n",
      "   KMP_AFFINITY=granularity=fine,verbose,compact,1,0\n",
      "   KMP_BLOCKTIME=0\n",
      "   KMP_DUPLICATE_LIB_OK=True\n",
      "   KMP_INIT_AT_FORK=FALSE\n",
      "   KMP_SETTINGS=1\n",
      "   KMP_WARNINGS=0\n",
      "\n",
      "Effective settings:\n",
      "\n",
      "   KMP_ABORT_DELAY=0\n",
      "   KMP_ADAPTIVE_LOCK_PROPS='1,1024'\n",
      "   KMP_ALIGN_ALLOC=64\n",
      "   KMP_ALL_THREADPRIVATE=128\n",
      "   KMP_ATOMIC_MODE=2\n",
      "   KMP_BLOCKTIME=0\n",
      "   KMP_CPUINFO_FILE: value is not defined\n",
      "   KMP_DETERMINISTIC_REDUCTION=false\n",
      "   KMP_DEVICE_THREAD_LIMIT=2147483647\n",
      "   KMP_DISP_NUM_BUFFERS=7\n",
      "   KMP_DUPLICATE_LIB_OK=true\n",
      "   KMP_ENABLE_TASK_THROTTLING=true\n",
      "   KMP_FORCE_REDUCTION: value is not defined\n",
      "   KMP_FOREIGN_THREADS_THREADPRIVATE=true\n",
      "   KMP_FORKJOIN_BARRIER='2,2'\n",
      "   KMP_FORKJOIN_BARRIER_PATTERN='hyper,hyper'\n",
      "   KMP_GTID_MODE=3\n",
      "   KMP_HANDLE_SIGNALS=false\n",
      "   KMP_HOT_TEAMS_MAX_LEVEL=1\n",
      "   KMP_HOT_TEAMS_MODE=0\n",
      "   KMP_INIT_AT_FORK=true\n",
      "   KMP_LIBRARY=throughput\n",
      "   KMP_LOCK_KIND=queuing\n",
      "   KMP_MALLOC_POOL_INCR=1M\n",
      "   KMP_NUM_LOCKS_IN_BLOCK=1\n",
      "   KMP_PLAIN_BARRIER='2,2'\n",
      "   KMP_PLAIN_BARRIER_PATTERN='hyper,hyper'\n",
      "   KMP_REDUCTION_BARRIER='1,1'\n",
      "   KMP_REDUCTION_BARRIER_PATTERN='hyper,hyper'\n",
      "   KMP_SCHEDULE='static,balanced;guided,iterative'\n",
      "   KMP_SETTINGS=true\n",
      "   KMP_SPIN_BACKOFF_PARAMS='4096,100'\n",
      "   KMP_STACKOFFSET=64\n",
      "   KMP_STACKPAD=0\n",
      "   KMP_STACKSIZE=8M\n",
      "   KMP_STORAGE_MAP=false\n",
      "   KMP_TASKING=2\n",
      "   KMP_TASKLOOP_MIN_TASKS=0\n",
      "   KMP_TASK_STEALING_CONSTRAINT=1\n",
      "   KMP_TEAMS_THREAD_LIMIT=4\n",
      "   KMP_TOPOLOGY_METHOD=all\n",
      "   KMP_USE_YIELD=1\n",
      "   KMP_VERSION=false\n",
      "   KMP_WARNINGS=false\n",
      "   OMP_AFFINITY_FORMAT='OMP: pid %P tid %i thread %n bound to OS proc set {%A}'\n",
      "   OMP_ALLOCATOR=omp_default_mem_alloc\n",
      "   OMP_CANCELLATION=false\n",
      "   OMP_DEFAULT_DEVICE=0\n",
      "   OMP_DISPLAY_AFFINITY=false\n",
      "   OMP_DISPLAY_ENV=false\n",
      "   OMP_DYNAMIC=false\n",
      "   OMP_MAX_ACTIVE_LEVELS=1\n",
      "   OMP_MAX_TASK_PRIORITY=0\n",
      "   OMP_NESTED: deprecated; max-active-levels-var=1\n",
      "   OMP_NUM_THREADS: value is not defined\n",
      "   OMP_PLACES: value is not defined\n",
      "   OMP_PROC_BIND='intel'\n",
      "   OMP_SCHEDULE='static'\n",
      "   OMP_STACKSIZE=8M\n",
      "   OMP_TARGET_OFFLOAD=DEFAULT\n",
      "   OMP_THREAD_LIMIT=2147483647\n",
      "   OMP_WAIT_POLICY=PASSIVE\n",
      "   KMP_AFFINITY='verbose,warnings,respect,granularity=fine,compact,1,0'\n",
      "\n",
      "2022-01-01 08:52:40.476882: I tensorflow/core/common_runtime/process_util.cc:146] Creating new thread pool with default inter op setting: 2. Tune using inter_op_parallelism_threads for best performance.\n"
     ]
    }
   ],
   "source": [
    "model_tf = tf.keras.models.Sequential([\n",
    "    tf.keras.layers.InputLayer(input_shape=(NFEATURES,)),\n",
    "    \n",
    "    tf.keras.layers.Dense(64, activation='relu'),\n",
    "    tf.keras.layers.BatchNormalization(),\n",
    "    \n",
    "    tf.keras.layers.Dense(64, activation='relu'),\n",
    "    tf.keras.layers.BatchNormalization(),\n",
    "    \n",
    "    #tf.keras.layers.Dense(32, activation='relu'),\n",
    "    #tf.keras.layers.BatchNormalization(),\n",
    "    #tf.keras.layers.Dropout(rate=.2),\n",
    "    \n",
    "    tf.keras.layers.Dense(NCLASSES, activation = 'softmax')\n",
    "])\n",
    "\n",
    "model_tf.summary()"
   ]
  },
  {
   "cell_type": "code",
   "execution_count": 43,
   "id": "a7778055",
   "metadata": {
    "execution": {
     "iopub.execute_input": "2022-01-01T08:52:40.733956Z",
     "iopub.status.busy": "2022-01-01T08:52:40.733242Z",
     "iopub.status.idle": "2022-01-01T08:52:40.749155Z",
     "shell.execute_reply": "2022-01-01T08:52:40.749767Z",
     "shell.execute_reply.started": "2022-01-01T07:48:26.816281Z"
    },
    "papermill": {
     "duration": 0.091344,
     "end_time": "2022-01-01T08:52:40.749965",
     "exception": false,
     "start_time": "2022-01-01T08:52:40.658621",
     "status": "completed"
    },
    "tags": []
   },
   "outputs": [],
   "source": [
    "model_tf.compile(loss='sparse_categorical_crossentropy',\n",
    "              optimizer=tf.keras.optimizers.Adam(),\n",
    "              metrics=['accuracy'])"
   ]
  },
  {
   "cell_type": "markdown",
   "id": "5d154e5e",
   "metadata": {
    "papermill": {
     "duration": 0.072811,
     "end_time": "2022-01-01T08:52:40.895390",
     "exception": false,
     "start_time": "2022-01-01T08:52:40.822579",
     "status": "completed"
    },
    "tags": []
   },
   "source": [
    "### Callbacks"
   ]
  },
  {
   "cell_type": "code",
   "execution_count": 44,
   "id": "7601ac2b",
   "metadata": {
    "execution": {
     "iopub.execute_input": "2022-01-01T08:52:41.043802Z",
     "iopub.status.busy": "2022-01-01T08:52:41.042973Z",
     "iopub.status.idle": "2022-01-01T08:52:41.051168Z",
     "shell.execute_reply": "2022-01-01T08:52:41.051695Z",
     "shell.execute_reply.started": "2022-01-01T07:48:26.836688Z"
    },
    "papermill": {
     "duration": 0.084895,
     "end_time": "2022-01-01T08:52:41.051885",
     "exception": false,
     "start_time": "2022-01-01T08:52:40.966990",
     "status": "completed"
    },
    "tags": []
   },
   "outputs": [],
   "source": [
    "DESIRED_ACCURACY = 0.98\n",
    "  \n",
    "class DesiredAccuracy(tf.keras.callbacks.Callback):\n",
    "    def on_epoch_end(self, epoch, logs={}):\n",
    "        if(logs.get('accuracy') > DESIRED_ACCURACY):\n",
    "            print(\"\\nReached {}% accuracy so cancelling training!\".format(DESIRED_ACCURACY))\n",
    "            self.model.stop_training = True\n",
    "        \n",
    "desired_acc = DesiredAccuracy()\n",
    "\n",
    "early_stop = tf.keras.callbacks.EarlyStopping(\n",
    "    min_delta=0.00001, \n",
    "    patience=20, \n",
    "    restore_best_weights=True,\n",
    ")\n",
    "\n",
    "# Reduce learning rate when a metric has stopped improving. Models often benefit from reducing the learning rate by a factor of 0.2 once learning stagnates. \n",
    "# This callback monitors a quantity and if no improvement is seen for a 'patience' number of epochs, the learning rate is reduced.\n",
    "plateau = tf.keras.callbacks.ReduceLROnPlateau(\n",
    "    monitor='val_loss', factor=0.2, patience=5, verbose=0,\n",
    "    mode='min')"
   ]
  },
  {
   "cell_type": "code",
   "execution_count": 45,
   "id": "e052dab7",
   "metadata": {
    "execution": {
     "iopub.execute_input": "2022-01-01T08:52:41.215002Z",
     "iopub.status.busy": "2022-01-01T08:52:41.214098Z",
     "iopub.status.idle": "2022-01-01T09:31:04.977209Z",
     "shell.execute_reply": "2022-01-01T09:31:04.977850Z",
     "shell.execute_reply.started": "2022-01-01T07:48:26.847505Z"
    },
    "papermill": {
     "duration": 2303.854476,
     "end_time": "2022-01-01T09:31:04.978160",
     "exception": false,
     "start_time": "2022-01-01T08:52:41.123684",
     "status": "completed"
    },
    "tags": []
   },
   "outputs": [
    {
     "name": "stderr",
     "output_type": "stream",
     "text": [
      "2022-01-01 08:52:42.400831: I tensorflow/compiler/mlir/mlir_graph_optimization_pass.cc:185] None of the MLIR Optimization Passes are enabled (registered 2)\n"
     ]
    },
    {
     "name": "stdout",
     "output_type": "stream",
     "text": [
      "Epoch 1/300\n",
      "6250/6250 [==============================] - 32s 5ms/step - loss: 0.1439 - accuracy: 0.9433 - val_loss: 0.1047 - val_accuracy: 0.9543\n",
      "Epoch 2/300\n",
      "6250/6250 [==============================] - 31s 5ms/step - loss: 0.1017 - accuracy: 0.9557 - val_loss: 0.0952 - val_accuracy: 0.9579\n",
      "Epoch 3/300\n",
      "6250/6250 [==============================] - 32s 5ms/step - loss: 0.0963 - accuracy: 0.9574 - val_loss: 0.0911 - val_accuracy: 0.9590\n",
      "Epoch 4/300\n",
      "6250/6250 [==============================] - 31s 5ms/step - loss: 0.0937 - accuracy: 0.9581 - val_loss: 0.0903 - val_accuracy: 0.9593\n",
      "Epoch 5/300\n",
      "6250/6250 [==============================] - 32s 5ms/step - loss: 0.0921 - accuracy: 0.9587 - val_loss: 0.0881 - val_accuracy: 0.9598\n",
      "Epoch 6/300\n",
      "6250/6250 [==============================] - 33s 5ms/step - loss: 0.0909 - accuracy: 0.9590 - val_loss: 0.0875 - val_accuracy: 0.9600\n",
      "Epoch 7/300\n",
      "6250/6250 [==============================] - 40s 6ms/step - loss: 0.0901 - accuracy: 0.9592 - val_loss: 0.0874 - val_accuracy: 0.9599\n",
      "Epoch 8/300\n",
      "6250/6250 [==============================] - 31s 5ms/step - loss: 0.0893 - accuracy: 0.9595 - val_loss: 0.0865 - val_accuracy: 0.9603\n",
      "Epoch 9/300\n",
      "6250/6250 [==============================] - 32s 5ms/step - loss: 0.0886 - accuracy: 0.9597 - val_loss: 0.0872 - val_accuracy: 0.9600\n",
      "Epoch 10/300\n",
      "6250/6250 [==============================] - 31s 5ms/step - loss: 0.0882 - accuracy: 0.9597 - val_loss: 0.0859 - val_accuracy: 0.9604\n",
      "Epoch 11/300\n",
      "6250/6250 [==============================] - 32s 5ms/step - loss: 0.0879 - accuracy: 0.9599 - val_loss: 0.0885 - val_accuracy: 0.9594\n",
      "Epoch 12/300\n",
      "6250/6250 [==============================] - 32s 5ms/step - loss: 0.0873 - accuracy: 0.9600 - val_loss: 0.0855 - val_accuracy: 0.9605\n",
      "Epoch 13/300\n",
      "6250/6250 [==============================] - 32s 5ms/step - loss: 0.0869 - accuracy: 0.9601 - val_loss: 0.0853 - val_accuracy: 0.9604\n",
      "Epoch 14/300\n",
      "6250/6250 [==============================] - 32s 5ms/step - loss: 0.0867 - accuracy: 0.9601 - val_loss: 0.0854 - val_accuracy: 0.9603\n",
      "Epoch 15/300\n",
      "6250/6250 [==============================] - 32s 5ms/step - loss: 0.0864 - accuracy: 0.9603 - val_loss: 0.0851 - val_accuracy: 0.9604\n",
      "Epoch 16/300\n",
      "6250/6250 [==============================] - 37s 6ms/step - loss: 0.0862 - accuracy: 0.9604 - val_loss: 0.0854 - val_accuracy: 0.9604\n",
      "Epoch 17/300\n",
      "6250/6250 [==============================] - 37s 6ms/step - loss: 0.0859 - accuracy: 0.9604 - val_loss: 0.0847 - val_accuracy: 0.9606\n",
      "Epoch 18/300\n",
      "6250/6250 [==============================] - 32s 5ms/step - loss: 0.0857 - accuracy: 0.9605 - val_loss: 0.0840 - val_accuracy: 0.9608\n",
      "Epoch 19/300\n",
      "6250/6250 [==============================] - 32s 5ms/step - loss: 0.0854 - accuracy: 0.9605 - val_loss: 0.0840 - val_accuracy: 0.9607\n",
      "Epoch 20/300\n",
      "6250/6250 [==============================] - 32s 5ms/step - loss: 0.0853 - accuracy: 0.9606 - val_loss: 0.0841 - val_accuracy: 0.9607\n",
      "Epoch 21/300\n",
      "6250/6250 [==============================] - 32s 5ms/step - loss: 0.0849 - accuracy: 0.9607 - val_loss: 0.0839 - val_accuracy: 0.9606\n",
      "Epoch 22/300\n",
      "6250/6250 [==============================] - 31s 5ms/step - loss: 0.0848 - accuracy: 0.9608 - val_loss: 0.0842 - val_accuracy: 0.9608\n",
      "Epoch 23/300\n",
      "6250/6250 [==============================] - 32s 5ms/step - loss: 0.0846 - accuracy: 0.9607 - val_loss: 0.0845 - val_accuracy: 0.9606\n",
      "Epoch 24/300\n",
      "6250/6250 [==============================] - 32s 5ms/step - loss: 0.0817 - accuracy: 0.9617 - val_loss: 0.0811 - val_accuracy: 0.9615\n",
      "Epoch 25/300\n",
      "6250/6250 [==============================] - 34s 5ms/step - loss: 0.0814 - accuracy: 0.9618 - val_loss: 0.0813 - val_accuracy: 0.9614\n",
      "Epoch 26/300\n",
      "6250/6250 [==============================] - 34s 5ms/step - loss: 0.0813 - accuracy: 0.9618 - val_loss: 0.0809 - val_accuracy: 0.9614\n",
      "Epoch 27/300\n",
      "6250/6250 [==============================] - 33s 5ms/step - loss: 0.0812 - accuracy: 0.9618 - val_loss: 0.0811 - val_accuracy: 0.9614\n",
      "Epoch 28/300\n",
      "6250/6250 [==============================] - 31s 5ms/step - loss: 0.0811 - accuracy: 0.9618 - val_loss: 0.0808 - val_accuracy: 0.9614\n",
      "Epoch 29/300\n",
      "6250/6250 [==============================] - 33s 5ms/step - loss: 0.0811 - accuracy: 0.9619 - val_loss: 0.0808 - val_accuracy: 0.9616\n",
      "Epoch 30/300\n",
      "6250/6250 [==============================] - 31s 5ms/step - loss: 0.0810 - accuracy: 0.9619 - val_loss: 0.0808 - val_accuracy: 0.9615\n",
      "Epoch 31/300\n",
      "6250/6250 [==============================] - 33s 5ms/step - loss: 0.0810 - accuracy: 0.9619 - val_loss: 0.0809 - val_accuracy: 0.9615\n",
      "Epoch 32/300\n",
      "6250/6250 [==============================] - 31s 5ms/step - loss: 0.0810 - accuracy: 0.9619 - val_loss: 0.0807 - val_accuracy: 0.9615\n",
      "Epoch 33/300\n",
      "6250/6250 [==============================] - 33s 5ms/step - loss: 0.0809 - accuracy: 0.9618 - val_loss: 0.0808 - val_accuracy: 0.9615\n",
      "Epoch 34/300\n",
      "6250/6250 [==============================] - 31s 5ms/step - loss: 0.0809 - accuracy: 0.9620 - val_loss: 0.0808 - val_accuracy: 0.9615\n",
      "Epoch 35/300\n",
      "6250/6250 [==============================] - 35s 6ms/step - loss: 0.0802 - accuracy: 0.9622 - val_loss: 0.0803 - val_accuracy: 0.9616\n",
      "Epoch 36/300\n",
      "6250/6250 [==============================] - 35s 6ms/step - loss: 0.0802 - accuracy: 0.9621 - val_loss: 0.0803 - val_accuracy: 0.9616\n",
      "Epoch 37/300\n",
      "6250/6250 [==============================] - 38s 6ms/step - loss: 0.0801 - accuracy: 0.9622 - val_loss: 0.0803 - val_accuracy: 0.9615\n",
      "Epoch 38/300\n",
      "6250/6250 [==============================] - 38s 6ms/step - loss: 0.0801 - accuracy: 0.9621 - val_loss: 0.0803 - val_accuracy: 0.9616\n",
      "Epoch 39/300\n",
      "6250/6250 [==============================] - 37s 6ms/step - loss: 0.0801 - accuracy: 0.9622 - val_loss: 0.0802 - val_accuracy: 0.9616\n",
      "Epoch 40/300\n",
      "6250/6250 [==============================] - 34s 5ms/step - loss: 0.0801 - accuracy: 0.9621 - val_loss: 0.0803 - val_accuracy: 0.9615\n",
      "Epoch 41/300\n",
      "6250/6250 [==============================] - 34s 5ms/step - loss: 0.0799 - accuracy: 0.9622 - val_loss: 0.0802 - val_accuracy: 0.9616\n",
      "Epoch 42/300\n",
      "6250/6250 [==============================] - 33s 5ms/step - loss: 0.0800 - accuracy: 0.9622 - val_loss: 0.0802 - val_accuracy: 0.9616\n",
      "Epoch 43/300\n",
      "6250/6250 [==============================] - 32s 5ms/step - loss: 0.0799 - accuracy: 0.9622 - val_loss: 0.0802 - val_accuracy: 0.9616\n",
      "Epoch 44/300\n",
      "6250/6250 [==============================] - 37s 6ms/step - loss: 0.0799 - accuracy: 0.9622 - val_loss: 0.0802 - val_accuracy: 0.9617\n",
      "Epoch 45/300\n",
      "6250/6250 [==============================] - 42s 7ms/step - loss: 0.0799 - accuracy: 0.9622 - val_loss: 0.0802 - val_accuracy: 0.9616\n",
      "Epoch 46/300\n",
      "6250/6250 [==============================] - 35s 6ms/step - loss: 0.0799 - accuracy: 0.9622 - val_loss: 0.0802 - val_accuracy: 0.9616\n",
      "Epoch 47/300\n",
      "6250/6250 [==============================] - 41s 7ms/step - loss: 0.0799 - accuracy: 0.9623 - val_loss: 0.0802 - val_accuracy: 0.9616\n",
      "Epoch 48/300\n",
      "6250/6250 [==============================] - 38s 6ms/step - loss: 0.0799 - accuracy: 0.9623 - val_loss: 0.0802 - val_accuracy: 0.9616\n",
      "Epoch 49/300\n",
      "6250/6250 [==============================] - 37s 6ms/step - loss: 0.0798 - accuracy: 0.9623 - val_loss: 0.0802 - val_accuracy: 0.9616\n",
      "Epoch 50/300\n",
      "6250/6250 [==============================] - 39s 6ms/step - loss: 0.0799 - accuracy: 0.9622 - val_loss: 0.0802 - val_accuracy: 0.9616\n",
      "Epoch 51/300\n",
      "6250/6250 [==============================] - 37s 6ms/step - loss: 0.0798 - accuracy: 0.9623 - val_loss: 0.0802 - val_accuracy: 0.9616\n",
      "Epoch 52/300\n",
      "6250/6250 [==============================] - 38s 6ms/step - loss: 0.0798 - accuracy: 0.9623 - val_loss: 0.0802 - val_accuracy: 0.9616\n",
      "Epoch 53/300\n",
      "6250/6250 [==============================] - 41s 7ms/step - loss: 0.0798 - accuracy: 0.9623 - val_loss: 0.0802 - val_accuracy: 0.9616\n",
      "Epoch 54/300\n",
      "6250/6250 [==============================] - 35s 6ms/step - loss: 0.0799 - accuracy: 0.9623 - val_loss: 0.0802 - val_accuracy: 0.9616\n",
      "Epoch 55/300\n",
      "6250/6250 [==============================] - 38s 6ms/step - loss: 0.0799 - accuracy: 0.9623 - val_loss: 0.0802 - val_accuracy: 0.9616\n",
      "Epoch 56/300\n",
      "6250/6250 [==============================] - 35s 6ms/step - loss: 0.0799 - accuracy: 0.9622 - val_loss: 0.0802 - val_accuracy: 0.9616\n",
      "Epoch 57/300\n",
      "6250/6250 [==============================] - 41s 7ms/step - loss: 0.0799 - accuracy: 0.9622 - val_loss: 0.0802 - val_accuracy: 0.9616\n",
      "Epoch 58/300\n",
      "6250/6250 [==============================] - 40s 6ms/step - loss: 0.0799 - accuracy: 0.9622 - val_loss: 0.0802 - val_accuracy: 0.9616\n",
      "Epoch 59/300\n",
      "6250/6250 [==============================] - 37s 6ms/step - loss: 0.0798 - accuracy: 0.9623 - val_loss: 0.0802 - val_accuracy: 0.9616\n",
      "Epoch 60/300\n",
      "6250/6250 [==============================] - 41s 7ms/step - loss: 0.0798 - accuracy: 0.9623 - val_loss: 0.0802 - val_accuracy: 0.9616\n",
      "Epoch 61/300\n",
      "6250/6250 [==============================] - 39s 6ms/step - loss: 0.0799 - accuracy: 0.9622 - val_loss: 0.0802 - val_accuracy: 0.9616\n",
      "Epoch 62/300\n",
      "6250/6250 [==============================] - 37s 6ms/step - loss: 0.0799 - accuracy: 0.9622 - val_loss: 0.0802 - val_accuracy: 0.9616\n",
      "Epoch 63/300\n",
      "6250/6250 [==============================] - 36s 6ms/step - loss: 0.0798 - accuracy: 0.9623 - val_loss: 0.0802 - val_accuracy: 0.9616\n",
      "Epoch 64/300\n",
      "6250/6250 [==============================] - 39s 6ms/step - loss: 0.0798 - accuracy: 0.9622 - val_loss: 0.0802 - val_accuracy: 0.9616\n",
      "Epoch 65/300\n",
      "6250/6250 [==============================] - 39s 6ms/step - loss: 0.0799 - accuracy: 0.9622 - val_loss: 0.0802 - val_accuracy: 0.9616\n",
      "Epoch 66/300\n",
      "6250/6250 [==============================] - 38s 6ms/step - loss: 0.0798 - accuracy: 0.9623 - val_loss: 0.0802 - val_accuracy: 0.9616\n",
      "CPU times: user 49min 14s, sys: 8min 58s, total: 58min 13s\n",
      "Wall time: 38min 23s\n"
     ]
    }
   ],
   "source": [
    "%%time\n",
    "\n",
    "epochs=300\n",
    "\n",
    "history = model_tf.fit(\n",
    "      x=X_train, \n",
    "      y=y_train,\n",
    "      batch_size=512,\n",
    "      epochs=epochs,\n",
    "      verbose=1,\n",
    "      validation_data = (X_valid, y_valid),\n",
    "      callbacks=[desired_acc, early_stop, plateau],\n",
    "      #class_weight=weights\n",
    ")"
   ]
  },
  {
   "cell_type": "code",
   "execution_count": 46,
   "id": "1a13bc8d",
   "metadata": {
    "execution": {
     "iopub.execute_input": "2022-01-01T09:31:30.123243Z",
     "iopub.status.busy": "2022-01-01T09:31:30.122314Z",
     "iopub.status.idle": "2022-01-01T09:35:00.142998Z",
     "shell.execute_reply": "2022-01-01T09:35:00.143776Z",
     "shell.execute_reply.started": "2022-01-01T08:22:36.572764Z"
    },
    "papermill": {
     "duration": 222.540518,
     "end_time": "2022-01-01T09:35:00.144021",
     "exception": false,
     "start_time": "2022-01-01T09:31:17.603503",
     "status": "completed"
    },
    "tags": []
   },
   "outputs": [
    {
     "name": "stdout",
     "output_type": "stream",
     "text": [
      "Valid accuracy: 0.96163625\n",
      "Train accuracy: 0.9629765625\n",
      "CPU times: user 3min 35s, sys: 1min 10s, total: 4min 46s\n",
      "Wall time: 3min 17s\n"
     ]
    }
   ],
   "source": [
    "%%time\n",
    "preds_valid = np.argmax(model_tf.predict(X_valid), axis=1)\n",
    "print('Valid accuracy:', accuracy_score(y_valid, preds_valid))\n",
    "\n",
    "preds_train = np.argmax(model_tf.predict(X_train), axis=1)\n",
    "print('Train accuracy:', accuracy_score(y_train, preds_train))"
   ]
  },
  {
   "cell_type": "code",
   "execution_count": 47,
   "id": "de1caa4d",
   "metadata": {
    "execution": {
     "iopub.execute_input": "2022-01-01T09:35:24.907410Z",
     "iopub.status.busy": "2022-01-01T09:35:24.906399Z",
     "iopub.status.idle": "2022-01-01T09:35:24.929916Z",
     "shell.execute_reply": "2022-01-01T09:35:24.930383Z",
     "shell.execute_reply.started": "2022-01-01T08:25:04.048363Z"
    },
    "papermill": {
     "duration": 12.396635,
     "end_time": "2022-01-01T09:35:24.930569",
     "exception": false,
     "start_time": "2022-01-01T09:35:12.533934",
     "status": "completed"
    },
    "tags": []
   },
   "outputs": [
    {
     "data": {
      "text/plain": [
       "array([0, 1, 2, 3, 5, 6])"
      ]
     },
     "execution_count": 47,
     "metadata": {},
     "output_type": "execute_result"
    }
   ],
   "source": [
    "np.unique(preds_valid)"
   ]
  },
  {
   "cell_type": "code",
   "execution_count": 48,
   "id": "52be38e2",
   "metadata": {
    "execution": {
     "iopub.execute_input": "2022-01-01T09:35:49.688385Z",
     "iopub.status.busy": "2022-01-01T09:35:49.671707Z",
     "iopub.status.idle": "2022-01-01T09:35:50.118685Z",
     "shell.execute_reply": "2022-01-01T09:35:50.119151Z",
     "shell.execute_reply.started": "2022-01-01T08:25:04.078359Z"
    },
    "papermill": {
     "duration": 12.746649,
     "end_time": "2022-01-01T09:35:50.119356",
     "exception": false,
     "start_time": "2022-01-01T09:35:37.372707",
     "status": "completed"
    },
    "tags": []
   },
   "outputs": [
    {
     "name": "stdout",
     "output_type": "stream",
     "text": [
      "Max valid acc: 0.9616525173187256\n",
      "Min valid loss: 0.08017408847808838\n"
     ]
    },
    {
     "data": {
      "text/plain": [
       "<Figure size 432x288 with 0 Axes>"
      ]
     },
     "execution_count": 48,
     "metadata": {},
     "output_type": "execute_result"
    },
    {
     "data": {
      "image/png": "[encoded data removed]",
      "text/plain": [
       "<Figure size 432x288 with 1 Axes>"
      ]
     },
     "metadata": {
      "needs_background": "light"
     },
     "output_type": "display_data"
    },
    {
     "data": {
      "image/png": "[encoded data removed]",
      "text/plain": [
       "<Figure size 432x288 with 1 Axes>"
      ]
     },
     "metadata": {
      "needs_background": "light"
     },
     "output_type": "display_data"
    },
    {
     "data": {
      "text/plain": [
       "<Figure size 432x288 with 0 Axes>"
      ]
     },
     "metadata": {},
     "output_type": "display_data"
    }
   ],
   "source": [
    "acc = history.history['accuracy']\n",
    "val_acc = history.history['val_accuracy']\n",
    "loss = history.history['loss']\n",
    "val_loss = history.history['val_loss']\n",
    "\n",
    "print('Max valid acc:', max(val_acc))\n",
    "print('Min valid loss:', min(val_loss))\n",
    "\n",
    "#------------------------------------------------\n",
    "# Plot training and validation accuracy per epoch\n",
    "#------------------------------------------------\n",
    "plt.plot(range(len(acc)), acc, label='Train Accuracy')\n",
    "plt.plot(range(len(val_acc)), val_acc, label='Valid Accuracy')\n",
    "plt.title ('Train and Validation Accuracy')\n",
    "plt.figure()\n",
    "\n",
    "#------------------------------------------------\n",
    "# Plot training and validation loss per epoch\n",
    "#------------------------------------------------\n",
    "plt.plot(range(len(loss)), loss, label='Train Loss')\n",
    "plt.plot(range(len(val_loss)), val_loss, label='Valid Loss')\n",
    "plt.title ('Train and Validation Loss'   )\n",
    "plt.figure()"
   ]
  },
  {
   "cell_type": "markdown",
   "id": "9f5f7b01",
   "metadata": {
    "papermill": {
     "duration": 12.973558,
     "end_time": "2022-01-01T09:36:16.250251",
     "exception": false,
     "start_time": "2022-01-01T09:36:03.276693",
     "status": "completed"
    },
    "tags": []
   },
   "source": [
    "**Confusion matrix**"
   ]
  },
  {
   "cell_type": "code",
   "execution_count": 49,
   "id": "72248bed",
   "metadata": {
    "execution": {
     "iopub.execute_input": "2022-01-01T09:36:41.900417Z",
     "iopub.status.busy": "2022-01-01T09:36:41.899619Z",
     "iopub.status.idle": "2022-01-01T09:36:44.949452Z",
     "shell.execute_reply": "2022-01-01T09:36:44.949945Z",
     "shell.execute_reply.started": "2022-01-01T08:25:04.487175Z"
    },
    "papermill": {
     "duration": 15.636029,
     "end_time": "2022-01-01T09:36:44.950134",
     "exception": false,
     "start_time": "2022-01-01T09:36:29.314105",
     "status": "completed"
    },
    "tags": []
   },
   "outputs": [
    {
     "data": {
      "image/png": "[encoded data removed]",
      "text/plain": [
       "<Figure size 576x432 with 1 Axes>"
      ]
     },
     "metadata": {
      "needs_background": "light"
     },
     "output_type": "display_data"
    },
    {
     "data": {
      "image/png": "[encoded data removed]",
      "text/plain": [
       "<Figure size 576x432 with 1 Axes>"
      ]
     },
     "metadata": {
      "needs_background": "light"
     },
     "output_type": "display_data"
    }
   ],
   "source": [
    "    from sklearn.metrics import confusion_matrix\n",
    "    from sklearn.preprocessing import minmax_scale\n",
    "    import itertools\n",
    "    \n",
    "    def plot_confusion_matrix(cm, classes, cm_type='recall'):\n",
    "        if cm_type == 'recall':\n",
    "            cm = cm / cm.sum(axis=1).reshape(-1, 1)\n",
    "            colors = cm\n",
    "            cell_format = '.0%'\n",
    "            plt.title('Confusion matrix (sum of every row is 100 %, diagonal shows recall)', fontweight='bold', pad=15)\n",
    "        elif cm_type == 'precision':\n",
    "            cm = cm / cm.sum(axis=0).reshape(1, -1)\n",
    "            colors = cm\n",
    "            cell_format = '.0%'\n",
    "            plt.title('Confusion matrix (sum of every column is 100 %, diagonal shows precision)', fontweight='bold', pad=15)\n",
    "        elif cm_type == 'accuracy':\n",
    "            cm = cm / cm.sum()\n",
    "            colors = minmax_scale(cm.reshape(-1, 1)).reshape(cm.shape[0], cm.shape[1]) ** 0.3 # make the low-to-medium cells darker\n",
    "            cell_format = '.2%'\n",
    "            plt.title('Confusion matrix (sum of matrix is 100 %, sum of diagonal shows accuracy)', fontweight='bold', pad=15)\n",
    "        elif cm_type == 'count':\n",
    "            colors = minmax_scale(cm.reshape(-1, 1)).reshape(cm.shape[0], cm.shape[1]) ** 0.3 # make the low-to-medium cells darker\n",
    "            cell_format = 'd'\n",
    "            plt.title('Confusion matrix (sample counts)', fontweight='bold', pad=15)\n",
    "        else: raise ValueError(f'Illegal value for parameter cm_type: {cm_type}')\n",
    "        plt.imshow(colors, interpolation='nearest', cmap=plt.cm.Blues) # or cmap='hot'\n",
    "        #plt.colorbar()\n",
    "        tick_marks = np.arange(len(classes))\n",
    "        plt.xticks(tick_marks, classes, rotation=0)\n",
    "        plt.yticks(tick_marks, classes)\n",
    "\n",
    "        thresh = colors.max() / 2.\n",
    "        for i, j in itertools.product(range(cm.shape[0]), range(cm.shape[1])):\n",
    "            value = cm[i, j]\n",
    "            plt.text(j, i, format(value, cell_format),\n",
    "                     horizontalalignment=\"center\",\n",
    "                     color=\"white\" if colors[i, j] > thresh else \"black\")\n",
    "\n",
    "        plt.ylabel('True label', fontweight='bold')\n",
    "        plt.xlabel('Predicted label', fontweight='bold')\n",
    "        plt.tight_layout()\n",
    "\n",
    "    \n",
    "    cm = confusion_matrix(y_valid, preds_valid)\n",
    "    #plt.figure(figsize=(11, 9))\n",
    "    #plot_confusion_matrix(cm, le.inverse_transform(np.arange(len(le.classes_))), cm_type='accuracy')\n",
    "    #plt.show()\n",
    "\n",
    "    plt.figure(figsize=(8, 6))\n",
    "    plot_confusion_matrix(cm, le.inverse_transform(np.arange(len(le.classes_))), cm_type='count')\n",
    "    plt.show()\n",
    "    \n",
    "    cm = confusion_matrix(y_valid, y_valid)\n",
    "    #plt.figure(figsize=(8,6))\n",
    "    #plot_confusion_matrix(cm, le.inverse_transform(np.arange(len(le.classes_))), cm_type='accuracy')\n",
    "    #plt.show()\n",
    "\n",
    "    plt.figure(figsize=(8, 6))\n",
    "    plot_confusion_matrix(cm, le.inverse_transform(np.arange(len(le.classes_))), cm_type='count')\n",
    "    plt.show()"
   ]
  },
  {
   "cell_type": "markdown",
   "id": "81575ac4",
   "metadata": {
    "papermill": {
     "duration": 12.922121,
     "end_time": "2022-01-01T09:37:10.438708",
     "exception": false,
     "start_time": "2022-01-01T09:36:57.516587",
     "status": "completed"
    },
    "tags": []
   },
   "source": [
    "# Submit"
   ]
  },
  {
   "cell_type": "code",
   "execution_count": 50,
   "id": "71bb40aa",
   "metadata": {
    "execution": {
     "iopub.execute_input": "2022-01-01T09:37:35.776099Z",
     "iopub.status.busy": "2022-01-01T09:37:35.775213Z",
     "iopub.status.idle": "2022-01-01T09:38:35.330015Z",
     "shell.execute_reply": "2022-01-01T09:38:35.330526Z",
     "shell.execute_reply.started": "2022-01-01T08:25:06.399620Z"
    },
    "papermill": {
     "duration": 72.29918,
     "end_time": "2022-01-01T09:38:35.330803",
     "exception": false,
     "start_time": "2022-01-01T09:37:23.031623",
     "status": "completed"
    },
    "tags": []
   },
   "outputs": [
    {
     "name": "stdout",
     "output_type": "stream",
     "text": [
      "CPU times: user 1min 4s, sys: 16.2 s, total: 1min 20s\n",
      "Wall time: 59.6 s\n"
     ]
    }
   ],
   "source": [
    "%%time\n",
    "samp_sub = dt.fread('../input/tabular-playground-series-dec-2021/sample_submission.csv').to_pandas()\n",
    "preds_test = np.argmax(model_tf.predict(test), axis=1)\n",
    "preds_test_sub = le.inverse_transform(preds_test)\n",
    "\n",
    "output = pd.DataFrame({'Id': samp_sub['Id'],\n",
    "                       'Cover_Type': preds_test_sub.flatten()})\n",
    "\n",
    "output.to_csv('submission_dec_12_21.csv', index=False)"
   ]
  },
  {
   "cell_type": "code",
   "execution_count": 51,
   "id": "b2604186",
   "metadata": {
    "execution": {
     "iopub.execute_input": "2022-01-01T09:39:00.076830Z",
     "iopub.status.busy": "2022-01-01T09:39:00.076118Z",
     "iopub.status.idle": "2022-01-01T09:39:00.090204Z",
     "shell.execute_reply": "2022-01-01T09:39:00.090762Z",
     "shell.execute_reply.started": "2022-01-01T08:25:53.798229Z"
    },
    "papermill": {
     "duration": 12.381723,
     "end_time": "2022-01-01T09:39:00.090941",
     "exception": false,
     "start_time": "2022-01-01T09:38:47.709218",
     "status": "completed"
    },
    "tags": []
   },
   "outputs": [
    {
     "data": {
      "text/plain": [
       "2    513464\n",
       "1    386773\n",
       "3     78206\n",
       "7     15613\n",
       "6      5817\n",
       "4       127\n",
       "Name: Cover_Type, dtype: int64"
      ]
     },
     "execution_count": 51,
     "metadata": {},
     "output_type": "execute_result"
    }
   ],
   "source": [
    "output.Cover_Type.value_counts()"
   ]
  },
  {
   "cell_type": "code",
   "execution_count": 52,
   "id": "b915e87e",
   "metadata": {
    "execution": {
     "iopub.execute_input": "2022-01-01T09:39:26.719501Z",
     "iopub.status.busy": "2022-01-01T09:39:26.718768Z",
     "iopub.status.idle": "2022-01-01T09:39:26.722844Z",
     "shell.execute_reply": "2022-01-01T09:39:26.721963Z",
     "shell.execute_reply.started": "2022-01-01T08:25:53.812938Z"
    },
    "papermill": {
     "duration": 13.772262,
     "end_time": "2022-01-01T09:39:26.723038",
     "exception": false,
     "start_time": "2022-01-01T09:39:12.950776",
     "status": "completed"
    },
    "tags": []
   },
   "outputs": [
    {
     "name": "stdout",
     "output_type": "stream",
     "text": [
      "The end.\n"
     ]
    }
   ],
   "source": [
    "print('The end.')"
   ]
  }
 ],
 "metadata": {
  "kernelspec": {
   "display_name": "Python 3",
   "language": "python",
   "name": "python3"
  },
  "language_info": {
   "codemirror_mode": {
    "name": "ipython",
    "version": 3
   },
   "file_extension": ".py",
   "mimetype": "text/x-python",
   "name": "python",
   "nbconvert_exporter": "python",
   "pygments_lexer": "ipython3",
   "version": "3.7.12"
  },
  "papermill": {
   "default_parameters": {},
   "duration": 2974.488822,
   "end_time": "2022-01-01T09:39:43.060909",
   "environment_variables": {},
   "exception": null,
   "input_path": "__notebook__.ipynb",
   "output_path": "__notebook__.ipynb",
   "parameters": {},
   "start_time": "2022-01-01T08:50:08.572087",
   "version": "2.3.3"
  }
 },
 "nbformat": 4,
 "nbformat_minor": 5
}
