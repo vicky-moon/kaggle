{
  "nbformat": 4,
  "nbformat_minor": 0,
  "metadata": {
    "colab": {
      "name": "Titanic_kaggle_SimpleNN_keras.ipynb",
      "provenance": [],
      "toc_visible": true
    },
    "kernelspec": {
      "name": "python3",
      "display_name": "Python 3"
    }
  },
  "cells": [
    {
      "cell_type": "code",
      "metadata": {
        "id": "OvY46k41kRIH",
        "outputId": "6191bf55-c872-4971-c924-a93cb5b8c4b3",
        "colab": {
          "base_uri": "https://localhost:8080/",
          "height": 205
        }
      },
      "source": [
        "#!pip install --upgrade tensorflow\n",
        "!pip show tensorflow"
      ],
      "execution_count": null,
      "outputs": [
        {
          "output_type": "stream",
          "text": [
            "Name: tensorflow\n",
            "Version: 2.1.0\n",
            "Summary: TensorFlow is an open source machine learning framework for everyone.\n",
            "Home-page: https://www.tensorflow.org/\n",
            "Author: Google Inc.\n",
            "Author-email: packages@tensorflow.org\n",
            "License: Apache 2.0\n",
            "Location: /usr/local/lib/python3.6/dist-packages\n",
            "Requires: astor, wheel, keras-applications, absl-py, numpy, six, termcolor, gast, protobuf, tensorboard, wrapt, google-pasta, scipy, keras-preprocessing, grpcio, tensorflow-estimator, opt-einsum\n",
            "Required-by: stable-baselines, magenta, fancyimpute\n"
          ],
          "name": "stdout"
        }
      ]
    },
    {
      "cell_type": "markdown",
      "metadata": {
        "id": "w8ygiOPD37JZ"
      },
      "source": [
        "# New Section"
      ]
    },
    {
      "cell_type": "code",
      "metadata": {
        "id": "9pyfzICVYjN0"
      },
      "source": [
        "import numpy as np\n",
        "import pandas as pd\n",
        "import seaborn as sns\n",
        "import matplotlib.pyplot as plt\n",
        "import random"
      ],
      "execution_count": null,
      "outputs": []
    },
    {
      "cell_type": "code",
      "metadata": {
        "id": "fOkE6vja-c4b",
        "outputId": "04b7f257-b077-4067-9582-2cf82c9bef0c",
        "colab": {
          "resources": {
            "http://localhost:8080/nbextensions/google.colab/files.js": {
              "data": "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",
              "ok": true,
              "headers": [
                [
                  "content-type",
                  "application/javascript"
                ]
              ],
              "status": 200,
              "status_text": ""
            }
          },
          "base_uri": "https://localhost:8080/",
          "height": 108
        }
      },
      "source": [
        "from google.colab import files\n",
        "uploaded = files.upload()"
      ],
      "execution_count": null,
      "outputs": [
        {
          "output_type": "display_data",
          "data": {
            "text/html": [
              "\n",
              "     <input type=\"file\" id=\"files-9df246f9-c68a-4d97-b799-b52b5c7cec04\" name=\"files[]\" multiple disabled />\n",
              "     <output id=\"result-9df246f9-c68a-4d97-b799-b52b5c7cec04\">\n",
              "      Upload widget is only available when the cell has been executed in the\n",
              "      current browser session. Please rerun this cell to enable.\n",
              "      </output>\n",
              "      <script src=\"/nbextensions/google.colab/files.js\"></script> "
            ],
            "text/plain": [
              "<IPython.core.display.HTML object>"
            ]
          },
          "metadata": {
            "tags": []
          }
        },
        {
          "output_type": "stream",
          "text": [
            "Saving test.csv to test.csv\n",
            "Saving train.csv to train.csv\n"
          ],
          "name": "stdout"
        }
      ]
    },
    {
      "cell_type": "code",
      "metadata": {
        "id": "v_k50pOk4cif"
      },
      "source": [
        ""
      ],
      "execution_count": null,
      "outputs": []
    },
    {
      "cell_type": "markdown",
      "metadata": {
        "id": "jT-pjnJmBuCn"
      },
      "source": [
        "### Load data ###"
      ]
    },
    {
      "cell_type": "code",
      "metadata": {
        "id": "ffqET1IH-pAx"
      },
      "source": [
        "## Load data ##\n",
        "import io\n",
        "train_data = pd.read_csv(io.BytesIO(uploaded['train.csv']))\n",
        "test_data = pd.read_csv(io.BytesIO(uploaded['test.csv']))"
      ],
      "execution_count": null,
      "outputs": []
    },
    {
      "cell_type": "code",
      "metadata": {
        "id": "nWM_ors6YTOy",
        "outputId": "72a15fd0-0263-47d9-fd92-b1ba02763ecd",
        "colab": {
          "base_uri": "https://localhost:8080/",
          "height": 195
        }
      },
      "source": [
        "### Data preparation ###\n",
        "train_y = train_data[\"Survived\"]\n",
        "train_X = train_data.copy()\n",
        "test_X = test_data.copy()\n",
        "train_X.drop([\"Survived\"],axis=1, inplace=True)\n",
        "train_X.head()"
      ],
      "execution_count": null,
      "outputs": [
        {
          "output_type": "execute_result",
          "data": {
            "text/html": [
              "<div>\n",
              "<style scoped>\n",
              "    .dataframe tbody tr th:only-of-type {\n",
              "        vertical-align: middle;\n",
              "    }\n",
              "\n",
              "    .dataframe tbody tr th {\n",
              "        vertical-align: top;\n",
              "    }\n",
              "\n",
              "    .dataframe thead th {\n",
              "        text-align: right;\n",
              "    }\n",
              "</style>\n",
              "<table border=\"1\" class=\"dataframe\">\n",
              "  <thead>\n",
              "    <tr style=\"text-align: right;\">\n",
              "      <th></th>\n",
              "      <th>PassengerId</th>\n",
              "      <th>Pclass</th>\n",
              "      <th>Name</th>\n",
              "      <th>Sex</th>\n",
              "      <th>Age</th>\n",
              "      <th>SibSp</th>\n",
              "      <th>Parch</th>\n",
              "      <th>Ticket</th>\n",
              "      <th>Fare</th>\n",
              "      <th>Cabin</th>\n",
              "      <th>Embarked</th>\n",
              "    </tr>\n",
              "  </thead>\n",
              "  <tbody>\n",
              "    <tr>\n",
              "      <th>0</th>\n",
              "      <td>1</td>\n",
              "      <td>3</td>\n",
              "      <td>Braund, Mr. Owen Harris</td>\n",
              "      <td>male</td>\n",
              "      <td>22.0</td>\n",
              "      <td>1</td>\n",
              "      <td>0</td>\n",
              "      <td>A/5 21171</td>\n",
              "      <td>7.2500</td>\n",
              "      <td>NaN</td>\n",
              "      <td>S</td>\n",
              "    </tr>\n",
              "    <tr>\n",
              "      <th>1</th>\n",
              "      <td>2</td>\n",
              "      <td>1</td>\n",
              "      <td>Cumings, Mrs. John Bradley (Florence Briggs Th...</td>\n",
              "      <td>female</td>\n",
              "      <td>38.0</td>\n",
              "      <td>1</td>\n",
              "      <td>0</td>\n",
              "      <td>PC 17599</td>\n",
              "      <td>71.2833</td>\n",
              "      <td>C85</td>\n",
              "      <td>C</td>\n",
              "    </tr>\n",
              "    <tr>\n",
              "      <th>2</th>\n",
              "      <td>3</td>\n",
              "      <td>3</td>\n",
              "      <td>Heikkinen, Miss. Laina</td>\n",
              "      <td>female</td>\n",
              "      <td>26.0</td>\n",
              "      <td>0</td>\n",
              "      <td>0</td>\n",
              "      <td>STON/O2. 3101282</td>\n",
              "      <td>7.9250</td>\n",
              "      <td>NaN</td>\n",
              "      <td>S</td>\n",
              "    </tr>\n",
              "    <tr>\n",
              "      <th>3</th>\n",
              "      <td>4</td>\n",
              "      <td>1</td>\n",
              "      <td>Futrelle, Mrs. Jacques Heath (Lily May Peel)</td>\n",
              "      <td>female</td>\n",
              "      <td>35.0</td>\n",
              "      <td>1</td>\n",
              "      <td>0</td>\n",
              "      <td>113803</td>\n",
              "      <td>53.1000</td>\n",
              "      <td>C123</td>\n",
              "      <td>S</td>\n",
              "    </tr>\n",
              "    <tr>\n",
              "      <th>4</th>\n",
              "      <td>5</td>\n",
              "      <td>3</td>\n",
              "      <td>Allen, Mr. William Henry</td>\n",
              "      <td>male</td>\n",
              "      <td>35.0</td>\n",
              "      <td>0</td>\n",
              "      <td>0</td>\n",
              "      <td>373450</td>\n",
              "      <td>8.0500</td>\n",
              "      <td>NaN</td>\n",
              "      <td>S</td>\n",
              "    </tr>\n",
              "  </tbody>\n",
              "</table>\n",
              "</div>"
            ],
            "text/plain": [
              "   PassengerId  Pclass  ... Cabin Embarked\n",
              "0            1       3  ...   NaN        S\n",
              "1            2       1  ...   C85        C\n",
              "2            3       3  ...   NaN        S\n",
              "3            4       1  ...  C123        S\n",
              "4            5       3  ...   NaN        S\n",
              "\n",
              "[5 rows x 11 columns]"
            ]
          },
          "metadata": {
            "tags": []
          },
          "execution_count": 11
        }
      ]
    },
    {
      "cell_type": "code",
      "metadata": {
        "id": "vzNeaUxy_y2G",
        "outputId": "78dea0e2-7a3f-43e8-ab72-36a02e30cadb",
        "colab": {
          "base_uri": "https://localhost:8080/",
          "height": 252
        }
      },
      "source": [
        "print('*** train_X is null ***')\n",
        "train_data.isnull().sum()"
      ],
      "execution_count": null,
      "outputs": [
        {
          "output_type": "stream",
          "text": [
            "*** train_X is null ***\n"
          ],
          "name": "stdout"
        },
        {
          "output_type": "execute_result",
          "data": {
            "text/plain": [
              "PassengerId      0\n",
              "Survived         0\n",
              "Pclass           0\n",
              "Name             0\n",
              "Sex              0\n",
              "Age            177\n",
              "SibSp            0\n",
              "Parch            0\n",
              "Ticket           0\n",
              "Fare             0\n",
              "Cabin          687\n",
              "Embarked         2\n",
              "dtype: int64"
            ]
          },
          "metadata": {
            "tags": []
          },
          "execution_count": 12
        }
      ]
    },
    {
      "cell_type": "code",
      "metadata": {
        "id": "NenmufleAQ3O",
        "outputId": "228a3dcc-8883-4d8f-e3b2-262224cb5d2b",
        "colab": {
          "base_uri": "https://localhost:8080/",
          "height": 235
        }
      },
      "source": [
        "\n",
        "print('*** test_X is null ***')\n",
        "test_data.isnull().sum()"
      ],
      "execution_count": null,
      "outputs": [
        {
          "output_type": "stream",
          "text": [
            "*** test_X is null ***\n"
          ],
          "name": "stdout"
        },
        {
          "output_type": "execute_result",
          "data": {
            "text/plain": [
              "PassengerId      0\n",
              "Pclass           0\n",
              "Name             0\n",
              "Sex              0\n",
              "Age             86\n",
              "SibSp            0\n",
              "Parch            0\n",
              "Ticket           0\n",
              "Fare             1\n",
              "Cabin          327\n",
              "Embarked         0\n",
              "dtype: int64"
            ]
          },
          "metadata": {
            "tags": []
          },
          "execution_count": 13
        }
      ]
    },
    {
      "cell_type": "markdown",
      "metadata": {
        "id": "r69EKdsAA5zQ"
      },
      "source": [
        "### Features preparation ###"
      ]
    },
    {
      "cell_type": "code",
      "metadata": {
        "id": "LkQDS7HFA_Cd"
      },
      "source": [
        "from sklearn import preprocessing\n",
        "le = preprocessing.LabelEncoder()"
      ],
      "execution_count": null,
      "outputs": []
    },
    {
      "cell_type": "code",
      "metadata": {
        "id": "k1l6fivBBIUF"
      },
      "source": [
        "## PassengerId ##\n",
        "train_X.drop([\"PassengerId\"],axis=1, inplace=True)\n",
        "test_X.drop([\"PassengerId\"],axis=1, inplace=True)"
      ],
      "execution_count": null,
      "outputs": []
    },
    {
      "cell_type": "code",
      "metadata": {
        "id": "pjVainHjBL4F"
      },
      "source": [
        "## Cabin ##\n",
        "def _get_cabin_prefix(cabin):\n",
        "    return cabin[0]\n",
        "\n",
        "def create_cabin_features(df):\n",
        "    df['Cabin'].fillna('-', inplace = True)\n",
        "    df[\"CabinNotNull\"] = df[\"Cabin\"].map(lambda x: int(x != '-'))\n",
        "    df[\"Cabin_Prefix\"] = df[\"Cabin\"].map(lambda x: _get_cabin_prefix(x))\n",
        "    df.drop([\"Cabin\"],axis=1, inplace=True)\n",
        "    \n",
        "#create_cabin_features(train_X)\n",
        "#create_cabin_features(test_X)\n",
        "\n",
        "#train_X['Cabin_Prefix'] = le.fit_transform(train_X['Cabin_Prefix'])\n",
        "#test_X['Cabin_Prefix'] = le.fit_transform(test_X['Cabin_Prefix'])\n",
        "\n",
        "train_X.drop(['Cabin'],axis=1, inplace=True)\n",
        "test_X.drop(['Cabin'],axis=1, inplace=True)"
      ],
      "execution_count": null,
      "outputs": []
    },
    {
      "cell_type": "code",
      "metadata": {
        "id": "zezlthOuBQNl"
      },
      "source": [
        "## Parch ##\n",
        "#train_X.drop(['Parch'],axis=1, inplace=True)\n",
        "#test_X.drop(['Parch'],axis=1, inplace=True)"
      ],
      "execution_count": null,
      "outputs": []
    },
    {
      "cell_type": "code",
      "metadata": {
        "id": "nuHwNqk_BUGF"
      },
      "source": [
        "## Names ##\n",
        "\n",
        "def _get_title(name):\n",
        "    return name.split(',')[1].split('.')[0].strip()\n",
        "\n",
        "def _get_first_name(name):\n",
        "    return name.split(',')[0].strip()\n",
        "\n",
        "def _get_name_len(name):\n",
        "    return len(name)\n",
        "\n",
        "def create_name_features(df):\n",
        "    df[\"Title\"] = df[\"Name\"].map(lambda x: _get_title(x))\n",
        "    df[\"Name_1\"] = df[\"Name\"].map(lambda x: _get_first_name(x))\n",
        "    df[\"Name_3_is\"] = df[\"Name\"].map(lambda x: '(' in x)\n",
        "    df[\"Name_len\"] = df[\"Name\"].map(lambda x: _get_name_len(x))\n",
        "    df.drop([\"Name\"],axis=1, inplace=True)\n",
        "    \n",
        "create_name_features(train_X)\n",
        "create_name_features(test_X)\n",
        "\n",
        "train_X['Title'] = le.fit_transform(train_X['Title'])\n",
        "test_X['Title'] = le.fit_transform(test_X['Title'])\n",
        "\n",
        "train_X['Name_1'] = le.fit_transform(train_X['Name_1'])\n",
        "test_X['Name_1'] = le.fit_transform(test_X['Name_1'])\n",
        "\n",
        "train_X['Name_3_is'] = le.fit_transform(train_X['Name_3_is'])\n",
        "test_X['Name_3_is'] = le.fit_transform(test_X['Name_3_is'])"
      ],
      "execution_count": null,
      "outputs": []
    },
    {
      "cell_type": "code",
      "metadata": {
        "id": "sGnl5XpPBX6c",
        "outputId": "4357f841-6d68-4e11-a7e2-2905a602ac45",
        "colab": {
          "base_uri": "https://localhost:8080/",
          "height": 50
        }
      },
      "source": [
        "## Sex ##\n",
        "print(\"train is_null=\", train_X.Sex.isnull().sum())\n",
        "print(\"test  is_null=\", test_X.Sex.isnull().sum())\n",
        "\n",
        "train_X['Sex'] = le.fit_transform(train_X['Sex'])\n",
        "test_X['Sex'] = le.fit_transform(test_X['Sex'])"
      ],
      "execution_count": null,
      "outputs": [
        {
          "output_type": "stream",
          "text": [
            "train is_null= 0\n",
            "test  is_null= 0\n"
          ],
          "name": "stdout"
        }
      ]
    },
    {
      "cell_type": "code",
      "metadata": {
        "id": "GwjUEIJqB9C8",
        "outputId": "107e6338-4599-4960-ddd6-74c2c04b802e",
        "colab": {
          "base_uri": "https://localhost:8080/",
          "height": 121
        }
      },
      "source": [
        "## Age ##\n",
        "print(\"train is_null=\", train_X.Age.isnull().sum())\n",
        "print(\"test  is_null=\", test_X.Age.isnull().sum())\n",
        "    \n",
        "train_X[\"AgeNotNull\"] = le.fit_transform(train_X.Age.notnull())\n",
        "test_X[\"AgeNotNull\"] = le.fit_transform(test_X.Age.notnull())\n",
        "\n",
        "def _fill_age(df):\n",
        "    avg_age_class_title = df.groupby([\"Pclass\", \"Title\"]).Age.apply(lambda x: x.mode())\n",
        "    avg_age_class = df.groupby([\"Pclass\"]).Age.apply(lambda x: x.mode())\n",
        "    counter = 0\n",
        "    for idx in range(len(df)):\n",
        "        row = df.loc[idx, :]\n",
        "        if pd.isna(row['Age']):\n",
        "            counter += 1\n",
        "            if row['Title'] in avg_age_class_title[row['Pclass']]:\n",
        "                df.set_value(idx, 'Age', avg_age_class_title[row['Pclass']][row['Title']][0])\n",
        "            else:\n",
        "                df.set_value(idx, 'Age', avg_age_class[row['Pclass']][0])\n",
        "    #print('counter:', counter)\n",
        "    \n",
        "_fill_age(train_X)\n",
        "_fill_age(test_X)"
      ],
      "execution_count": null,
      "outputs": [
        {
          "output_type": "stream",
          "text": [
            "train is_null= 177\n",
            "test  is_null= 86\n"
          ],
          "name": "stdout"
        },
        {
          "output_type": "stream",
          "text": [
            "/usr/local/lib/python3.6/dist-packages/ipykernel_launcher.py:16: FutureWarning: set_value is deprecated and will be removed in a future release. Please use .at[] or .iat[] accessors instead\n",
            "  app.launch_new_instance()\n",
            "/usr/local/lib/python3.6/dist-packages/ipykernel_launcher.py:18: FutureWarning: set_value is deprecated and will be removed in a future release. Please use .at[] or .iat[] accessors instead\n"
          ],
          "name": "stderr"
        }
      ]
    },
    {
      "cell_type": "code",
      "metadata": {
        "id": "Lo09EvVYCCqU"
      },
      "source": [
        "## Ticket ##\n",
        "def _get_ticket_prefix(ticket):\n",
        "    # Returns ticket Prefix if found or str 'No'\n",
        "    ticket.strip()\n",
        "    if ' ' in ticket:\n",
        "        return ticket.split(' ')[0].strip()\n",
        "    return 'No'\n",
        "    \n",
        "def _get_ticket_number(ticket):\n",
        "    # Returns ticket number\n",
        "    ticket.strip()\n",
        "    if ' ' in ticket:\n",
        "        return ticket.split(' ')[1].strip()\n",
        "    return ticket\n",
        "    \n",
        "def _get_ticket_flag(ticket):\n",
        "    # Returns flag 1 if prefix found or 0 if not\n",
        "    ticket.strip()\n",
        "    return ' ' in ticket\n",
        "\n",
        "def create_ticket_features(df):\n",
        "    #df[\"Ticket_Prefix\"] = df[\"Ticket\"].map(lambda x: _get_ticket_prefix(x))\n",
        "    df[\"Ticket_Number\"] = df[\"Ticket\"].map(lambda x: _get_ticket_number(x))\n",
        "    df[\"Ticket_Flag\"] = df[\"Ticket\"].map(lambda x: _get_ticket_flag(x))\n",
        "    df.drop([\"Ticket\"],axis=1, inplace=True)\n",
        "\n",
        "create_ticket_features(train_X)\n",
        "create_ticket_features(test_X)\n",
        "\n",
        "#train_X['Ticket_Prefix'] = le.fit_transform(train_X['Ticket_Prefix'])\n",
        "#test_X['Ticket_Prefix'] = le.fit_transform(test_X['Ticket_Prefix'])\n",
        "\n",
        "train_X['Ticket_Number'] = le.fit_transform(train_X['Ticket_Number'])\n",
        "test_X['Ticket_Number'] = le.fit_transform(test_X['Ticket_Number'])"
      ],
      "execution_count": null,
      "outputs": []
    },
    {
      "cell_type": "code",
      "metadata": {
        "id": "7cAs3YtoCKi8"
      },
      "source": [
        "## Embarked ##\n",
        "train_X.Embarked.mode()\n",
        "train_X['Embarked'].fillna('S', inplace = True)\n",
        "test_X['Embarked'].fillna('S', inplace = True)\n",
        "\n",
        "train_X['Embarked'] = le.fit_transform(train_X['Embarked'])\n",
        "test_X['Embarked'] = le.fit_transform(test_X['Embarked'])"
      ],
      "execution_count": null,
      "outputs": []
    },
    {
      "cell_type": "code",
      "metadata": {
        "id": "kik3Rt7oCO2s",
        "outputId": "dfebe045-05b7-4750-aa80-a55e9d50b521",
        "colab": {
          "base_uri": "https://localhost:8080/",
          "height": 50
        }
      },
      "source": [
        "## Fare ##\n",
        "print(\"train is_null=\", train_X.Fare.isnull().sum())\n",
        "print(\"test  is_null=\", test_X.Fare.isnull().sum())\n",
        "\n",
        "test_X.Fare.isnull().sum()\n",
        "test_X['Fare'].fillna(float(test_X.Fare.mode()), inplace = True)\n",
        "\n",
        "#train_X.drop([\"Fare\"],axis=1, inplace=True)\n",
        "#test_X.drop([\"Fare\"],axis=1, inplace=True)"
      ],
      "execution_count": null,
      "outputs": [
        {
          "output_type": "stream",
          "text": [
            "train is_null= 0\n",
            "test  is_null= 1\n"
          ],
          "name": "stdout"
        }
      ]
    },
    {
      "cell_type": "code",
      "metadata": {
        "id": "DjfogaFIFKwI",
        "outputId": "f488e43d-7367-4250-b44a-f8e4044b7c28",
        "colab": {
          "base_uri": "https://localhost:8080/",
          "height": 195
        }
      },
      "source": [
        "\n",
        "train_X.head()"
      ],
      "execution_count": null,
      "outputs": [
        {
          "output_type": "execute_result",
          "data": {
            "text/html": [
              "<div>\n",
              "<style scoped>\n",
              "    .dataframe tbody tr th:only-of-type {\n",
              "        vertical-align: middle;\n",
              "    }\n",
              "\n",
              "    .dataframe tbody tr th {\n",
              "        vertical-align: top;\n",
              "    }\n",
              "\n",
              "    .dataframe thead th {\n",
              "        text-align: right;\n",
              "    }\n",
              "</style>\n",
              "<table border=\"1\" class=\"dataframe\">\n",
              "  <thead>\n",
              "    <tr style=\"text-align: right;\">\n",
              "      <th></th>\n",
              "      <th>Pclass</th>\n",
              "      <th>Sex</th>\n",
              "      <th>Age</th>\n",
              "      <th>SibSp</th>\n",
              "      <th>Parch</th>\n",
              "      <th>Fare</th>\n",
              "      <th>Embarked</th>\n",
              "      <th>Title</th>\n",
              "      <th>Name_1</th>\n",
              "      <th>Name_3_is</th>\n",
              "      <th>Name_len</th>\n",
              "      <th>AgeNotNull</th>\n",
              "      <th>Ticket_Number</th>\n",
              "      <th>Ticket_Flag</th>\n",
              "    </tr>\n",
              "  </thead>\n",
              "  <tbody>\n",
              "    <tr>\n",
              "      <th>0</th>\n",
              "      <td>3</td>\n",
              "      <td>1</td>\n",
              "      <td>22.0</td>\n",
              "      <td>1</td>\n",
              "      <td>0</td>\n",
              "      <td>7.2500</td>\n",
              "      <td>2</td>\n",
              "      <td>11</td>\n",
              "      <td>73</td>\n",
              "      <td>0</td>\n",
              "      <td>23</td>\n",
              "      <td>1</td>\n",
              "      <td>162</td>\n",
              "      <td>True</td>\n",
              "    </tr>\n",
              "    <tr>\n",
              "      <th>1</th>\n",
              "      <td>1</td>\n",
              "      <td>0</td>\n",
              "      <td>38.0</td>\n",
              "      <td>1</td>\n",
              "      <td>0</td>\n",
              "      <td>71.2833</td>\n",
              "      <td>0</td>\n",
              "      <td>12</td>\n",
              "      <td>136</td>\n",
              "      <td>1</td>\n",
              "      <td>51</td>\n",
              "      <td>1</td>\n",
              "      <td>126</td>\n",
              "      <td>True</td>\n",
              "    </tr>\n",
              "    <tr>\n",
              "      <th>2</th>\n",
              "      <td>3</td>\n",
              "      <td>0</td>\n",
              "      <td>26.0</td>\n",
              "      <td>0</td>\n",
              "      <td>0</td>\n",
              "      <td>7.9250</td>\n",
              "      <td>2</td>\n",
              "      <td>8</td>\n",
              "      <td>251</td>\n",
              "      <td>0</td>\n",
              "      <td>22</td>\n",
              "      <td>1</td>\n",
              "      <td>343</td>\n",
              "      <td>True</td>\n",
              "    </tr>\n",
              "    <tr>\n",
              "      <th>3</th>\n",
              "      <td>1</td>\n",
              "      <td>0</td>\n",
              "      <td>35.0</td>\n",
              "      <td>1</td>\n",
              "      <td>0</td>\n",
              "      <td>53.1000</td>\n",
              "      <td>2</td>\n",
              "      <td>12</td>\n",
              "      <td>198</td>\n",
              "      <td>1</td>\n",
              "      <td>44</td>\n",
              "      <td>1</td>\n",
              "      <td>51</td>\n",
              "      <td>False</td>\n",
              "    </tr>\n",
              "    <tr>\n",
              "      <th>4</th>\n",
              "      <td>3</td>\n",
              "      <td>1</td>\n",
              "      <td>35.0</td>\n",
              "      <td>0</td>\n",
              "      <td>0</td>\n",
              "      <td>8.0500</td>\n",
              "      <td>2</td>\n",
              "      <td>11</td>\n",
              "      <td>11</td>\n",
              "      <td>0</td>\n",
              "      <td>24</td>\n",
              "      <td>1</td>\n",
              "      <td>595</td>\n",
              "      <td>False</td>\n",
              "    </tr>\n",
              "  </tbody>\n",
              "</table>\n",
              "</div>"
            ],
            "text/plain": [
              "   Pclass  Sex   Age  SibSp  ...  Name_len  AgeNotNull  Ticket_Number  Ticket_Flag\n",
              "0       3    1  22.0      1  ...        23           1            162         True\n",
              "1       1    0  38.0      1  ...        51           1            126         True\n",
              "2       3    0  26.0      0  ...        22           1            343         True\n",
              "3       1    0  35.0      1  ...        44           1             51        False\n",
              "4       3    1  35.0      0  ...        24           1            595        False\n",
              "\n",
              "[5 rows x 14 columns]"
            ]
          },
          "metadata": {
            "tags": []
          },
          "execution_count": 24
        }
      ]
    },
    {
      "cell_type": "markdown",
      "metadata": {
        "id": "qM8nkudsChZ9"
      },
      "source": [
        "### Feature scaling ###"
      ]
    },
    {
      "cell_type": "code",
      "metadata": {
        "id": "5f6qAjVsCjBc",
        "outputId": "410ecf98-e7b2-4af7-e4fd-a17e088c9bcf",
        "colab": {
          "base_uri": "https://localhost:8080/",
          "height": 34
        }
      },
      "source": [
        "from sklearn.preprocessing import StandardScaler\n",
        "standardScalerX = StandardScaler()\n",
        "\n",
        "#train_X.head()\n",
        "from sklearn.utils.class_weight import compute_class_weight\n",
        "def _compute_class_weight_dictionary(y):\n",
        "    # helper for returning a dictionary instead of an array\n",
        "    classes = np.unique(y)\n",
        "    class_weight = compute_class_weight(\"balanced\", classes, y)\n",
        "    class_weight_dict = dict(zip(classes, class_weight))\n",
        "    return class_weight_dict\n",
        "cw = _compute_class_weight_dictionary(train_y)\n",
        "\n",
        "train_X = pd.DataFrame(standardScalerX.fit_transform(train_X),columns = train_X.columns)\n",
        "test_X = pd.DataFrame(standardScalerX.fit_transform(test_X),columns = test_X.columns)\n",
        "\n",
        "cw"
      ],
      "execution_count": null,
      "outputs": [
        {
          "output_type": "execute_result",
          "data": {
            "text/plain": [
              "{0: 0.8114754098360656, 1: 1.3026315789473684}"
            ]
          },
          "metadata": {
            "tags": []
          },
          "execution_count": 25
        }
      ]
    },
    {
      "cell_type": "markdown",
      "metadata": {
        "id": "HgWcP3WKC8TO"
      },
      "source": [
        "### Model ###"
      ]
    },
    {
      "cell_type": "code",
      "metadata": {
        "id": "Lr8YmEF1Co17"
      },
      "source": [
        "from tensorflow.keras.models import Sequential\n",
        "from tensorflow.keras.layers import Dense, Dropout\n",
        "from sklearn.model_selection import StratifiedKFold\n",
        "from tensorflow.keras import optimizers\n",
        "from sklearn.metrics import mean_absolute_error\n",
        "from sklearn.model_selection import train_test_split"
      ],
      "execution_count": null,
      "outputs": []
    },
    {
      "cell_type": "code",
      "metadata": {
        "id": "4ezj888d5Q0A",
        "outputId": "56fe5f23-5454-4e7d-ab9d-9302eaf970b9",
        "colab": {
          "base_uri": "https://localhost:8080/",
          "height": 50
        }
      },
      "source": [
        "## Convert dataframe to numpy array\n",
        "X=train_X.to_numpy()\n",
        "Y=train_y.to_numpy()\n",
        "print('X shape:', X.shape)\n",
        "print('Y shape:', Y.shape)"
      ],
      "execution_count": null,
      "outputs": [
        {
          "output_type": "stream",
          "text": [
            "X shape: (891, 14)\n",
            "Y shape: (891,)\n"
          ],
          "name": "stdout"
        }
      ]
    },
    {
      "cell_type": "code",
      "metadata": {
        "id": "6km1lWMF2kAm",
        "outputId": "67f9c38c-37f9-4803-c740-42c8410a3861",
        "colab": {
          "base_uri": "https://localhost:8080/",
          "height": 134
        }
      },
      "source": [
        "\n",
        "# fix random seed for reproducibility\n",
        "seed = 7\n",
        "np.random.seed(seed)\n",
        "\n",
        "# Cross validation\n",
        "kfold = StratifiedKFold(n_splits=5, shuffle=True, random_state=1)\n",
        "cvscores = []\n",
        "\n",
        "for idx_train, idx_test in kfold.split(X, Y):\n",
        "  # create keras model\n",
        "  model = Sequential()\n",
        "  model.add(Dense(10, input_dim=14, activation='relu'))\n",
        "  model.add(Dense(9, activation='relu'))\n",
        "  model.add(Dense(8, activation='relu'))\n",
        "  model.add(Dense(7, activation='relu'))\n",
        "  model.add(Dense(7, activation='relu'))\n",
        "  model.add(Dense(6, activation='relu'))\n",
        "  model.add(Dense(5, activation='relu'))\n",
        "  model.add(Dense(4, activation='relu'))\n",
        "  model.add(Dense(1, activation='sigmoid'))\n",
        "\n",
        "\t# compile the keras model\n",
        "  model.compile(loss='binary_crossentropy', optimizer='adam', metrics=['accuracy'])\n",
        "\n",
        "\t# fit the keras model on the dataset\n",
        "  model.fit(X[idx_train], Y[idx_train], epochs=50, batch_size=10, verbose=0)\n",
        "\n",
        "\t# evaluate the model\n",
        "  #scores = model.evaluate(X[idx_test], Y[idx_test], verbose=0)\n",
        "  #print(\"%s: %.2f%%\" % (model.metrics_names[1], scores[1]*100))\n",
        "  #cvscores.append(scores[1] * 100)\n",
        "  _, accuracy = model.evaluate(X[idx_test], Y[idx_test], verbose=0)\n",
        "  print('Accuracy: %.2f' % (accuracy*100))\n",
        "  cvscores.append(accuracy * 100)\n",
        "print(\"Cross val accuracy: %.2f%% (+/- %.2f%%)\" % (np.mean(cvscores), np.std(cvscores)))\n",
        "preds_val = model.predict_classes(X)\n",
        "mae = mean_absolute_error(Y, preds_val)\n",
        "print('mae:', mae)\n"
      ],
      "execution_count": null,
      "outputs": [
        {
          "output_type": "stream",
          "text": [
            "Accuracy: 74.86\n",
            "Accuracy: 82.02\n",
            "Accuracy: 76.97\n",
            "Accuracy: 80.34\n",
            "Accuracy: 82.58\n",
            "Cross val accuracy: 79.35% (+/- 2.98%)\n",
            "mae: 0.11447811447811448\n"
          ],
          "name": "stdout"
        }
      ]
    },
    {
      "cell_type": "code",
      "metadata": {
        "id": "NuLj5X3Luu3G"
      },
      "source": [
        "def get_mae(layers, nodes, epochs, train_X, val_X, train_y, val_y):\n",
        "  # create keras model\n",
        "  model = Sequential()\n",
        "  model.add(Dense(nodes, input_dim=14, activation='relu'))\n",
        "  for i in range(1, layers - 1):\n",
        "    model.add(Dense(nodes, activation='relu'))\n",
        "  model.add(Dense(1, activation='sigmoid'))\n",
        "\n",
        "  # compile the keras model\n",
        "  model.compile(loss='binary_crossentropy', optimizer='adam', metrics=['accuracy'])\n",
        "\n",
        "  # fit the keras model on the dataset\n",
        "  model.fit(train_X, train_y, epochs=epochs, batch_size=10, verbose=0)\n",
        "\n",
        "  # predict\n",
        "  preds_val = model.predict_classes(val_X)\n",
        "  mae = mean_absolute_error(val_y, preds_val)\n",
        "  return (mae)\n",
        "\n",
        "def get_best_layers_count(nlayers, nodes, epochs, train_X, val_X, train_y, val_y):\n",
        "  maes = []\n",
        "  for layer in nlayers:\n",
        "    print('Trying', layer, 'layer,', nodes, 'nodes')\n",
        "    maes.append(get_mae(layer, nodes, epochs, train_X, val_X, train_y, val_y))\n",
        "  min_mae = min(maes)\n",
        "  \n",
        "  idx_min_mae = maes.index(min_mae)\n",
        "  best_layers_count = nlayers[idx_min_mae]\n",
        "  return best_layers_count, min_mae\n",
        "\n",
        "### split Data to train and validation sets ###\n",
        "tr_X, val_X, tr_y, val_y = train_test_split(train_X, train_y, random_state=1)\n",
        "\n",
        "nlayers = [x for x in range(15)]# + [30, 40, 50, 60, 70]\n",
        "nnodes = [x for x in range(1, 15)]\n",
        "epochs = [10, 50, 100, 200, 300]\n",
        "result_str_all = []\n",
        "for epoch in epochs:\n",
        "  for nodes in nnodes:\n",
        "    best_layers_count, min_mae = get_best_layers_count(nlayers, nodes, epoch, tr_X, val_X, tr_y, val_y)\n",
        "    result_str = \"{} epoch \\t {} layers \\t {} nodes \\t mae={}\".format(epoch, best_layers_count, nodes, round(min_mae, 5))\n",
        "    print(result_str)\n",
        "    result_str_all.append(result_str)\n",
        "\n",
        "for x in result_str_all:\n",
        "  print(x)\n"
      ],
      "execution_count": null,
      "outputs": []
    },
    {
      "cell_type": "code",
      "metadata": {
        "id": "W1xLuc4hKwNB"
      },
      "source": [
        "# evaluate the keras model\n",
        "_, accuracy = model.evaluate(X, Y)\n",
        "print('Model accuracy: %.2f' % (accuracy*100))"
      ],
      "execution_count": null,
      "outputs": []
    },
    {
      "cell_type": "code",
      "metadata": {
        "id": "n_Wll4niK4PH",
        "outputId": "5a462551-e69d-4278-e482-9675829421b5",
        "colab": {
          "base_uri": "https://localhost:8080/",
          "height": 50
        }
      },
      "source": [
        "# make class predictions with the model\n",
        "predictions = model.predict_classes(X)\n",
        "# Creating the Confusion Matrix\n",
        "from sklearn.metrics import confusion_matrix\n",
        "cm = confusion_matrix(Y, predictions)\n",
        "#plt.figure(figsize=(5,2))\n",
        "#sns.heatmap(cm, annot=True, cmap='Blues', fmt='g')\n",
        "cm"
      ],
      "execution_count": null,
      "outputs": [
        {
          "output_type": "execute_result",
          "data": {
            "text/plain": [
              "array([[505,  44],\n",
              "       [ 58, 284]])"
            ]
          },
          "metadata": {
            "tags": []
          },
          "execution_count": 59
        }
      ]
    },
    {
      "cell_type": "code",
      "metadata": {
        "id": "2DuGnKaiLY-H",
        "outputId": "17094a71-44c0-4a43-f3c1-a026575ed270",
        "colab": {
          "base_uri": "https://localhost:8080/",
          "height": 195
        }
      },
      "source": [
        "predictions = model.predict_classes(test_X)\n",
        "predictions = [x[0] for x in predictions]\n",
        "submission = pd.DataFrame({'PassengerId':test_data['PassengerId'],'Survived':predictions})\n",
        "submission.to_csv(\"submission.csv\", index=False)\n",
        "submission.tail()"
      ],
      "execution_count": null,
      "outputs": [
        {
          "output_type": "execute_result",
          "data": {
            "text/html": [
              "<div>\n",
              "<style scoped>\n",
              "    .dataframe tbody tr th:only-of-type {\n",
              "        vertical-align: middle;\n",
              "    }\n",
              "\n",
              "    .dataframe tbody tr th {\n",
              "        vertical-align: top;\n",
              "    }\n",
              "\n",
              "    .dataframe thead th {\n",
              "        text-align: right;\n",
              "    }\n",
              "</style>\n",
              "<table border=\"1\" class=\"dataframe\">\n",
              "  <thead>\n",
              "    <tr style=\"text-align: right;\">\n",
              "      <th></th>\n",
              "      <th>PassengerId</th>\n",
              "      <th>Survived</th>\n",
              "    </tr>\n",
              "  </thead>\n",
              "  <tbody>\n",
              "    <tr>\n",
              "      <th>413</th>\n",
              "      <td>1305</td>\n",
              "      <td>0</td>\n",
              "    </tr>\n",
              "    <tr>\n",
              "      <th>414</th>\n",
              "      <td>1306</td>\n",
              "      <td>1</td>\n",
              "    </tr>\n",
              "    <tr>\n",
              "      <th>415</th>\n",
              "      <td>1307</td>\n",
              "      <td>0</td>\n",
              "    </tr>\n",
              "    <tr>\n",
              "      <th>416</th>\n",
              "      <td>1308</td>\n",
              "      <td>0</td>\n",
              "    </tr>\n",
              "    <tr>\n",
              "      <th>417</th>\n",
              "      <td>1309</td>\n",
              "      <td>1</td>\n",
              "    </tr>\n",
              "  </tbody>\n",
              "</table>\n",
              "</div>"
            ],
            "text/plain": [
              "     PassengerId  Survived\n",
              "413         1305         0\n",
              "414         1306         1\n",
              "415         1307         0\n",
              "416         1308         0\n",
              "417         1309         1"
            ]
          },
          "metadata": {
            "tags": []
          },
          "execution_count": 58
        }
      ]
    }
  ]
}